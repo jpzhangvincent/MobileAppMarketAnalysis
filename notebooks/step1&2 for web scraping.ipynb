{
 "cells": [
  {
   "cell_type": "code",
   "execution_count": null,
   "metadata": {
    "collapsed": true
   },
   "outputs": [],
   "source": [
    "from urllib2 import Request, urlopen, HTTPError\n",
    "from urlparse import urlunparse, urlparse\n",
    "import json \n",
    "import pandas as pd\n",
    "from matplotlib import pyplot as plt\n",
    "import requests"
   ]
  },
  {
   "cell_type": "code",
   "execution_count": null,
   "metadata": {
    "collapsed": true
   },
   "outputs": [],
   "source": [
    "from bs4 import BeautifulSoup\n",
    "import urllib"
   ]
  },
  {
   "cell_type": "markdown",
   "metadata": {},
   "source": [
    "<b>step 1</b>"
   ]
  },
  {
   "cell_type": "code",
   "execution_count": null,
   "metadata": {
    "collapsed": true
   },
   "outputs": [],
   "source": [
    "r = urllib.urlopen('https://itunes.apple.com/us/genre/ios-books/id6018?mt=8').read()\n",
    "soup = BeautifulSoup(r)"
   ]
  },
  {
   "cell_type": "code",
   "execution_count": null,
   "metadata": {
    "collapsed": true
   },
   "outputs": [],
   "source": [
    "all_categories = soup.find_all(\"div\", class_=\"nav\")\n",
    "category_url = all_categories[0].find_all(class_ = \"top-level-genre\")\n",
    "categories_url = pd.DataFrame()\n",
    "for i in range(0,len(category_url)):\n",
    "    category = category_url[i].get_text()\n",
    "    url = category_url[i].attrs['href']\n",
    "    d = {'category':[category], 'url':[url]}\n",
    "    df = pd.DataFrame(d)\n",
    "    categories_url = categories_url.append(df, ignore_index = True)\n",
    "print categories_url"
   ]
  },
  {
   "cell_type": "markdown",
   "metadata": {},
   "source": [
    "<b>step2</b>"
   ]
  },
  {
   "cell_type": "code",
   "execution_count": null,
   "metadata": {
    "collapsed": true
   },
   "outputs": [],
   "source": [
    "def extract_apps(url):\n",
    "    r = urllib.urlopen(url).read()\n",
    "    soup = BeautifulSoup(r)\n",
    "    apps = soup.find_all(\"div\", class_=\"column\")\n",
    "    apps_link = apps[0].find_all('a')\n",
    "    column_first = pd.DataFrame()\n",
    "    for i in range(0,len(apps_link)):\n",
    "        app_name = apps_link[i].get_text()\n",
    "        url = apps_link[i].attrs['href']\n",
    "        d = {'category':[app_name], 'url':[url]}\n",
    "        df = pd.DataFrame(d)\n",
    "        column_first = column_first.append(df, ignore_index = True)\n",
    "    apps_link2 = apps[1].find_all('a')\n",
    "    column_second = pd.DataFrame()\n",
    "    for i in range(0,len(apps_link2)):\n",
    "        app_name = apps_link2[i].get_text()\n",
    "        url = apps_link2[i].attrs['href']\n",
    "        d = {'category':[app_name], 'url':[url]}\n",
    "        df = pd.DataFrame(d)\n",
    "        column_second = column_second.append(df, ignore_index = True)\n",
    "    apps_link3 = apps[2].find_all('a')\n",
    "    column_last = pd.DataFrame()\n",
    "    for i in range(0,len(apps_link3)):\n",
    "        app_name = apps_link3[i].get_text()\n",
    "        url = apps_link3[i].attrs['href']\n",
    "        d = {'category':[app_name], 'url':[url]}\n",
    "        df = pd.DataFrame(d)\n",
    "        column_last = column_last.append(df, ignore_index = True)\n",
    "    Final_app_link = pd.DataFrame()\n",
    "    Final_app_link = Final_app_link.append(column_first, ignore_index = True)\n",
    "    Final_app_link = Final_app_link.append(column_second, ignore_index = True)\n",
    "    Final_app_link = Final_app_link.append(column_last, ignore_index = True)\n",
    "    print Final_app_link"
   ]
  },
  {
   "cell_type": "code",
   "execution_count": null,
   "metadata": {
    "collapsed": true
   },
   "outputs": [],
   "source": [
    "extract_apps('https://itunes.apple.com/us/genre/ios-books/id6018?mt=8')"
   ]
  },
  {
   "cell_type": "code",
   "execution_count": null,
   "metadata": {
    "collapsed": true
   },
   "outputs": [],
   "source": []
  }
 ],
 "metadata": {
  "anaconda-cloud": {},
  "kernelspec": {
   "display_name": "Python [default]",
   "language": "python",
   "name": "python2"
  },
  "language_info": {
   "codemirror_mode": {
    "name": "ipython",
    "version": 2
   },
   "file_extension": ".py",
   "mimetype": "text/x-python",
   "name": "python",
   "nbconvert_exporter": "python",
   "pygments_lexer": "ipython2",
   "version": "2.7.12"
  }
 },
 "nbformat": 4,
 "nbformat_minor": 1
}
