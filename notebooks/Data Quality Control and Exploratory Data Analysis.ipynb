{
 "cells": [
  {
   "cell_type": "code",
   "execution_count": 1,
   "metadata": {
    "collapsed": true
   },
   "outputs": [],
   "source": [
    "import pandas as pd\n",
    "import numpy as np\n",
    "import matplotlib.pyplot as plt\n",
    "%matplotlib inline"
   ]
  },
  {
   "cell_type": "code",
   "execution_count": 2,
   "metadata": {
    "collapsed": false,
    "scrolled": true
   },
   "outputs": [
    {
     "data": {
      "text/html": [
       "<div>\n",
       "<table border=\"1\" class=\"dataframe\">\n",
       "  <thead>\n",
       "    <tr style=\"text-align: right;\">\n",
       "      <th></th>\n",
       "      <th>app</th>\n",
       "      <th>category</th>\n",
       "      <th>comment 1</th>\n",
       "      <th>comment 2</th>\n",
       "      <th>comment 3</th>\n",
       "      <th>current rating</th>\n",
       "      <th>current reviews</th>\n",
       "      <th>description</th>\n",
       "      <th>link</th>\n",
       "      <th>multiple devices</th>\n",
       "      <th>...</th>\n",
       "      <th>overall rating</th>\n",
       "      <th>overall reviews</th>\n",
       "      <th>price</th>\n",
       "      <th>rate 1</th>\n",
       "      <th>rate 2</th>\n",
       "      <th>rate 3</th>\n",
       "      <th>seller</th>\n",
       "      <th>user 1</th>\n",
       "      <th>user 2</th>\n",
       "      <th>user 3</th>\n",
       "    </tr>\n",
       "  </thead>\n",
       "  <tbody>\n",
       "    <tr>\n",
       "      <th>0</th>\n",
       "      <td>Kindle – Read eBooks, Magazines &amp; Textbooks</td>\n",
       "      <td>Books</td>\n",
       "      <td>Please focus on reading and listening experien...</td>\n",
       "      <td>I can't believe they added a clock in the last...</td>\n",
       "      <td>You guys did an amazing job updating it and co...</td>\n",
       "      <td>2.65152</td>\n",
       "      <td>66</td>\n",
       "      <td>Turn your iPhone or iPad into a Kindle with th...</td>\n",
       "      <td>https://itunes.apple.com/us/app/kindle-read-eb...</td>\n",
       "      <td>Y</td>\n",
       "      <td>...</td>\n",
       "      <td>3.5</td>\n",
       "      <td>245670</td>\n",
       "      <td>Free</td>\n",
       "      <td>2</td>\n",
       "      <td>1</td>\n",
       "      <td>5</td>\n",
       "      <td>AMZN Mobile LLC</td>\n",
       "      <td>LambdaExpression</td>\n",
       "      <td>Lorring</td>\n",
       "      <td>Prellvis</td>\n",
       "    </tr>\n",
       "    <tr>\n",
       "      <th>1</th>\n",
       "      <td>Audible – audio books, original series &amp; podcasts</td>\n",
       "      <td>Books</td>\n",
       "      <td>It's very enjoyable to be able to listen to a ...</td>\n",
       "      <td>Works great 99% of the time. When it didn't, t...</td>\n",
       "      <td>Audiobooks are a little bit expensive, but I l...</td>\n",
       "      <td>4.65113</td>\n",
       "      <td>1995</td>\n",
       "      <td>Welcome to Audible. We’re an Amazon company, a...</td>\n",
       "      <td>https://itunes.apple.com/us/app/audible-audio-...</td>\n",
       "      <td>Y</td>\n",
       "      <td>...</td>\n",
       "      <td>4</td>\n",
       "      <td>100917</td>\n",
       "      <td>Free</td>\n",
       "      <td>3</td>\n",
       "      <td>5</td>\n",
       "      <td>5</td>\n",
       "      <td>Audible, Inc.</td>\n",
       "      <td>Smuckitelly</td>\n",
       "      <td>Scorchedterra</td>\n",
       "      <td>vtalbot</td>\n",
       "    </tr>\n",
       "    <tr>\n",
       "      <th>2</th>\n",
       "      <td>Wattpad - Free Books and eBook Reader</td>\n",
       "      <td>Books</td>\n",
       "      <td>I am absolutely *in love* with Wattpad. Not on...</td>\n",
       "      <td>I love this app sooo much I won't be able to l...</td>\n",
       "      <td>I love wattpad! I really do! It's my favorite ...</td>\n",
       "      <td>4.59425</td>\n",
       "      <td>313</td>\n",
       "      <td>Discover Wattpad:At Wattpad, we’re connecting ...</td>\n",
       "      <td>https://itunes.apple.com/us/app/wattpad-free-b...</td>\n",
       "      <td>Y</td>\n",
       "      <td>...</td>\n",
       "      <td>4.5</td>\n",
       "      <td>236764</td>\n",
       "      <td>Free</td>\n",
       "      <td>3</td>\n",
       "      <td>4</td>\n",
       "      <td>5</td>\n",
       "      <td>Wattpad Corp</td>\n",
       "      <td>dg2017xx</td>\n",
       "      <td>RedPandaWorld</td>\n",
       "      <td>Kajdisksn</td>\n",
       "    </tr>\n",
       "    <tr>\n",
       "      <th>3</th>\n",
       "      <td>NOOK - Read Books, Magazines, Newspapers &amp; Comics</td>\n",
       "      <td>Books</td>\n",
       "      <td>I would give it 5 stars if the App would put t...</td>\n",
       "      <td>Glad to have Nook on my iPad but wish maneuver...</td>\n",
       "      <td>I love reading books electronically. Having un...</td>\n",
       "      <td>4.33955</td>\n",
       "      <td>1072</td>\n",
       "      <td>Get the FREE NOOK Reading App for your iPad, i...</td>\n",
       "      <td>https://itunes.apple.com/us/app/nook-read-book...</td>\n",
       "      <td>Y</td>\n",
       "      <td>...</td>\n",
       "      <td>4</td>\n",
       "      <td>55593</td>\n",
       "      <td>Free</td>\n",
       "      <td>4</td>\n",
       "      <td>3</td>\n",
       "      <td>3</td>\n",
       "      <td>Barnes&amp;Noble</td>\n",
       "      <td>Morgan737364737</td>\n",
       "      <td>Too old to tap</td>\n",
       "      <td>Rstocky7</td>\n",
       "    </tr>\n",
       "    <tr>\n",
       "      <th>4</th>\n",
       "      <td>HOOKED - Chat Stories</td>\n",
       "      <td>Books</td>\n",
       "      <td>Keeps you on the edge of your seat. If you lov...</td>\n",
       "      <td>It's a great app and I love the chills (even i...</td>\n",
       "      <td>I just got through the first three parter and ...</td>\n",
       "      <td>4.54263</td>\n",
       "      <td>129</td>\n",
       "      <td>HOOKED lets you read amazing chat stories FREE...</td>\n",
       "      <td>https://itunes.apple.com/us/app/hooked-chat-st...</td>\n",
       "      <td>Y</td>\n",
       "      <td>...</td>\n",
       "      <td>4.5</td>\n",
       "      <td>28004</td>\n",
       "      <td>Free</td>\n",
       "      <td>4</td>\n",
       "      <td>2</td>\n",
       "      <td>4</td>\n",
       "      <td>Telepathic Inc.</td>\n",
       "      <td>100% Honest Feedback</td>\n",
       "      <td>Abbidon</td>\n",
       "      <td>Gangrel_Bloodfang</td>\n",
       "    </tr>\n",
       "  </tbody>\n",
       "</table>\n",
       "<p>5 rows × 22 columns</p>\n",
       "</div>"
      ],
      "text/plain": [
       "                                                 app category  \\\n",
       "0        Kindle – Read eBooks, Magazines & Textbooks    Books   \n",
       "1  Audible – audio books, original series & podcasts    Books   \n",
       "2              Wattpad - Free Books and eBook Reader    Books   \n",
       "3  NOOK - Read Books, Magazines, Newspapers & Comics    Books   \n",
       "4                              HOOKED - Chat Stories    Books   \n",
       "\n",
       "                                           comment 1  \\\n",
       "0  Please focus on reading and listening experien...   \n",
       "1  It's very enjoyable to be able to listen to a ...   \n",
       "2  I am absolutely *in love* with Wattpad. Not on...   \n",
       "3  I would give it 5 stars if the App would put t...   \n",
       "4  Keeps you on the edge of your seat. If you lov...   \n",
       "\n",
       "                                           comment 2  \\\n",
       "0  I can't believe they added a clock in the last...   \n",
       "1  Works great 99% of the time. When it didn't, t...   \n",
       "2  I love this app sooo much I won't be able to l...   \n",
       "3  Glad to have Nook on my iPad but wish maneuver...   \n",
       "4  It's a great app and I love the chills (even i...   \n",
       "\n",
       "                                           comment 3 current rating  \\\n",
       "0  You guys did an amazing job updating it and co...        2.65152   \n",
       "1  Audiobooks are a little bit expensive, but I l...        4.65113   \n",
       "2  I love wattpad! I really do! It's my favorite ...        4.59425   \n",
       "3  I love reading books electronically. Having un...        4.33955   \n",
       "4  I just got through the first three parter and ...        4.54263   \n",
       "\n",
       "  current reviews                                        description  \\\n",
       "0              66  Turn your iPhone or iPad into a Kindle with th...   \n",
       "1            1995  Welcome to Audible. We’re an Amazon company, a...   \n",
       "2             313  Discover Wattpad:At Wattpad, we’re connecting ...   \n",
       "3            1072  Get the FREE NOOK Reading App for your iPad, i...   \n",
       "4             129  HOOKED lets you read amazing chat stories FREE...   \n",
       "\n",
       "                                                link multiple devices  \\\n",
       "0  https://itunes.apple.com/us/app/kindle-read-eb...                Y   \n",
       "1  https://itunes.apple.com/us/app/audible-audio-...                Y   \n",
       "2  https://itunes.apple.com/us/app/wattpad-free-b...                Y   \n",
       "3  https://itunes.apple.com/us/app/nook-read-book...                Y   \n",
       "4  https://itunes.apple.com/us/app/hooked-chat-st...                Y   \n",
       "\n",
       "         ...         overall rating overall reviews price rate 1 rate 2  \\\n",
       "0        ...                    3.5          245670  Free      2      1   \n",
       "1        ...                      4          100917  Free      3      5   \n",
       "2        ...                    4.5          236764  Free      3      4   \n",
       "3        ...                      4           55593  Free      4      3   \n",
       "4        ...                    4.5           28004  Free      4      2   \n",
       "\n",
       "  rate 3           seller                user 1          user 2  \\\n",
       "0      5  AMZN Mobile LLC      LambdaExpression         Lorring   \n",
       "1      5    Audible, Inc.           Smuckitelly   Scorchedterra   \n",
       "2      5     Wattpad Corp              dg2017xx   RedPandaWorld   \n",
       "3      3     Barnes&Noble       Morgan737364737  Too old to tap   \n",
       "4      4  Telepathic Inc.  100% Honest Feedback         Abbidon   \n",
       "\n",
       "              user 3  \n",
       "0           Prellvis  \n",
       "1            vtalbot  \n",
       "2          Kajdisksn  \n",
       "3           Rstocky7  \n",
       "4  Gangrel_Bloodfang  \n",
       "\n",
       "[5 rows x 22 columns]"
      ]
     },
     "execution_count": 2,
     "metadata": {},
     "output_type": "execute_result"
    }
   ],
   "source": [
    "app = pd.read_pickle('/Users/krystal/Desktop/app_clean.p')\n",
    "app = app.drop_duplicates()\n",
    "app.head()"
   ]
  },
  {
   "cell_type": "code",
   "execution_count": 97,
   "metadata": {
    "collapsed": false
   },
   "outputs": [
    {
     "data": {
      "text/plain": [
       "5894"
      ]
     },
     "execution_count": 97,
     "metadata": {},
     "output_type": "execute_result"
    }
   ],
   "source": [
    "len(app)"
   ]
  },
  {
   "cell_type": "markdown",
   "metadata": {},
   "source": [
    "<b>Categorical Variables</b>"
   ]
  },
  {
   "cell_type": "markdown",
   "metadata": {},
   "source": [
    "<p>In this part, frequency table for each categorical variable is made.</p>"
   ]
  },
  {
   "cell_type": "markdown",
   "metadata": {},
   "source": [
    "<b>Category</b>"
   ]
  },
  {
   "cell_type": "code",
   "execution_count": 31,
   "metadata": {
    "collapsed": true
   },
   "outputs": [],
   "source": [
    "def frequecy_table(var_name):\n",
    "    table = pd.DataFrame(app[var_name].value_counts())\n",
    "    table.reset_index(level = 0, inplace = True)\n",
    "    table['percentage'] = table[var_name]/table[var_name].sum()\n",
    "    return table"
   ]
  },
  {
   "cell_type": "code",
   "execution_count": 32,
   "metadata": {
    "collapsed": false,
    "scrolled": true
   },
   "outputs": [
    {
     "data": {
      "text/html": [
       "<div>\n",
       "<table border=\"1\" class=\"dataframe\">\n",
       "  <thead>\n",
       "    <tr style=\"text-align: right;\">\n",
       "      <th></th>\n",
       "      <th>index</th>\n",
       "      <th>category</th>\n",
       "      <th>percentage</th>\n",
       "    </tr>\n",
       "  </thead>\n",
       "  <tbody>\n",
       "    <tr>\n",
       "      <th>0</th>\n",
       "      <td>Games</td>\n",
       "      <td>380</td>\n",
       "      <td>0.064472</td>\n",
       "    </tr>\n",
       "    <tr>\n",
       "      <th>1</th>\n",
       "      <td>Lifestyle</td>\n",
       "      <td>327</td>\n",
       "      <td>0.055480</td>\n",
       "    </tr>\n",
       "    <tr>\n",
       "      <th>2</th>\n",
       "      <td>Entertainment</td>\n",
       "      <td>271</td>\n",
       "      <td>0.045979</td>\n",
       "    </tr>\n",
       "    <tr>\n",
       "      <th>3</th>\n",
       "      <td>News</td>\n",
       "      <td>264</td>\n",
       "      <td>0.044791</td>\n",
       "    </tr>\n",
       "    <tr>\n",
       "      <th>4</th>\n",
       "      <td>Health &amp; Fitness</td>\n",
       "      <td>258</td>\n",
       "      <td>0.043773</td>\n",
       "    </tr>\n",
       "    <tr>\n",
       "      <th>5</th>\n",
       "      <td>Photo &amp; Video</td>\n",
       "      <td>252</td>\n",
       "      <td>0.042755</td>\n",
       "    </tr>\n",
       "    <tr>\n",
       "      <th>6</th>\n",
       "      <td>Sports</td>\n",
       "      <td>252</td>\n",
       "      <td>0.042755</td>\n",
       "    </tr>\n",
       "    <tr>\n",
       "      <th>7</th>\n",
       "      <td>Food &amp; Drink</td>\n",
       "      <td>250</td>\n",
       "      <td>0.042416</td>\n",
       "    </tr>\n",
       "    <tr>\n",
       "      <th>8</th>\n",
       "      <td>Education</td>\n",
       "      <td>248</td>\n",
       "      <td>0.042077</td>\n",
       "    </tr>\n",
       "    <tr>\n",
       "      <th>9</th>\n",
       "      <td>Business</td>\n",
       "      <td>248</td>\n",
       "      <td>0.042077</td>\n",
       "    </tr>\n",
       "    <tr>\n",
       "      <th>10</th>\n",
       "      <td>Music</td>\n",
       "      <td>246</td>\n",
       "      <td>0.041737</td>\n",
       "    </tr>\n",
       "    <tr>\n",
       "      <th>11</th>\n",
       "      <td>Travel</td>\n",
       "      <td>245</td>\n",
       "      <td>0.041568</td>\n",
       "    </tr>\n",
       "    <tr>\n",
       "      <th>12</th>\n",
       "      <td>Books</td>\n",
       "      <td>244</td>\n",
       "      <td>0.041398</td>\n",
       "    </tr>\n",
       "    <tr>\n",
       "      <th>13</th>\n",
       "      <td>Social Networking</td>\n",
       "      <td>242</td>\n",
       "      <td>0.041059</td>\n",
       "    </tr>\n",
       "    <tr>\n",
       "      <th>14</th>\n",
       "      <td>Shopping</td>\n",
       "      <td>242</td>\n",
       "      <td>0.041059</td>\n",
       "    </tr>\n",
       "    <tr>\n",
       "      <th>15</th>\n",
       "      <td>Medical</td>\n",
       "      <td>241</td>\n",
       "      <td>0.040889</td>\n",
       "    </tr>\n",
       "    <tr>\n",
       "      <th>16</th>\n",
       "      <td>Productivity</td>\n",
       "      <td>241</td>\n",
       "      <td>0.040889</td>\n",
       "    </tr>\n",
       "    <tr>\n",
       "      <th>17</th>\n",
       "      <td>Reference</td>\n",
       "      <td>241</td>\n",
       "      <td>0.040889</td>\n",
       "    </tr>\n",
       "    <tr>\n",
       "      <th>18</th>\n",
       "      <td>Catalogs</td>\n",
       "      <td>240</td>\n",
       "      <td>0.040719</td>\n",
       "    </tr>\n",
       "    <tr>\n",
       "      <th>19</th>\n",
       "      <td>Finance</td>\n",
       "      <td>240</td>\n",
       "      <td>0.040719</td>\n",
       "    </tr>\n",
       "    <tr>\n",
       "      <th>20</th>\n",
       "      <td>Weather</td>\n",
       "      <td>240</td>\n",
       "      <td>0.040719</td>\n",
       "    </tr>\n",
       "    <tr>\n",
       "      <th>21</th>\n",
       "      <td>Utilities</td>\n",
       "      <td>240</td>\n",
       "      <td>0.040719</td>\n",
       "    </tr>\n",
       "    <tr>\n",
       "      <th>22</th>\n",
       "      <td>Navigation</td>\n",
       "      <td>240</td>\n",
       "      <td>0.040719</td>\n",
       "    </tr>\n",
       "    <tr>\n",
       "      <th>23</th>\n",
       "      <td>Magazines &amp; Newspapers</td>\n",
       "      <td>2</td>\n",
       "      <td>0.000339</td>\n",
       "    </tr>\n",
       "  </tbody>\n",
       "</table>\n",
       "</div>"
      ],
      "text/plain": [
       "                     index  category  percentage\n",
       "0                    Games       380    0.064472\n",
       "1                Lifestyle       327    0.055480\n",
       "2            Entertainment       271    0.045979\n",
       "3                     News       264    0.044791\n",
       "4         Health & Fitness       258    0.043773\n",
       "5            Photo & Video       252    0.042755\n",
       "6                   Sports       252    0.042755\n",
       "7             Food & Drink       250    0.042416\n",
       "8                Education       248    0.042077\n",
       "9                 Business       248    0.042077\n",
       "10                   Music       246    0.041737\n",
       "11                  Travel       245    0.041568\n",
       "12                   Books       244    0.041398\n",
       "13       Social Networking       242    0.041059\n",
       "14                Shopping       242    0.041059\n",
       "15                 Medical       241    0.040889\n",
       "16            Productivity       241    0.040889\n",
       "17               Reference       241    0.040889\n",
       "18                Catalogs       240    0.040719\n",
       "19                 Finance       240    0.040719\n",
       "20                 Weather       240    0.040719\n",
       "21               Utilities       240    0.040719\n",
       "22              Navigation       240    0.040719\n",
       "23  Magazines & Newspapers         2    0.000339"
      ]
     },
     "execution_count": 32,
     "metadata": {},
     "output_type": "execute_result"
    }
   ],
   "source": [
    "frequecy_table('category')"
   ]
  },
  {
   "cell_type": "markdown",
   "metadata": {},
   "source": [
    "<b>Multiple Languages</b>"
   ]
  },
  {
   "cell_type": "code",
   "execution_count": 33,
   "metadata": {
    "collapsed": false
   },
   "outputs": [
    {
     "data": {
      "text/html": [
       "<div>\n",
       "<table border=\"1\" class=\"dataframe\">\n",
       "  <thead>\n",
       "    <tr style=\"text-align: right;\">\n",
       "      <th></th>\n",
       "      <th>index</th>\n",
       "      <th>multiple languages</th>\n",
       "      <th>percentage</th>\n",
       "    </tr>\n",
       "  </thead>\n",
       "  <tbody>\n",
       "    <tr>\n",
       "      <th>0</th>\n",
       "      <td>N</td>\n",
       "      <td>3087</td>\n",
       "      <td>0.523753</td>\n",
       "    </tr>\n",
       "    <tr>\n",
       "      <th>1</th>\n",
       "      <td>Y</td>\n",
       "      <td>2807</td>\n",
       "      <td>0.476247</td>\n",
       "    </tr>\n",
       "  </tbody>\n",
       "</table>\n",
       "</div>"
      ],
      "text/plain": [
       "  index  multiple languages  percentage\n",
       "0     N                3087    0.523753\n",
       "1     Y                2807    0.476247"
      ]
     },
     "execution_count": 33,
     "metadata": {},
     "output_type": "execute_result"
    }
   ],
   "source": [
    "frequecy_table('multiple languages')"
   ]
  },
  {
   "cell_type": "markdown",
   "metadata": {},
   "source": [
    "<b>Price</b>"
   ]
  },
  {
   "cell_type": "code",
   "execution_count": 34,
   "metadata": {
    "collapsed": false,
    "scrolled": true
   },
   "outputs": [
    {
     "data": {
      "text/html": [
       "<div>\n",
       "<table border=\"1\" class=\"dataframe\">\n",
       "  <thead>\n",
       "    <tr style=\"text-align: right;\">\n",
       "      <th></th>\n",
       "      <th>index</th>\n",
       "      <th>price</th>\n",
       "      <th>percentage</th>\n",
       "    </tr>\n",
       "  </thead>\n",
       "  <tbody>\n",
       "    <tr>\n",
       "      <th>0</th>\n",
       "      <td>Free</td>\n",
       "      <td>5730</td>\n",
       "      <td>0.972175</td>\n",
       "    </tr>\n",
       "    <tr>\n",
       "      <th>1</th>\n",
       "      <td>$0.99</td>\n",
       "      <td>36</td>\n",
       "      <td>0.006108</td>\n",
       "    </tr>\n",
       "    <tr>\n",
       "      <th>2</th>\n",
       "      <td>$2.99</td>\n",
       "      <td>33</td>\n",
       "      <td>0.005599</td>\n",
       "    </tr>\n",
       "    <tr>\n",
       "      <th>3</th>\n",
       "      <td>$3.99</td>\n",
       "      <td>27</td>\n",
       "      <td>0.004581</td>\n",
       "    </tr>\n",
       "    <tr>\n",
       "      <th>4</th>\n",
       "      <td>$1.99</td>\n",
       "      <td>27</td>\n",
       "      <td>0.004581</td>\n",
       "    </tr>\n",
       "    <tr>\n",
       "      <th>5</th>\n",
       "      <td>$4.99</td>\n",
       "      <td>21</td>\n",
       "      <td>0.003563</td>\n",
       "    </tr>\n",
       "    <tr>\n",
       "      <th>6</th>\n",
       "      <td>$9.99</td>\n",
       "      <td>8</td>\n",
       "      <td>0.001357</td>\n",
       "    </tr>\n",
       "    <tr>\n",
       "      <th>7</th>\n",
       "      <td>$6.99</td>\n",
       "      <td>3</td>\n",
       "      <td>0.000509</td>\n",
       "    </tr>\n",
       "    <tr>\n",
       "      <th>8</th>\n",
       "      <td>$5.99</td>\n",
       "      <td>3</td>\n",
       "      <td>0.000509</td>\n",
       "    </tr>\n",
       "    <tr>\n",
       "      <th>9</th>\n",
       "      <td>$24.99</td>\n",
       "      <td>1</td>\n",
       "      <td>0.000170</td>\n",
       "    </tr>\n",
       "    <tr>\n",
       "      <th>10</th>\n",
       "      <td>$13.99</td>\n",
       "      <td>1</td>\n",
       "      <td>0.000170</td>\n",
       "    </tr>\n",
       "    <tr>\n",
       "      <th>11</th>\n",
       "      <td>$19.99</td>\n",
       "      <td>1</td>\n",
       "      <td>0.000170</td>\n",
       "    </tr>\n",
       "    <tr>\n",
       "      <th>12</th>\n",
       "      <td>$29.99</td>\n",
       "      <td>1</td>\n",
       "      <td>0.000170</td>\n",
       "    </tr>\n",
       "    <tr>\n",
       "      <th>13</th>\n",
       "      <td>$16.99</td>\n",
       "      <td>1</td>\n",
       "      <td>0.000170</td>\n",
       "    </tr>\n",
       "    <tr>\n",
       "      <th>14</th>\n",
       "      <td>$14.99</td>\n",
       "      <td>1</td>\n",
       "      <td>0.000170</td>\n",
       "    </tr>\n",
       "  </tbody>\n",
       "</table>\n",
       "</div>"
      ],
      "text/plain": [
       "     index  price  percentage\n",
       "0     Free   5730    0.972175\n",
       "1    $0.99     36    0.006108\n",
       "2    $2.99     33    0.005599\n",
       "3    $3.99     27    0.004581\n",
       "4    $1.99     27    0.004581\n",
       "5    $4.99     21    0.003563\n",
       "6    $9.99      8    0.001357\n",
       "7    $6.99      3    0.000509\n",
       "8    $5.99      3    0.000509\n",
       "9   $24.99      1    0.000170\n",
       "10  $13.99      1    0.000170\n",
       "11  $19.99      1    0.000170\n",
       "12  $29.99      1    0.000170\n",
       "13  $16.99      1    0.000170\n",
       "14  $14.99      1    0.000170"
      ]
     },
     "execution_count": 34,
     "metadata": {},
     "output_type": "execute_result"
    }
   ],
   "source": [
    "frequecy_table('price')"
   ]
  },
  {
   "cell_type": "markdown",
   "metadata": {},
   "source": [
    "<p>We can find that most apps are free, as a result, we may discard variable 'price' in the following analysis.</p>"
   ]
  },
  {
   "cell_type": "markdown",
   "metadata": {},
   "source": [
    "<b>Multiple Devices</b>"
   ]
  },
  {
   "cell_type": "code",
   "execution_count": 35,
   "metadata": {
    "collapsed": false
   },
   "outputs": [
    {
     "data": {
      "text/html": [
       "<div>\n",
       "<table border=\"1\" class=\"dataframe\">\n",
       "  <thead>\n",
       "    <tr style=\"text-align: right;\">\n",
       "      <th></th>\n",
       "      <th>index</th>\n",
       "      <th>multiple devices</th>\n",
       "      <th>percentage</th>\n",
       "    </tr>\n",
       "  </thead>\n",
       "  <tbody>\n",
       "    <tr>\n",
       "      <th>0</th>\n",
       "      <td>Y</td>\n",
       "      <td>5881</td>\n",
       "      <td>0.997794</td>\n",
       "    </tr>\n",
       "    <tr>\n",
       "      <th>1</th>\n",
       "      <td>N</td>\n",
       "      <td>13</td>\n",
       "      <td>0.002206</td>\n",
       "    </tr>\n",
       "  </tbody>\n",
       "</table>\n",
       "</div>"
      ],
      "text/plain": [
       "  index  multiple devices  percentage\n",
       "0     Y              5881    0.997794\n",
       "1     N                13    0.002206"
      ]
     },
     "execution_count": 35,
     "metadata": {},
     "output_type": "execute_result"
    }
   ],
   "source": [
    "frequecy_table('multiple devices')"
   ]
  },
  {
   "cell_type": "markdown",
   "metadata": {},
   "source": [
    "<p>We can find that most apps are multiple devices, as a result, we may discard variable 'multiple devices' in the following analysis.</p>"
   ]
  },
  {
   "cell_type": "markdown",
   "metadata": {},
   "source": [
    "<b>Continuous Variables</b>"
   ]
  },
  {
   "cell_type": "markdown",
   "metadata": {},
   "source": [
    "<p>In this part, for all continuous variables, mean, var, median, range, min value and max value are calculated, density plot is also made for each continuous variable.</p>"
   ]
  },
  {
   "cell_type": "markdown",
   "metadata": {},
   "source": [
    "<b>Current Rating</b>"
   ]
  },
  {
   "cell_type": "code",
   "execution_count": 71,
   "metadata": {
    "collapsed": true
   },
   "outputs": [],
   "source": [
    "def statistics(var_name):\n",
    "    table = []\n",
    "    for each in app[var_name]:\n",
    "        if each != '' and float(each) > 0:\n",
    "            table.append(float(each))\n",
    "    mean = np.mean(table)\n",
    "    var = np.var(table)\n",
    "    median = np.median(table)\n",
    "    range_1 = np.max(table) - np.min(table)\n",
    "    min_1 = np.min(table)\n",
    "    max_1 = np.max(table)\n",
    "    dict_1 = {'mean':mean, 'var':var, 'median':median, 'range':range_1, 'min':min_1, 'max':max_1}\n",
    "    summary_table = pd.DataFrame.from_dict(dict_1, orient='index').T\n",
    "    return summary_table"
   ]
  },
  {
   "cell_type": "code",
   "execution_count": 72,
   "metadata": {
    "collapsed": false
   },
   "outputs": [
    {
     "data": {
      "text/html": [
       "<div>\n",
       "<table border=\"1\" class=\"dataframe\">\n",
       "  <thead>\n",
       "    <tr style=\"text-align: right;\">\n",
       "      <th></th>\n",
       "      <th>min</th>\n",
       "      <th>max</th>\n",
       "      <th>median</th>\n",
       "      <th>range</th>\n",
       "      <th>var</th>\n",
       "      <th>mean</th>\n",
       "    </tr>\n",
       "  </thead>\n",
       "  <tbody>\n",
       "    <tr>\n",
       "      <th>0</th>\n",
       "      <td>1.0</td>\n",
       "      <td>5.0</td>\n",
       "      <td>4.18182</td>\n",
       "      <td>4.0</td>\n",
       "      <td>0.946402</td>\n",
       "      <td>3.838456</td>\n",
       "    </tr>\n",
       "  </tbody>\n",
       "</table>\n",
       "</div>"
      ],
      "text/plain": [
       "   min  max   median  range       var      mean\n",
       "0  1.0  5.0  4.18182    4.0  0.946402  3.838456"
      ]
     },
     "execution_count": 72,
     "metadata": {},
     "output_type": "execute_result"
    }
   ],
   "source": [
    "statistics('current rating')"
   ]
  },
  {
   "cell_type": "code",
   "execution_count": 92,
   "metadata": {
    "collapsed": true
   },
   "outputs": [],
   "source": [
    "def plot_density(var_name):\n",
    "    table = []\n",
    "    for each in app[var_name]:\n",
    "        if each != '' and float(each) > 0:\n",
    "            table.append(float(each))\n",
    "    table = pd.DataFrame(table)\n",
    "    table.plot(kind = \"density\") \n",
    "    plt.legend(labels = [var_name], loc='upper left')\n",
    "    plt.title('Distribution of %s'%(var_name))\n",
    "    plt.show()"
   ]
  },
  {
   "cell_type": "code",
   "execution_count": 93,
   "metadata": {
    "collapsed": false
   },
   "outputs": [
    {
     "data": {
      "image/png": "[encoded data removed]",
      "text/plain": [
       "<matplotlib.figure.Figure at 0x11b8779d0>"
      ]
     },
     "metadata": {},
     "output_type": "display_data"
    }
   ],
   "source": [
    "plot_density('current rating')"
   ]
  },
  {
   "cell_type": "markdown",
   "metadata": {},
   "source": [
    "<b>Current Reviews</b>"
   ]
  },
  {
   "cell_type": "code",
   "execution_count": 73,
   "metadata": {
    "collapsed": false
   },
   "outputs": [
    {
     "data": {
      "text/html": [
       "<div>\n",
       "<table border=\"1\" class=\"dataframe\">\n",
       "  <thead>\n",
       "    <tr style=\"text-align: right;\">\n",
       "      <th></th>\n",
       "      <th>min</th>\n",
       "      <th>max</th>\n",
       "      <th>median</th>\n",
       "      <th>range</th>\n",
       "      <th>var</th>\n",
       "      <th>mean</th>\n",
       "    </tr>\n",
       "  </thead>\n",
       "  <tbody>\n",
       "    <tr>\n",
       "      <th>0</th>\n",
       "      <td>5.0</td>\n",
       "      <td>111910.0</td>\n",
       "      <td>61.0</td>\n",
       "      <td>111905.0</td>\n",
       "      <td>1.275234e+07</td>\n",
       "      <td>593.843338</td>\n",
       "    </tr>\n",
       "  </tbody>\n",
       "</table>\n",
       "</div>"
      ],
      "text/plain": [
       "   min       max  median     range           var        mean\n",
       "0  5.0  111910.0    61.0  111905.0  1.275234e+07  593.843338"
      ]
     },
     "execution_count": 73,
     "metadata": {},
     "output_type": "execute_result"
    }
   ],
   "source": [
    "statistics('current reviews')"
   ]
  },
  {
   "cell_type": "code",
   "execution_count": 94,
   "metadata": {
    "collapsed": false
   },
   "outputs": [
    {
     "data": {
      "image/png": "[encoded data removed]",
      "text/plain": [
       "<matplotlib.figure.Figure at 0x11ba0fe10>"
      ]
     },
     "metadata": {},
     "output_type": "display_data"
    }
   ],
   "source": [
    "plot_density('current reviews')"
   ]
  },
  {
   "cell_type": "markdown",
   "metadata": {},
   "source": [
    "<b>Overall Rating</b>"
   ]
  },
  {
   "cell_type": "code",
   "execution_count": 74,
   "metadata": {
    "collapsed": false
   },
   "outputs": [
    {
     "data": {
      "text/html": [
       "<div>\n",
       "<table border=\"1\" class=\"dataframe\">\n",
       "  <thead>\n",
       "    <tr style=\"text-align: right;\">\n",
       "      <th></th>\n",
       "      <th>min</th>\n",
       "      <th>max</th>\n",
       "      <th>median</th>\n",
       "      <th>range</th>\n",
       "      <th>var</th>\n",
       "      <th>mean</th>\n",
       "    </tr>\n",
       "  </thead>\n",
       "  <tbody>\n",
       "    <tr>\n",
       "      <th>0</th>\n",
       "      <td>1.0</td>\n",
       "      <td>5.0</td>\n",
       "      <td>4.0</td>\n",
       "      <td>4.0</td>\n",
       "      <td>0.656913</td>\n",
       "      <td>3.782541</td>\n",
       "    </tr>\n",
       "  </tbody>\n",
       "</table>\n",
       "</div>"
      ],
      "text/plain": [
       "   min  max  median  range       var      mean\n",
       "0  1.0  5.0     4.0    4.0  0.656913  3.782541"
      ]
     },
     "execution_count": 74,
     "metadata": {},
     "output_type": "execute_result"
    }
   ],
   "source": [
    "statistics('overall rating')"
   ]
  },
  {
   "cell_type": "code",
   "execution_count": 95,
   "metadata": {
    "collapsed": false
   },
   "outputs": [
    {
     "data": {
      "image/png": "[encoded data removed]",
      "text/plain": [
       "<matplotlib.figure.Figure at 0x11b893e90>"
      ]
     },
     "metadata": {},
     "output_type": "display_data"
    }
   ],
   "source": [
    "plot_density('overall rating')"
   ]
  },
  {
   "cell_type": "markdown",
   "metadata": {},
   "source": [
    "<b>Overall Reviews</b>"
   ]
  },
  {
   "cell_type": "code",
   "execution_count": 75,
   "metadata": {
    "collapsed": false
   },
   "outputs": [
    {
     "data": {
      "text/html": [
       "<div>\n",
       "<table border=\"1\" class=\"dataframe\">\n",
       "  <thead>\n",
       "    <tr style=\"text-align: right;\">\n",
       "      <th></th>\n",
       "      <th>min</th>\n",
       "      <th>max</th>\n",
       "      <th>median</th>\n",
       "      <th>range</th>\n",
       "      <th>var</th>\n",
       "      <th>mean</th>\n",
       "    </tr>\n",
       "  </thead>\n",
       "  <tbody>\n",
       "    <tr>\n",
       "      <th>0</th>\n",
       "      <td>5.0</td>\n",
       "      <td>2959259.0</td>\n",
       "      <td>1776.5</td>\n",
       "      <td>2959254.0</td>\n",
       "      <td>7.773057e+09</td>\n",
       "      <td>19384.681849</td>\n",
       "    </tr>\n",
       "  </tbody>\n",
       "</table>\n",
       "</div>"
      ],
      "text/plain": [
       "   min        max  median      range           var          mean\n",
       "0  5.0  2959259.0  1776.5  2959254.0  7.773057e+09  19384.681849"
      ]
     },
     "execution_count": 75,
     "metadata": {},
     "output_type": "execute_result"
    }
   ],
   "source": [
    "statistics('overall reviews')"
   ]
  },
  {
   "cell_type": "code",
   "execution_count": 96,
   "metadata": {
    "collapsed": false
   },
   "outputs": [
    {
     "data": {
      "image/png": "[encoded data removed]",
      "text/plain": [
       "<matplotlib.figure.Figure at 0x11be3fb10>"
      ]
     },
     "metadata": {},
     "output_type": "display_data"
    }
   ],
   "source": [
    "plot_density('overall reviews')"
   ]
  },
  {
   "cell_type": "markdown",
   "metadata": {},
   "source": [
    "<p>We can see that only variables current reviews and overall reviews generally follow a normal distribution.</p>"
   ]
  },
  {
   "cell_type": "code",
   "execution_count": null,
   "metadata": {
    "collapsed": true
   },
   "outputs": [],
   "source": []
  }
 ],
 "metadata": {
  "anaconda-cloud": {},
  "kernelspec": {
   "display_name": "Python [default]",
   "language": "python",
   "name": "python2"
  },
  "language_info": {
   "codemirror_mode": {
    "name": "ipython",
    "version": 2
   },
   "file_extension": ".py",
   "mimetype": "text/x-python",
   "name": "python",
   "nbconvert_exporter": "python",
   "pygments_lexer": "ipython2",
   "version": "2.7.12"
  }
 },
 "nbformat": 4,
 "nbformat_minor": 2
}
