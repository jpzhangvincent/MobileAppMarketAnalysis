{
 "cells": [
  {
   "cell_type": "code",
   "execution_count": 318,
   "metadata": {
    "collapsed": false
   },
   "outputs": [],
   "source": [
    "import pandas"
   ]
  },
  {
   "cell_type": "code",
   "execution_count": 319,
   "metadata": {
    "collapsed": false
   },
   "outputs": [],
   "source": [
    "df = pandas.read_csv('frappe.csv', sep=\"\\t\")\n",
    "meta_app = pandas.read_csv('meta.csv', sep=\"\\t\")\n",
    "df = df.merge(meta_app, on='item')"
   ]
  },
  {
   "cell_type": "code",
   "execution_count": 320,
   "metadata": {
    "collapsed": true
   },
   "outputs": [],
   "source": [
    "import numpy as np\n",
    "import scipy.stats\n",
    "import scipy.spatial\n",
    "import math\n",
    "from math import sqrt"
   ]
  },
  {
   "cell_type": "code",
   "execution_count": 322,
   "metadata": {
    "collapsed": false
   },
   "outputs": [],
   "source": [
    "ui = np.zeros((957,4082))"
   ]
  },
  {
   "cell_type": "code",
   "execution_count": 323,
   "metadata": {
    "collapsed": false
   },
   "outputs": [],
   "source": [
    "for i in range(957):\n",
    "    ii = list(set(df.loc[df['user'] == i]['item']))\n",
    "    for j in ii:\n",
    "        dfi = df.loc[df['user'] == i]\n",
    "        dfij = dfi.loc[dfi['item'] == j]\n",
    "        rij = sum(dfij['cnt'])\n",
    "        ui[i,j] = rij"
   ]
  },
  {
   "cell_type": "code",
   "execution_count": 324,
   "metadata": {
    "collapsed": false
   },
   "outputs": [
    {
     "name": "stdout",
     "output_type": "stream",
     "text": [
      "[[  1.00000000e+00   0.00000000e+00   0.00000000e+00 ...,   0.00000000e+00\n",
      "    0.00000000e+00   0.00000000e+00]\n",
      " [  0.00000000e+00   4.42200000e+03   0.00000000e+00 ...,   0.00000000e+00\n",
      "    0.00000000e+00   0.00000000e+00]\n",
      " [  0.00000000e+00   0.00000000e+00   1.40000000e+01 ...,   0.00000000e+00\n",
      "    0.00000000e+00   0.00000000e+00]\n",
      " ..., \n",
      " [  0.00000000e+00   0.00000000e+00   0.00000000e+00 ...,   0.00000000e+00\n",
      "    0.00000000e+00   0.00000000e+00]\n",
      " [  0.00000000e+00   0.00000000e+00   0.00000000e+00 ...,   0.00000000e+00\n",
      "    0.00000000e+00   0.00000000e+00]\n",
      " [  0.00000000e+00   0.00000000e+00   0.00000000e+00 ...,   0.00000000e+00\n",
      "    0.00000000e+00   0.00000000e+00]]\n"
     ]
    }
   ],
   "source": [
    "print ui"
   ]
  },
  {
   "cell_type": "code",
   "execution_count": null,
   "metadata": {
    "collapsed": true
   },
   "outputs": [],
   "source": [
    "def simps(userd):\n",
    "    '''\n",
    "    It will accept the userd as arguments.\n",
    "    and return the ss as a list.\n",
    "    Input: userd (user's score for each app, array).\n",
    "    Output: ss (list of similarity scores for each user with the given user)\n",
    "    '''\n",
    "    ss = []\n",
    "    for i in range(957):\n",
    "        index = list(set(np.nonzero(ui[i,])[0])&set(np.nonzero(userd)[0])) #the app index for both rated\n",
    "        uset = ui[i,][index]\n",
    "        usen = userd[index]\n",
    "        if not uset.size:\n",
    "            rr = 0\n",
    "        else:\n",
    "            #use cosine distance to get the similarity score\n",
    "            xx = uset.dot(usen.T)\n",
    "            x1 = sqrt(sum([x**2 for x in uset]))\n",
    "            x2 = sqrt(sum([x**2 for x in usen]))\n",
    "            rr = xx/(x1*x2)\n",
    "        ss.append(rr)\n",
    "    return ss    "
   ]
  },
  {
   "cell_type": "code",
   "execution_count": 349,
   "metadata": {
    "collapsed": false
   },
   "outputs": [],
   "source": [
    "def rec(userd):\n",
    "    #unit the similarity score\n",
    "    usc = simps(userd)/sum(simps(userd))\n",
    "    isc = np.zeros((957,4082))\n",
    "    for i in range(957):\n",
    "        isc[i,] = ui[i,]*usc[i]\n",
    "    #get the recommend score for each app\n",
    "    iscf = np.sum(isc,axis = 0)\n",
    "    #remove the apps' score which the user has used\n",
    "    index = list(np.nonzero(userd)[0])\n",
    "    for j in index:\n",
    "        iscf[j] = 0\n",
    "    #recommend the highest score app to user\n",
    "    iid = scipy.argmax(iscf)\n",
    "    nre = set(df.loc[df['item'] == iid]['name'])\n",
    "    return nre    "
   ]
  },
  {
   "cell_type": "code",
   "execution_count": 352,
   "metadata": {
    "collapsed": false
   },
   "outputs": [
    {
     "data": {
      "text/plain": [
       "{'WhatsApp Messenger'}"
      ]
     },
     "execution_count": 352,
     "metadata": {},
     "output_type": "execute_result"
    }
   ],
   "source": [
    "rec(ui[0,])"
   ]
  },
  {
   "cell_type": "code",
   "execution_count": null,
   "metadata": {
    "collapsed": true
   },
   "outputs": [],
   "source": []
  }
 ],
 "metadata": {
  "anaconda-cloud": {},
  "kernelspec": {
   "display_name": "Python [default]",
   "language": "python",
   "name": "python2"
  },
  "language_info": {
   "codemirror_mode": {
    "name": "ipython",
    "version": 2
   },
   "file_extension": ".py",
   "mimetype": "text/x-python",
   "name": "python",
   "nbconvert_exporter": "python",
   "pygments_lexer": "ipython2",
   "version": "2.7.12"
  }
 },
 "nbformat": 4,
 "nbformat_minor": 1
}
