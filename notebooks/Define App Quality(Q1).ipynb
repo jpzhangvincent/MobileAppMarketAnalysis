{
 "cells": [
  {
   "cell_type": "code",
   "execution_count": 1,
   "metadata": {
    "collapsed": true
   },
   "outputs": [],
   "source": [
    "import numpy as np\n",
    "import pandas as pd\n",
    "import pymongo"
   ]
  },
  {
   "cell_type": "code",
   "execution_count": 2,
   "metadata": {
    "collapsed": true
   },
   "outputs": [],
   "source": [
    "def read_mongo(collection, query={}, host='localhost', port=27017, username=None, password=None, no_id=True):\n",
    "    \"\"\" Read from Mongo and Store into DataFrame \"\"\"\n",
    "    # Connect to MongoDB and Make a query to the specific DB and Collection\n",
    "    with pymongo.MongoClient(host, port) as client:\n",
    "        table = client.appstore[collection]\n",
    "        df = pd.DataFrame(list(table.find(query)))\n",
    "        \n",
    "    # Delete the _id\n",
    "    if no_id:\n",
    "        del df['_id']\n",
    "\n",
    "    return df"
   ]
  },
  {
   "cell_type": "code",
   "execution_count": 3,
   "metadata": {
    "collapsed": false
   },
   "outputs": [],
   "source": [
    "apps_df = read_mongo('appitems')"
   ]
  },
  {
   "cell_type": "code",
   "execution_count": 4,
   "metadata": {
    "collapsed": false
   },
   "outputs": [
    {
     "data": {
      "text/plain": [
       "(5658, 26)"
      ]
     },
     "execution_count": 4,
     "metadata": {},
     "output_type": "execute_result"
    }
   ],
   "source": [
    "apps_df.shape #5658 unique apps"
   ]
  },
  {
   "cell_type": "code",
   "execution_count": 5,
   "metadata": {
    "collapsed": false
   },
   "outputs": [
    {
     "data": {
      "text/html": [
       "<div>\n",
       "<table border=\"1\" class=\"dataframe\">\n",
       "  <thead>\n",
       "    <tr style=\"text-align: right;\">\n",
       "      <th></th>\n",
       "      <th>category</th>\n",
       "      <th>current_rating</th>\n",
       "      <th>description</th>\n",
       "      <th>id</th>\n",
       "      <th>is_InAppPurcased</th>\n",
       "      <th>is_multilingual</th>\n",
       "      <th>is_multiplatform</th>\n",
       "      <th>name</th>\n",
       "      <th>new_version_desc</th>\n",
       "      <th>num_current_rating</th>\n",
       "      <th>...</th>\n",
       "      <th>review2</th>\n",
       "      <th>review2_star</th>\n",
       "      <th>review3</th>\n",
       "      <th>review3_star</th>\n",
       "      <th>scrape_date</th>\n",
       "      <th>seller</th>\n",
       "      <th>size</th>\n",
       "      <th>update_date</th>\n",
       "      <th>url</th>\n",
       "      <th>version</th>\n",
       "    </tr>\n",
       "  </thead>\n",
       "  <tbody>\n",
       "    <tr>\n",
       "      <th>0</th>\n",
       "      <td>Books</td>\n",
       "      <td>NaN</td>\n",
       "      <td>~ ~ &gt;   A   m a g i c a l   f a n t a s y   - ...</td>\n",
       "      <td>616686830</td>\n",
       "      <td>1</td>\n",
       "      <td>0</td>\n",
       "      <td>0</td>\n",
       "      <td>The Little Mermaid - A Free Interactive Childr...</td>\n",
       "      <td>&gt;   H e y   T a b T a l e r s ,   g r e a t   ...</td>\n",
       "      <td>NaN</td>\n",
       "      <td>...</td>\n",
       "      <td>None</td>\n",
       "      <td>NaN</td>\n",
       "      <td>None</td>\n",
       "      <td>NaN</td>\n",
       "      <td>2017-03-11</td>\n",
       "      <td>TabTale LTD</td>\n",
       "      <td>75.0 MB</td>\n",
       "      <td>Oct 15, 2015</td>\n",
       "      <td>https://itunes.apple.com/us/app/little-mermaid...</td>\n",
       "      <td>1.4</td>\n",
       "    </tr>\n",
       "    <tr>\n",
       "      <th>1</th>\n",
       "      <td>Books</td>\n",
       "      <td>4.500</td>\n",
       "      <td></td>\n",
       "      <td>445211116</td>\n",
       "      <td>1</td>\n",
       "      <td>1</td>\n",
       "      <td>0</td>\n",
       "      <td>Obeikan Store</td>\n",
       "      <td></td>\n",
       "      <td>16.0</td>\n",
       "      <td>...</td>\n",
       "      <td>It's greet app .</td>\n",
       "      <td>5.0</td>\n",
       "      <td>None</td>\n",
       "      <td>NaN</td>\n",
       "      <td>2017-03-11</td>\n",
       "      <td>new Thinkers</td>\n",
       "      <td>32.6 MB</td>\n",
       "      <td>Jan 06, 2014</td>\n",
       "      <td>https://itunes.apple.com/us/app/obeikan-store/...</td>\n",
       "      <td>5.0</td>\n",
       "    </tr>\n",
       "    <tr>\n",
       "      <th>2</th>\n",
       "      <td>Books</td>\n",
       "      <td>NaN</td>\n",
       "      <td>W e i r d   &amp;   F u n n y   T o n g u e   T w ...</td>\n",
       "      <td>427342569</td>\n",
       "      <td>1</td>\n",
       "      <td>0</td>\n",
       "      <td>0</td>\n",
       "      <td>A-Z Tongue Twisters! The Best Fun &amp; Funny Atte...</td>\n",
       "      <td>U s e r   I n t e r f a c e   i m p r o v e m ...</td>\n",
       "      <td>NaN</td>\n",
       "      <td>...</td>\n",
       "      <td>I love it</td>\n",
       "      <td>5.0</td>\n",
       "      <td>None</td>\n",
       "      <td>NaN</td>\n",
       "      <td>2017-03-11</td>\n",
       "      <td>Michael Quach</td>\n",
       "      <td>9.7 MB</td>\n",
       "      <td>Sep 04, 2014</td>\n",
       "      <td>https://itunes.apple.com/us/app/z-tongue-twist...</td>\n",
       "      <td>2.2.5</td>\n",
       "    </tr>\n",
       "    <tr>\n",
       "      <th>3</th>\n",
       "      <td>Books</td>\n",
       "      <td>NaN</td>\n",
       "      <td></td>\n",
       "      <td>462186890</td>\n",
       "      <td>1</td>\n",
       "      <td>0</td>\n",
       "      <td>0</td>\n",
       "      <td>网易云阅读-电子书城免费小说新闻一站阅读</td>\n",
       "      <td>2 0 1 7</td>\n",
       "      <td>NaN</td>\n",
       "      <td>...</td>\n",
       "      <td></td>\n",
       "      <td>5.0</td>\n",
       "      <td></td>\n",
       "      <td>5.0</td>\n",
       "      <td>2017-03-11</td>\n",
       "      <td>NetEase (Hangzhou) Network Co., Ltd.</td>\n",
       "      <td>88.3 MB</td>\n",
       "      <td>Jan 20, 2017</td>\n",
       "      <td>https://itunes.apple.com/us/app/%E7%BD%91%E6%9...</td>\n",
       "      <td>5.2.4</td>\n",
       "    </tr>\n",
       "    <tr>\n",
       "      <th>4</th>\n",
       "      <td>Books</td>\n",
       "      <td>4.875</td>\n",
       "      <td>i P h o n e  i P a d...</td>\n",
       "      <td>952059546</td>\n",
       "      <td>1</td>\n",
       "      <td>0</td>\n",
       "      <td>0</td>\n",
       "      <td>微信读书</td>\n",
       "      <td>1 .</td>\n",
       "      <td>8.0</td>\n",
       "      <td>...</td>\n",
       "      <td>qq</td>\n",
       "      <td>4.0</td>\n",
       "      <td>1</td>\n",
       "      <td>5.0</td>\n",
       "      <td>2017-03-11</td>\n",
       "      <td>Tencent Technology (Shenzhen) Company Limited</td>\n",
       "      <td>75.4 MB</td>\n",
       "      <td>Feb 13, 2017</td>\n",
       "      <td>https://itunes.apple.com/us/app/%E5%BE%AE%E4%B...</td>\n",
       "      <td>1.5.2</td>\n",
       "    </tr>\n",
       "  </tbody>\n",
       "</table>\n",
       "<p>5 rows × 26 columns</p>\n",
       "</div>"
      ],
      "text/plain": [
       "  category  current_rating                                        description  \\\n",
       "0    Books             NaN  ~ ~ >   A   m a g i c a l   f a n t a s y   - ...   \n",
       "1    Books           4.500                                                      \n",
       "2    Books             NaN  W e i r d   &   F u n n y   T o n g u e   T w ...   \n",
       "3    Books             NaN                                                      \n",
       "4    Books           4.875                            i P h o n e  i P a d...   \n",
       "\n",
       "          id  is_InAppPurcased  is_multilingual  is_multiplatform  \\\n",
       "0  616686830                 1                0                 0   \n",
       "1  445211116                 1                1                 0   \n",
       "2  427342569                 1                0                 0   \n",
       "3  462186890                 1                0                 0   \n",
       "4  952059546                 1                0                 0   \n",
       "\n",
       "                                                name  \\\n",
       "0  The Little Mermaid - A Free Interactive Childr...   \n",
       "1                                      Obeikan Store   \n",
       "2  A-Z Tongue Twisters! The Best Fun & Funny Atte...   \n",
       "3                               网易云阅读-电子书城免费小说新闻一站阅读   \n",
       "4                                               微信读书   \n",
       "\n",
       "                                    new_version_desc  num_current_rating  \\\n",
       "0  >   H e y   T a b T a l e r s ,   g r e a t   ...                 NaN   \n",
       "1                                                                   16.0   \n",
       "2  U s e r   I n t e r f a c e   i m p r o v e m ...                 NaN   \n",
       "3                                       2 0 1 7                      NaN   \n",
       "4                                      1 .                           8.0   \n",
       "\n",
       "    ...              review2 review2_star review3 review3_star scrape_date  \\\n",
       "0   ...                 None          NaN    None          NaN  2017-03-11   \n",
       "1   ...     It's greet app .          5.0    None          NaN  2017-03-11   \n",
       "2   ...            I love it          5.0    None          NaN  2017-03-11   \n",
       "3   ...                               5.0                  5.0  2017-03-11   \n",
       "4   ...                   qq          4.0       1          5.0  2017-03-11   \n",
       "\n",
       "                                          seller     size   update_date  \\\n",
       "0                                    TabTale LTD  75.0 MB  Oct 15, 2015   \n",
       "1                                   new Thinkers  32.6 MB  Jan 06, 2014   \n",
       "2                                  Michael Quach   9.7 MB  Sep 04, 2014   \n",
       "3           NetEase (Hangzhou) Network Co., Ltd.  88.3 MB  Jan 20, 2017   \n",
       "4  Tencent Technology (Shenzhen) Company Limited  75.4 MB  Feb 13, 2017   \n",
       "\n",
       "                                                 url  version  \n",
       "0  https://itunes.apple.com/us/app/little-mermaid...      1.4  \n",
       "1  https://itunes.apple.com/us/app/obeikan-store/...      5.0  \n",
       "2  https://itunes.apple.com/us/app/z-tongue-twist...    2.2.5  \n",
       "3  https://itunes.apple.com/us/app/%E7%BD%91%E6%9...    5.2.4  \n",
       "4  https://itunes.apple.com/us/app/%E5%BE%AE%E4%B...    1.5.2  \n",
       "\n",
       "[5 rows x 26 columns]"
      ]
     },
     "execution_count": 5,
     "metadata": {},
     "output_type": "execute_result"
    }
   ],
   "source": [
    "apps_df.head()"
   ]
  },
  {
   "cell_type": "code",
   "execution_count": 6,
   "metadata": {
    "collapsed": false
   },
   "outputs": [
    {
     "data": {
      "text/plain": [
       "Index([u'category', u'current_rating', u'description', u'id',\n",
       "       u'is_InAppPurcased', u'is_multilingual', u'is_multiplatform', u'name',\n",
       "       u'new_version_desc', u'num_current_rating', u'num_overall_rating',\n",
       "       u'overall_rating', u'price', u'publish_date', u'review1',\n",
       "       u'review1_star', u'review2', u'review2_star', u'review3',\n",
       "       u'review3_star', u'scrape_date', u'seller', u'size', u'update_date',\n",
       "       u'url', u'version'],\n",
       "      dtype='object')"
      ]
     },
     "execution_count": 6,
     "metadata": {},
     "output_type": "execute_result"
    }
   ],
   "source": [
    "apps_df.columns"
   ]
  },
  {
   "cell_type": "code",
   "execution_count": null,
   "metadata": {
    "collapsed": true
   },
   "outputs": [],
   "source": [
    "apps_df.to_pickle()"
   ]
  }
 ],
 "metadata": {
  "kernelspec": {
   "display_name": "Python [conda root]",
   "language": "python",
   "name": "conda-root-py"
  },
  "language_info": {
   "codemirror_mode": {
    "name": "ipython",
    "version": 2
   },
   "file_extension": ".py",
   "mimetype": "text/x-python",
   "name": "python",
   "nbconvert_exporter": "python",
   "pygments_lexer": "ipython2",
   "version": "2.7.12"
  },
  "toc": {
   "colors": {
    "hover_highlight": "#DAA520",
    "running_highlight": "#FF0000",
    "selected_highlight": "#FFD700"
   },
   "moveMenuLeft": true,
   "nav_menu": {
    "height": "12px",
    "width": "252px"
   },
   "navigate_menu": true,
   "number_sections": true,
   "sideBar": true,
   "threshold": 4,
   "toc_cell": false,
   "toc_section_display": "block",
   "toc_window_display": false
  }
 },
 "nbformat": 4,
 "nbformat_minor": 2
}
