{
 "cells": [
  {
   "cell_type": "code",
   "execution_count": 1,
   "metadata": {
    "collapsed": true,
    "deletable": true,
    "editable": true
   },
   "outputs": [],
   "source": [
    "import pandas as pd\n",
    "import numpy as np\n",
    "import matplotlib.pyplot as plt\n",
    "%matplotlib inline"
   ]
  },
  {
   "cell_type": "code",
   "execution_count": 2,
   "metadata": {
    "collapsed": false,
    "deletable": true,
    "editable": true,
    "scrolled": true
   },
   "outputs": [
    {
     "data": {
      "text/html": [
       "<div>\n",
       "<table border=\"1\" class=\"dataframe\">\n",
       "  <thead>\n",
       "    <tr style=\"text-align: right;\">\n",
       "      <th></th>\n",
       "      <th>app</th>\n",
       "      <th>category</th>\n",
       "      <th>comment 1</th>\n",
       "      <th>comment 2</th>\n",
       "      <th>comment 3</th>\n",
       "      <th>current rating</th>\n",
       "      <th>current reviews</th>\n",
       "      <th>description</th>\n",
       "      <th>link</th>\n",
       "      <th>multiple devices</th>\n",
       "      <th>...</th>\n",
       "      <th>overall rating</th>\n",
       "      <th>overall reviews</th>\n",
       "      <th>price</th>\n",
       "      <th>rate 1</th>\n",
       "      <th>rate 2</th>\n",
       "      <th>rate 3</th>\n",
       "      <th>seller</th>\n",
       "      <th>user 1</th>\n",
       "      <th>user 2</th>\n",
       "      <th>user 3</th>\n",
       "    </tr>\n",
       "  </thead>\n",
       "  <tbody>\n",
       "    <tr>\n",
       "      <th>0</th>\n",
       "      <td>Kindle – Read eBooks, Magazines &amp; Textbooks</td>\n",
       "      <td>Books</td>\n",
       "      <td>Please focus on reading and listening experien...</td>\n",
       "      <td>I can't believe they added a clock in the last...</td>\n",
       "      <td>You guys did an amazing job updating it and co...</td>\n",
       "      <td>2.65152</td>\n",
       "      <td>66</td>\n",
       "      <td>Turn your iPhone or iPad into a Kindle with th...</td>\n",
       "      <td>https://itunes.apple.com/us/app/kindle-read-eb...</td>\n",
       "      <td>Y</td>\n",
       "      <td>...</td>\n",
       "      <td>3.5</td>\n",
       "      <td>245670</td>\n",
       "      <td>Free</td>\n",
       "      <td>2</td>\n",
       "      <td>1</td>\n",
       "      <td>5</td>\n",
       "      <td>AMZN Mobile LLC</td>\n",
       "      <td>LambdaExpression</td>\n",
       "      <td>Lorring</td>\n",
       "      <td>Prellvis</td>\n",
       "    </tr>\n",
       "    <tr>\n",
       "      <th>1</th>\n",
       "      <td>Audible – audio books, original series &amp; podcasts</td>\n",
       "      <td>Books</td>\n",
       "      <td>It's very enjoyable to be able to listen to a ...</td>\n",
       "      <td>Works great 99% of the time. When it didn't, t...</td>\n",
       "      <td>Audiobooks are a little bit expensive, but I l...</td>\n",
       "      <td>4.65113</td>\n",
       "      <td>1995</td>\n",
       "      <td>Welcome to Audible. We’re an Amazon company, a...</td>\n",
       "      <td>https://itunes.apple.com/us/app/audible-audio-...</td>\n",
       "      <td>Y</td>\n",
       "      <td>...</td>\n",
       "      <td>4</td>\n",
       "      <td>100917</td>\n",
       "      <td>Free</td>\n",
       "      <td>3</td>\n",
       "      <td>5</td>\n",
       "      <td>5</td>\n",
       "      <td>Audible, Inc.</td>\n",
       "      <td>Smuckitelly</td>\n",
       "      <td>Scorchedterra</td>\n",
       "      <td>vtalbot</td>\n",
       "    </tr>\n",
       "    <tr>\n",
       "      <th>2</th>\n",
       "      <td>Wattpad - Free Books and eBook Reader</td>\n",
       "      <td>Books</td>\n",
       "      <td>I am absolutely *in love* with Wattpad. Not on...</td>\n",
       "      <td>I love this app sooo much I won't be able to l...</td>\n",
       "      <td>I love wattpad! I really do! It's my favorite ...</td>\n",
       "      <td>4.59425</td>\n",
       "      <td>313</td>\n",
       "      <td>Discover Wattpad:At Wattpad, we’re connecting ...</td>\n",
       "      <td>https://itunes.apple.com/us/app/wattpad-free-b...</td>\n",
       "      <td>Y</td>\n",
       "      <td>...</td>\n",
       "      <td>4.5</td>\n",
       "      <td>236764</td>\n",
       "      <td>Free</td>\n",
       "      <td>3</td>\n",
       "      <td>4</td>\n",
       "      <td>5</td>\n",
       "      <td>Wattpad Corp</td>\n",
       "      <td>dg2017xx</td>\n",
       "      <td>RedPandaWorld</td>\n",
       "      <td>Kajdisksn</td>\n",
       "    </tr>\n",
       "    <tr>\n",
       "      <th>3</th>\n",
       "      <td>NOOK - Read Books, Magazines, Newspapers &amp; Comics</td>\n",
       "      <td>Books</td>\n",
       "      <td>I would give it 5 stars if the App would put t...</td>\n",
       "      <td>Glad to have Nook on my iPad but wish maneuver...</td>\n",
       "      <td>I love reading books electronically. Having un...</td>\n",
       "      <td>4.33955</td>\n",
       "      <td>1072</td>\n",
       "      <td>Get the FREE NOOK Reading App for your iPad, i...</td>\n",
       "      <td>https://itunes.apple.com/us/app/nook-read-book...</td>\n",
       "      <td>Y</td>\n",
       "      <td>...</td>\n",
       "      <td>4</td>\n",
       "      <td>55593</td>\n",
       "      <td>Free</td>\n",
       "      <td>4</td>\n",
       "      <td>3</td>\n",
       "      <td>3</td>\n",
       "      <td>Barnes&amp;Noble</td>\n",
       "      <td>Morgan737364737</td>\n",
       "      <td>Too old to tap</td>\n",
       "      <td>Rstocky7</td>\n",
       "    </tr>\n",
       "    <tr>\n",
       "      <th>4</th>\n",
       "      <td>HOOKED - Chat Stories</td>\n",
       "      <td>Books</td>\n",
       "      <td>Keeps you on the edge of your seat. If you lov...</td>\n",
       "      <td>It's a great app and I love the chills (even i...</td>\n",
       "      <td>I just got through the first three parter and ...</td>\n",
       "      <td>4.54263</td>\n",
       "      <td>129</td>\n",
       "      <td>HOOKED lets you read amazing chat stories FREE...</td>\n",
       "      <td>https://itunes.apple.com/us/app/hooked-chat-st...</td>\n",
       "      <td>Y</td>\n",
       "      <td>...</td>\n",
       "      <td>4.5</td>\n",
       "      <td>28004</td>\n",
       "      <td>Free</td>\n",
       "      <td>4</td>\n",
       "      <td>2</td>\n",
       "      <td>4</td>\n",
       "      <td>Telepathic Inc.</td>\n",
       "      <td>100% Honest Feedback</td>\n",
       "      <td>Abbidon</td>\n",
       "      <td>Gangrel_Bloodfang</td>\n",
       "    </tr>\n",
       "  </tbody>\n",
       "</table>\n",
       "<p>5 rows × 22 columns</p>\n",
       "</div>"
      ],
      "text/plain": [
       "                                                 app category  \\\n",
       "0        Kindle – Read eBooks, Magazines & Textbooks    Books   \n",
       "1  Audible – audio books, original series & podcasts    Books   \n",
       "2              Wattpad - Free Books and eBook Reader    Books   \n",
       "3  NOOK - Read Books, Magazines, Newspapers & Comics    Books   \n",
       "4                              HOOKED - Chat Stories    Books   \n",
       "\n",
       "                                           comment 1  \\\n",
       "0  Please focus on reading and listening experien...   \n",
       "1  It's very enjoyable to be able to listen to a ...   \n",
       "2  I am absolutely *in love* with Wattpad. Not on...   \n",
       "3  I would give it 5 stars if the App would put t...   \n",
       "4  Keeps you on the edge of your seat. If you lov...   \n",
       "\n",
       "                                           comment 2  \\\n",
       "0  I can't believe they added a clock in the last...   \n",
       "1  Works great 99% of the time. When it didn't, t...   \n",
       "2  I love this app sooo much I won't be able to l...   \n",
       "3  Glad to have Nook on my iPad but wish maneuver...   \n",
       "4  It's a great app and I love the chills (even i...   \n",
       "\n",
       "                                           comment 3 current rating  \\\n",
       "0  You guys did an amazing job updating it and co...        2.65152   \n",
       "1  Audiobooks are a little bit expensive, but I l...        4.65113   \n",
       "2  I love wattpad! I really do! It's my favorite ...        4.59425   \n",
       "3  I love reading books electronically. Having un...        4.33955   \n",
       "4  I just got through the first three parter and ...        4.54263   \n",
       "\n",
       "  current reviews                                        description  \\\n",
       "0              66  Turn your iPhone or iPad into a Kindle with th...   \n",
       "1            1995  Welcome to Audible. We’re an Amazon company, a...   \n",
       "2             313  Discover Wattpad:At Wattpad, we’re connecting ...   \n",
       "3            1072  Get the FREE NOOK Reading App for your iPad, i...   \n",
       "4             129  HOOKED lets you read amazing chat stories FREE...   \n",
       "\n",
       "                                                link multiple devices  \\\n",
       "0  https://itunes.apple.com/us/app/kindle-read-eb...                Y   \n",
       "1  https://itunes.apple.com/us/app/audible-audio-...                Y   \n",
       "2  https://itunes.apple.com/us/app/wattpad-free-b...                Y   \n",
       "3  https://itunes.apple.com/us/app/nook-read-book...                Y   \n",
       "4  https://itunes.apple.com/us/app/hooked-chat-st...                Y   \n",
       "\n",
       "         ...         overall rating overall reviews price rate 1 rate 2  \\\n",
       "0        ...                    3.5          245670  Free      2      1   \n",
       "1        ...                      4          100917  Free      3      5   \n",
       "2        ...                    4.5          236764  Free      3      4   \n",
       "3        ...                      4           55593  Free      4      3   \n",
       "4        ...                    4.5           28004  Free      4      2   \n",
       "\n",
       "  rate 3           seller                user 1          user 2  \\\n",
       "0      5  AMZN Mobile LLC      LambdaExpression         Lorring   \n",
       "1      5    Audible, Inc.           Smuckitelly   Scorchedterra   \n",
       "2      5     Wattpad Corp              dg2017xx   RedPandaWorld   \n",
       "3      3     Barnes&Noble       Morgan737364737  Too old to tap   \n",
       "4      4  Telepathic Inc.  100% Honest Feedback         Abbidon   \n",
       "\n",
       "              user 3  \n",
       "0           Prellvis  \n",
       "1            vtalbot  \n",
       "2          Kajdisksn  \n",
       "3           Rstocky7  \n",
       "4  Gangrel_Bloodfang  \n",
       "\n",
       "[5 rows x 22 columns]"
      ]
     },
     "execution_count": 2,
     "metadata": {},
     "output_type": "execute_result"
    }
   ],
   "source": [
    "app = pd.read_pickle('/Users/krystal/Desktop/app_clean.p')\n",
    "app.head()"
   ]
  },
  {
   "cell_type": "code",
   "execution_count": null,
   "metadata": {
    "collapsed": false,
    "deletable": true,
    "editable": true
   },
   "outputs": [],
   "source": [
    "app = app.drop_duplicates()\n"
   ]
  },
  {
   "cell_type": "code",
   "execution_count": 4,
   "metadata": {
    "collapsed": true,
    "deletable": true,
    "editable": true
   },
   "outputs": [],
   "source": [
    "app['overall reviews'] = map(lambda x: int(x) if x!='' else np.nan, app['overall reviews'])\n",
    "app['overall rating'] = map(lambda x: float(x) if x!='' else np.nan, app['overall rating'])\n",
    "app['current rating'] = map(lambda x: float(x) if x!='' else np.nan, app['current rating'])"
   ]
  },
  {
   "cell_type": "markdown",
   "metadata": {
    "deletable": true,
    "editable": true
   },
   "source": [
    "<b>Question 4 Do multiple languages influent the reviews of apps?</b>"
   ]
  },
  {
   "cell_type": "code",
   "execution_count": 84,
   "metadata": {
    "collapsed": false,
    "deletable": true,
    "editable": true
   },
   "outputs": [
    {
     "data": {
      "image/png": "[encoded data removed]",
      "text/plain": [
       "<matplotlib.figure.Figure at 0x11cc033d0>"
      ]
     },
     "metadata": {},
     "output_type": "display_data"
    }
   ],
   "source": [
    "multi_language = app.loc[app['multiple languages'] == 'Y']\n",
    "sin_language = app.loc[app['multiple languages'] == 'N']\n",
    "multi_language['overall rating'].plot(kind = \"density\")\n",
    "sin_language['overall rating'].plot(kind = \"density\")\n",
    "plt.xlabel('Overall Rating')\n",
    "plt.legend(labels = ['multiple languages','single language'], loc='upper right')\n",
    "plt.title('Distribution of overall rating among apps with multiple/single languages')\n",
    "plt.show()"
   ]
  },
  {
   "cell_type": "markdown",
   "metadata": {
    "deletable": true,
    "editable": true
   },
   "source": [
    "<p>First, the data set is splitted into two parts, one is app with multiple languages and another is app with single language. Then the density plots for the two subsets are made and from the plots we can see that the overall rating of apps with multiple languages is generally higher than the overall rating of apps with single language. Some specific tests are still needed to perform.</p>"
   ]
  },
  {
   "cell_type": "code",
   "execution_count": 10,
   "metadata": {
    "collapsed": true,
    "deletable": true,
    "editable": true
   },
   "outputs": [],
   "source": [
    "import scipy.stats"
   ]
  },
  {
   "cell_type": "code",
   "execution_count": 85,
   "metadata": {
    "collapsed": false,
    "deletable": true,
    "editable": true
   },
   "outputs": [],
   "source": [
    "multi_language = list(multi_language['overall rating'])\n",
    "sin_language = list(sin_language['overall rating'])"
   ]
  },
  {
   "cell_type": "code",
   "execution_count": 86,
   "metadata": {
    "collapsed": false,
    "deletable": true,
    "editable": true
   },
   "outputs": [],
   "source": [
    "multiple = []\n",
    "single = []\n",
    "for each in multi_language:\n",
    "    if each > 0:\n",
    "        multiple.append(each)\n",
    "for each in sin_language:\n",
    "    if each > 0:\n",
    "        single.append(each)"
   ]
  },
  {
   "cell_type": "code",
   "execution_count": 97,
   "metadata": {
    "collapsed": false,
    "deletable": true,
    "editable": true
   },
   "outputs": [
    {
     "name": "stdout",
     "output_type": "stream",
     "text": [
      "3.89935414424\n",
      "3.67477656405\n"
     ]
    }
   ],
   "source": [
    "print(np.mean(multiple))\n",
    "print(np.mean(single))"
   ]
  },
  {
   "cell_type": "code",
   "execution_count": 90,
   "metadata": {
    "collapsed": false,
    "deletable": true,
    "editable": true
   },
   "outputs": [
    {
     "data": {
      "text/plain": [
       "Ttest_indResult(statistic=10.700746078523993, pvalue=1.7812330368645647e-26)"
      ]
     },
     "execution_count": 90,
     "metadata": {},
     "output_type": "execute_result"
    }
   ],
   "source": [
    "scipy.stats.ttest_ind(multiple, single, equal_var = False)"
   ]
  },
  {
   "cell_type": "markdown",
   "metadata": {
    "deletable": true,
    "editable": true
   },
   "source": [
    "<p>I perform t test here. We have two samples here, one is apps with multiple languages and another is apps with single language. So I want to test whether the mean overall rating for these two samples are different.</p>\n",
    "\n",
    "<p>The null hypothesis is mean overall rating for apps with multiple languages and mean overall rating for apps with single language are the same and the alternative hypothesis is that the mean overall rating for these two samples are not the same.</p>\n",
    "\n",
    "<p>From the result we can see that the p value is 1.7812330368645647e-26, which is smaller than 0.05, so we should reject null hypothesis at significance level 0.05, that is, we should conclude that the mean of overall rating for these two samples are not the same and multiple languages do influent the rating of an app.</p>"
   ]
  },
  {
   "cell_type": "code",
   "execution_count": 98,
   "metadata": {
    "collapsed": false,
    "deletable": true,
    "editable": true
   },
   "outputs": [
    {
     "data": {
      "text/plain": [
       "F_onewayResult(statistic=113.43305985218532, pvalue=3.0259308024434954e-26)"
      ]
     },
     "execution_count": 98,
     "metadata": {},
     "output_type": "execute_result"
    }
   ],
   "source": [
    "scipy.stats.f_oneway(multiple, single)"
   ]
  },
  {
   "cell_type": "markdown",
   "metadata": {
    "deletable": true,
    "editable": true
   },
   "source": [
    "<p>I also perform one-way ANOVA test here.</p>\n",
    "\n",
    "<p>The null hypothesis is mean overall rating for apps with multiple languages and mean overall rating for apps with single language are the same and the alternative hypothesis is that the mean overall rating for these two samples are not the same.</p>\n",
    "\n",
    "<p>From the result we can see that the p value is 3.0259308024434954e-26, which is smaller than 0.05, so we should reject null hypothesis at significance level 0.05, that is, we should conclude that the mean of overall rating for these two samples are not the same and multiple languages do influent the rating of an app.</p>"
   ]
  },
  {
   "cell_type": "code",
   "execution_count": 99,
   "metadata": {
    "collapsed": false,
    "deletable": true,
    "editable": true
   },
   "outputs": [
    {
     "data": {
      "text/plain": [
       "KruskalResult(statistic=107.25789207269921, pvalue=3.9085109588433391e-25)"
      ]
     },
     "execution_count": 99,
     "metadata": {},
     "output_type": "execute_result"
    }
   ],
   "source": [
    "scipy.stats.kruskal(multiple, single)"
   ]
  },
  {
   "cell_type": "markdown",
   "metadata": {
    "deletable": true,
    "editable": true
   },
   "source": [
    "<p>I perform Kruskal-Wallis H-test here, which is a non-parametric version of ANOVA. Since t test and one-way ANOVA test all need assumption that the samples shoule come from a normally distributed population, here we use this test, which do not need these assumptions but will lose some power.</p>\n",
    "\n",
    "<p>The null hypothesis is mean overall rating for apps with multiple languages and mean overall rating for apps with single language are the same and the alternative hypothesis is that the mean overall rating for these two samples are not the same.</p>\n",
    "\n",
    "<p>From the result we can see that the p value is 3.9085109588433391e-25, which is smaller than 0.05, so we should reject null hypothesis at significance level 0.05, that is, we should conclude that the mean of overall rating for these two samples are not the same and multiple languages do influent the rating of an app.</p>"
   ]
  },
  {
   "cell_type": "markdown",
   "metadata": {
    "deletable": true,
    "editable": true
   },
   "source": [
    "<b>In general, from the results in these three tests, we can conclude that whether providing multiple languages can influent the rating of an app and the association needs further exploration.</b>"
   ]
  },
  {
   "cell_type": "code",
   "execution_count": null,
   "metadata": {
    "collapsed": true,
    "deletable": true,
    "editable": true
   },
   "outputs": [],
   "source": []
  }
 ],
 "metadata": {
  "kernelspec": {
   "display_name": "Python 2",
   "language": "python",
   "name": "python2"
  },
  "language_info": {
   "codemirror_mode": {
    "name": "ipython",
    "version": 2
   },
   "file_extension": ".py",
   "mimetype": "text/x-python",
   "name": "python",
   "nbconvert_exporter": "python",
   "pygments_lexer": "ipython2",
   "version": "2.7.13"
  }
 },
 "nbformat": 4,
 "nbformat_minor": 2
}
