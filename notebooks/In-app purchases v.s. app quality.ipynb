{
 "cells": [
  {
   "cell_type": "code",
   "execution_count": 1,
   "metadata": {
    "collapsed": true,
    "deletable": true,
    "editable": true
   },
   "outputs": [],
   "source": [
    "import pandas as pd\n",
    "import numpy as np\n",
    "import matplotlib.pyplot as plt\n",
    "%matplotlib inline"
   ]
  },
  {
   "cell_type": "code",
   "execution_count": 3,
   "metadata": {
    "collapsed": false,
    "deletable": true,
    "editable": true,
    "scrolled": true
   },
   "outputs": [
    {
     "data": {
      "text/html": [
       "<div>\n",
       "<table border=\"1\" class=\"dataframe\">\n",
       "  <thead>\n",
       "    <tr style=\"text-align: right;\">\n",
       "      <th></th>\n",
       "      <th>category</th>\n",
       "      <th>current_rating</th>\n",
       "      <th>description</th>\n",
       "      <th>id</th>\n",
       "      <th>is_InAppPurcased</th>\n",
       "      <th>is_multilingual</th>\n",
       "      <th>is_multiplatform</th>\n",
       "      <th>name</th>\n",
       "      <th>new_version_desc</th>\n",
       "      <th>num_current_rating</th>\n",
       "      <th>...</th>\n",
       "      <th>review2</th>\n",
       "      <th>review2_star</th>\n",
       "      <th>review3</th>\n",
       "      <th>review3_star</th>\n",
       "      <th>scrape_date</th>\n",
       "      <th>seller</th>\n",
       "      <th>size</th>\n",
       "      <th>update_date</th>\n",
       "      <th>url</th>\n",
       "      <th>version</th>\n",
       "    </tr>\n",
       "  </thead>\n",
       "  <tbody>\n",
       "    <tr>\n",
       "      <th>0</th>\n",
       "      <td>Books</td>\n",
       "      <td>NaN</td>\n",
       "      <td>~ ~ &gt;   A   m a g i c a l   f a n t a s y   - ...</td>\n",
       "      <td>616686830</td>\n",
       "      <td>1</td>\n",
       "      <td>0</td>\n",
       "      <td>0</td>\n",
       "      <td>The Little Mermaid - A Free Interactive Childr...</td>\n",
       "      <td>&gt;   H e y   T a b T a l e r s ,   g r e a t   ...</td>\n",
       "      <td>NaN</td>\n",
       "      <td>...</td>\n",
       "      <td>None</td>\n",
       "      <td>NaN</td>\n",
       "      <td>None</td>\n",
       "      <td>NaN</td>\n",
       "      <td>2017-03-11</td>\n",
       "      <td>TabTale LTD</td>\n",
       "      <td>75.0 MB</td>\n",
       "      <td>Oct 15, 2015</td>\n",
       "      <td>https://itunes.apple.com/us/app/little-mermaid...</td>\n",
       "      <td>1.4</td>\n",
       "    </tr>\n",
       "    <tr>\n",
       "      <th>1</th>\n",
       "      <td>Books</td>\n",
       "      <td>4.500</td>\n",
       "      <td></td>\n",
       "      <td>445211116</td>\n",
       "      <td>1</td>\n",
       "      <td>1</td>\n",
       "      <td>0</td>\n",
       "      <td>Obeikan Store</td>\n",
       "      <td></td>\n",
       "      <td>16.0</td>\n",
       "      <td>...</td>\n",
       "      <td>It's greet app .</td>\n",
       "      <td>5.0</td>\n",
       "      <td>None</td>\n",
       "      <td>NaN</td>\n",
       "      <td>2017-03-11</td>\n",
       "      <td>new Thinkers</td>\n",
       "      <td>32.6 MB</td>\n",
       "      <td>Jan 06, 2014</td>\n",
       "      <td>https://itunes.apple.com/us/app/obeikan-store/...</td>\n",
       "      <td>5.0</td>\n",
       "    </tr>\n",
       "    <tr>\n",
       "      <th>2</th>\n",
       "      <td>Books</td>\n",
       "      <td>NaN</td>\n",
       "      <td>W e i r d   &amp;   F u n n y   T o n g u e   T w ...</td>\n",
       "      <td>427342569</td>\n",
       "      <td>1</td>\n",
       "      <td>0</td>\n",
       "      <td>0</td>\n",
       "      <td>A-Z Tongue Twisters! The Best Fun &amp; Funny Atte...</td>\n",
       "      <td>U s e r   I n t e r f a c e   i m p r o v e m ...</td>\n",
       "      <td>NaN</td>\n",
       "      <td>...</td>\n",
       "      <td>I love it</td>\n",
       "      <td>5.0</td>\n",
       "      <td>None</td>\n",
       "      <td>NaN</td>\n",
       "      <td>2017-03-11</td>\n",
       "      <td>Michael Quach</td>\n",
       "      <td>9.7 MB</td>\n",
       "      <td>Sep 04, 2014</td>\n",
       "      <td>https://itunes.apple.com/us/app/z-tongue-twist...</td>\n",
       "      <td>2.2.5</td>\n",
       "    </tr>\n",
       "    <tr>\n",
       "      <th>3</th>\n",
       "      <td>Books</td>\n",
       "      <td>NaN</td>\n",
       "      <td></td>\n",
       "      <td>462186890</td>\n",
       "      <td>1</td>\n",
       "      <td>0</td>\n",
       "      <td>0</td>\n",
       "      <td>网易云阅读-电子书城免费小说新闻一站阅读</td>\n",
       "      <td>2 0 1 7</td>\n",
       "      <td>NaN</td>\n",
       "      <td>...</td>\n",
       "      <td></td>\n",
       "      <td>5.0</td>\n",
       "      <td></td>\n",
       "      <td>5.0</td>\n",
       "      <td>2017-03-11</td>\n",
       "      <td>NetEase (Hangzhou) Network Co., Ltd.</td>\n",
       "      <td>88.3 MB</td>\n",
       "      <td>Jan 20, 2017</td>\n",
       "      <td>https://itunes.apple.com/us/app/%E7%BD%91%E6%9...</td>\n",
       "      <td>5.2.4</td>\n",
       "    </tr>\n",
       "    <tr>\n",
       "      <th>4</th>\n",
       "      <td>Books</td>\n",
       "      <td>4.875</td>\n",
       "      <td>i P h o n e  i P a d...</td>\n",
       "      <td>952059546</td>\n",
       "      <td>1</td>\n",
       "      <td>0</td>\n",
       "      <td>0</td>\n",
       "      <td>微信读书</td>\n",
       "      <td>1 .</td>\n",
       "      <td>8.0</td>\n",
       "      <td>...</td>\n",
       "      <td>qq</td>\n",
       "      <td>4.0</td>\n",
       "      <td>1</td>\n",
       "      <td>5.0</td>\n",
       "      <td>2017-03-11</td>\n",
       "      <td>Tencent Technology (Shenzhen) Company Limited</td>\n",
       "      <td>75.4 MB</td>\n",
       "      <td>Feb 13, 2017</td>\n",
       "      <td>https://itunes.apple.com/us/app/%E5%BE%AE%E4%B...</td>\n",
       "      <td>1.5.2</td>\n",
       "    </tr>\n",
       "  </tbody>\n",
       "</table>\n",
       "<p>5 rows × 26 columns</p>\n",
       "</div>"
      ],
      "text/plain": [
       "  category  current_rating                                        description  \\\n",
       "0    Books             NaN  ~ ~ >   A   m a g i c a l   f a n t a s y   - ...   \n",
       "1    Books           4.500                                                      \n",
       "2    Books             NaN  W e i r d   &   F u n n y   T o n g u e   T w ...   \n",
       "3    Books             NaN                                                      \n",
       "4    Books           4.875                            i P h o n e  i P a d...   \n",
       "\n",
       "          id  is_InAppPurcased  is_multilingual  is_multiplatform  \\\n",
       "0  616686830                 1                0                 0   \n",
       "1  445211116                 1                1                 0   \n",
       "2  427342569                 1                0                 0   \n",
       "3  462186890                 1                0                 0   \n",
       "4  952059546                 1                0                 0   \n",
       "\n",
       "                                                name  \\\n",
       "0  The Little Mermaid - A Free Interactive Childr...   \n",
       "1                                      Obeikan Store   \n",
       "2  A-Z Tongue Twisters! The Best Fun & Funny Atte...   \n",
       "3                               网易云阅读-电子书城免费小说新闻一站阅读   \n",
       "4                                               微信读书   \n",
       "\n",
       "                                    new_version_desc  num_current_rating  \\\n",
       "0  >   H e y   T a b T a l e r s ,   g r e a t   ...                 NaN   \n",
       "1                                                                   16.0   \n",
       "2  U s e r   I n t e r f a c e   i m p r o v e m ...                 NaN   \n",
       "3                                       2 0 1 7                      NaN   \n",
       "4                                      1 .                           8.0   \n",
       "\n",
       "    ...              review2 review2_star review3 review3_star scrape_date  \\\n",
       "0   ...                 None          NaN    None          NaN  2017-03-11   \n",
       "1   ...     It's greet app .          5.0    None          NaN  2017-03-11   \n",
       "2   ...            I love it          5.0    None          NaN  2017-03-11   \n",
       "3   ...                               5.0                  5.0  2017-03-11   \n",
       "4   ...                   qq          4.0       1          5.0  2017-03-11   \n",
       "\n",
       "                                          seller     size   update_date  \\\n",
       "0                                    TabTale LTD  75.0 MB  Oct 15, 2015   \n",
       "1                                   new Thinkers  32.6 MB  Jan 06, 2014   \n",
       "2                                  Michael Quach   9.7 MB  Sep 04, 2014   \n",
       "3           NetEase (Hangzhou) Network Co., Ltd.  88.3 MB  Jan 20, 2017   \n",
       "4  Tencent Technology (Shenzhen) Company Limited  75.4 MB  Feb 13, 2017   \n",
       "\n",
       "                                                 url  version  \n",
       "0  https://itunes.apple.com/us/app/little-mermaid...      1.4  \n",
       "1  https://itunes.apple.com/us/app/obeikan-store/...      5.0  \n",
       "2  https://itunes.apple.com/us/app/z-tongue-twist...    2.2.5  \n",
       "3  https://itunes.apple.com/us/app/%E7%BD%91%E6%9...    5.2.4  \n",
       "4  https://itunes.apple.com/us/app/%E5%BE%AE%E4%B...    1.5.2  \n",
       "\n",
       "[5 rows x 26 columns]"
      ]
     },
     "execution_count": 3,
     "metadata": {},
     "output_type": "execute_result"
    }
   ],
   "source": [
    "app = pd.read_pickle('/Users/krystal/Desktop/app_cleaned.pickle')\n",
    "app.head()"
   ]
  },
  {
   "cell_type": "code",
   "execution_count": null,
   "metadata": {
    "collapsed": false,
    "deletable": true,
    "editable": true
   },
   "outputs": [],
   "source": [
    "app = app.drop_duplicates()\n"
   ]
  },
  {
   "cell_type": "code",
   "execution_count": 6,
   "metadata": {
    "collapsed": false,
    "deletable": true,
    "editable": true,
    "scrolled": true
   },
   "outputs": [
    {
     "data": {
      "text/plain": [
       "Index([u'category', u'current_rating', u'description', u'id',\n",
       "       u'is_InAppPurcased', u'is_multilingual', u'is_multiplatform', u'name',\n",
       "       u'new_version_desc', u'num_current_rating', u'num_overall_rating',\n",
       "       u'overall_rating', u'price', u'publish_date', u'review1',\n",
       "       u'review1_star', u'review2', u'review2_star', u'review3',\n",
       "       u'review3_star', u'scrape_date', u'seller', u'size', u'update_date',\n",
       "       u'url', u'version'],\n",
       "      dtype='object')"
      ]
     },
     "execution_count": 6,
     "metadata": {},
     "output_type": "execute_result"
    }
   ],
   "source": [
    "app.dtypes.index"
   ]
  },
  {
   "cell_type": "code",
   "execution_count": 13,
   "metadata": {
    "collapsed": false,
    "deletable": true,
    "editable": true
   },
   "outputs": [],
   "source": [
    "data_q3 = app[np.isfinite(app['current_rating']) & np.isfinite(app['is_InAppPurcased'])]"
   ]
  },
  {
   "cell_type": "markdown",
   "metadata": {
    "deletable": true,
    "editable": true
   },
   "source": [
    "<b>Question 3 Is there any difference in app quality for free apps with in-app purchases?</b>"
   ]
  },
  {
   "cell_type": "code",
   "execution_count": 22,
   "metadata": {
    "collapsed": false,
    "deletable": true,
    "editable": true
   },
   "outputs": [
    {
     "data": {
      "text/plain": [
       "0    2494\n",
       "1    2028\n",
       "Name: is_InAppPurcased, dtype: int64"
      ]
     },
     "execution_count": 22,
     "metadata": {},
     "output_type": "execute_result"
    }
   ],
   "source": [
    "data_q3['is_InAppPurcased'].value_counts()"
   ]
  },
  {
   "cell_type": "code",
   "execution_count": 24,
   "metadata": {
    "collapsed": false,
    "deletable": true,
    "editable": true
   },
   "outputs": [
    {
     "data": {
      "image/png": "[encoded data removed]",
      "text/plain": [
       "<matplotlib.figure.Figure at 0x11c837b50>"
      ]
     },
     "metadata": {},
     "output_type": "display_data"
    }
   ],
   "source": [
    "free = data_q3.loc[data_q3['is_InAppPurcased'] == 0]\n",
    "paid = data_q3.loc[data_q3['is_InAppPurcased'] == 1]\n",
    "free['current_rating'].plot(kind = \"density\")\n",
    "paid['current_rating'].plot(kind = \"density\")\n",
    "plt.xlabel('Current Rating')\n",
    "plt.legend(labels = ['free','paid'], loc='upper right')\n",
    "plt.title('Distribution of current rating among free/paid apps')\n",
    "plt.show()"
   ]
  },
  {
   "cell_type": "markdown",
   "metadata": {
    "deletable": true,
    "editable": true
   },
   "source": [
    "<p>First, the data set is splitted into two parts, one is app without in-app purchases and another is app with in-app purchases. Then the density plots for the two subsets are made and from the plots we can see that the current rating of paid app is generally higher than the overall rating of free app. Some specific tests are still needed to perform.</p>"
   ]
  },
  {
   "cell_type": "code",
   "execution_count": 25,
   "metadata": {
    "collapsed": true,
    "deletable": true,
    "editable": true
   },
   "outputs": [],
   "source": [
    "import scipy.stats"
   ]
  },
  {
   "cell_type": "code",
   "execution_count": 26,
   "metadata": {
    "collapsed": true,
    "deletable": true,
    "editable": true
   },
   "outputs": [],
   "source": [
    "free = list(free['current_rating'])\n",
    "paid = list(paid['current_rating'])"
   ]
  },
  {
   "cell_type": "code",
   "execution_count": 27,
   "metadata": {
    "collapsed": false,
    "deletable": true,
    "editable": true
   },
   "outputs": [
    {
     "name": "stdout",
     "output_type": "stream",
     "text": [
      "3.63937633119\n",
      "4.00950073471\n"
     ]
    }
   ],
   "source": [
    "print(np.mean(free))\n",
    "print(np.mean(paid))"
   ]
  },
  {
   "cell_type": "code",
   "execution_count": 28,
   "metadata": {
    "collapsed": false,
    "deletable": true,
    "editable": true
   },
   "outputs": [
    {
     "data": {
      "text/plain": [
       "Ttest_indResult(statistic=-13.064682308109811, pvalue=2.5715670717150474e-38)"
      ]
     },
     "execution_count": 28,
     "metadata": {},
     "output_type": "execute_result"
    }
   ],
   "source": [
    "scipy.stats.ttest_ind(free, paid, equal_var = False)"
   ]
  },
  {
   "cell_type": "markdown",
   "metadata": {
    "deletable": true,
    "editable": true
   },
   "source": [
    "<p>I perform t test here. We have two samples here, one is free apps and another is apps with in-app purchases. So I want to test whether the mean current rating for these two samples are different.</p>\n",
    "\n",
    "<p>The null hypothesis is mean current rating for free apps and mean current rating for apps with in-app purchases are the same and the alternative hypothesis is that the mean current rating for these two samples are not the same.</p>\n",
    "\n",
    "<p>From the result we can see that the p value is 2.5715670717150474e-38, which is smaller than 0.05, so we should reject null hypothesis at significance level 0.05, that is, we should conclude that the mean of current rating for these two samples are not the same and with in-app purchases or not do influent the rating of an app.</p>"
   ]
  },
  {
   "cell_type": "code",
   "execution_count": 29,
   "metadata": {
    "collapsed": false,
    "deletable": true,
    "editable": true
   },
   "outputs": [
    {
     "data": {
      "text/plain": [
       "F_onewayResult(statistic=163.19269529840543, pvalue=9.7392843155192399e-37)"
      ]
     },
     "execution_count": 29,
     "metadata": {},
     "output_type": "execute_result"
    }
   ],
   "source": [
    "scipy.stats.f_oneway(free, paid)"
   ]
  },
  {
   "cell_type": "markdown",
   "metadata": {
    "deletable": true,
    "editable": true
   },
   "source": [
    "<p>I also perform one-way ANOVA test here.</p>\n",
    "\n",
    "<p>The null hypothesis is mean current rating for free apps and mean overall rating for apps with in-app purchases are the same and the alternative hypothesis is that the mean current rating for these two samples are not the same.</p>\n",
    "\n",
    "<p>From the result we can see that the p value is 9.7392843155192399e-37, which is smaller than 0.05, so we should reject null hypothesis at significance level 0.05, that is, we should conclude that the mean of current rating for these two samples are not the same and with in-app purchases or not do influent the rating of an app.</p>"
   ]
  },
  {
   "cell_type": "code",
   "execution_count": 30,
   "metadata": {
    "collapsed": false,
    "deletable": true,
    "editable": true
   },
   "outputs": [
    {
     "data": {
      "text/plain": [
       "KruskalResult(statistic=127.88342720527469, pvalue=1.1903303041683057e-29)"
      ]
     },
     "execution_count": 30,
     "metadata": {},
     "output_type": "execute_result"
    }
   ],
   "source": [
    "scipy.stats.kruskal(free, paid)"
   ]
  },
  {
   "cell_type": "markdown",
   "metadata": {
    "deletable": true,
    "editable": true
   },
   "source": [
    "<p>I perform Kruskal-Wallis H-test here, which is a non-parametric version of ANOVA. Since t test and one-way ANOVA test all need assumption that the samples shoule come from a normally distributed population, here we use this test, which do not need these assumptions but will lose some power.</p>\n",
    "\n",
    "<p>The null hypothesis is mean current rating for free apps and mean current rating for apps with in-app purchases are the same and the alternative hypothesis is that the mean current rating for these two samples are not the same.</p>\n",
    "\n",
    "<p>From the result we can see that the p value is 1.1903303041683057e-29, which is smaller than 0.05, so we should reject null hypothesis at significance level 0.05, that is, we should conclude that the mean of current rating for these two samples are not the same and with in-app purchases or not do influent the rating of an app.</p>"
   ]
  },
  {
   "cell_type": "markdown",
   "metadata": {
    "deletable": true,
    "editable": true
   },
   "source": [
    "<b>In general, from the results in these three tests, we can conclude that whether providing in-app purchases can influent the rating of an app and the association needs further exploration.</b>"
   ]
  },
  {
   "cell_type": "code",
   "execution_count": null,
   "metadata": {
    "collapsed": true,
    "deletable": true,
    "editable": true
   },
   "outputs": [],
   "source": []
  }
 ],
 "metadata": {
  "anaconda-cloud": {},
  "kernelspec": {
   "display_name": "Python 2",
   "language": "python",
   "name": "python2"
  },
  "language_info": {
   "codemirror_mode": {
    "name": "ipython",
    "version": 2
   },
   "file_extension": ".py",
   "mimetype": "text/x-python",
   "name": "python",
   "nbconvert_exporter": "python",
   "pygments_lexer": "ipython2",
   "version": "2.7.13"
  }
 },
 "nbformat": 4,
 "nbformat_minor": 2
}
