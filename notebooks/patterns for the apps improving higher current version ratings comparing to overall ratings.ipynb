{
 "cells": [
  {
   "cell_type": "code",
   "execution_count": 1,
   "metadata": {
    "collapsed": false
   },
   "outputs": [],
   "source": [
    "from matplotlib import pyplot as plt\n",
    "import numpy as np\n",
    "import pandas as pd\n",
    "plt.style.use('ggplot')\n",
    "%matplotlib inline"
   ]
  },
  {
   "cell_type": "code",
   "execution_count": 2,
   "metadata": {
    "collapsed": true
   },
   "outputs": [],
   "source": [
    "app = pd.read_pickle('app_cleaned.pickle')"
   ]
  },
  {
   "cell_type": "code",
   "execution_count": 3,
   "metadata": {
    "collapsed": false
   },
   "outputs": [],
   "source": [
    "app = app.drop_duplicates()"
   ]
  },
  {
   "cell_type": "code",
   "execution_count": 4,
   "metadata": {
    "collapsed": false
   },
   "outputs": [],
   "source": [
    "app = app.dropna(axis = 0)#remove the NAN"
   ]
  },
  {
   "cell_type": "code",
   "execution_count": 5,
   "metadata": {
    "collapsed": false
   },
   "outputs": [
    {
     "data": {
      "text/html": [
       "<div>\n",
       "<table border=\"1\" class=\"dataframe\">\n",
       "  <thead>\n",
       "    <tr style=\"text-align: right;\">\n",
       "      <th></th>\n",
       "      <th>category</th>\n",
       "      <th>current_rating</th>\n",
       "      <th>description</th>\n",
       "      <th>id</th>\n",
       "      <th>is_InAppPurcased</th>\n",
       "      <th>is_multilingual</th>\n",
       "      <th>is_multiplatform</th>\n",
       "      <th>name</th>\n",
       "      <th>new_version_desc</th>\n",
       "      <th>num_current_rating</th>\n",
       "      <th>...</th>\n",
       "      <th>review2</th>\n",
       "      <th>review2_star</th>\n",
       "      <th>review3</th>\n",
       "      <th>review3_star</th>\n",
       "      <th>scrape_date</th>\n",
       "      <th>seller</th>\n",
       "      <th>size</th>\n",
       "      <th>update_date</th>\n",
       "      <th>url</th>\n",
       "      <th>version</th>\n",
       "    </tr>\n",
       "  </thead>\n",
       "  <tbody>\n",
       "    <tr>\n",
       "      <th>0</th>\n",
       "      <td>Finance</td>\n",
       "      <td>1.80000</td>\n",
       "      <td>The JPay App lets you send money and email to ...</td>\n",
       "      <td>584959322</td>\n",
       "      <td>0</td>\n",
       "      <td>0</td>\n",
       "      <td>0</td>\n",
       "      <td>JPay</td>\n",
       "      <td>This update has a big new feature for the new ...</td>\n",
       "      <td>20.0</td>\n",
       "      <td>...</td>\n",
       "      <td>What is wrong with this freakin App? It keep s...</td>\n",
       "      <td>1.0</td>\n",
       "      <td>Emails are not sent and received in a timely m...</td>\n",
       "      <td>1.0</td>\n",
       "      <td>2017-03-13</td>\n",
       "      <td>JPay, Inc.</td>\n",
       "      <td>13.0 MB</td>\n",
       "      <td>Jan 20, 2017</td>\n",
       "      <td>https://itunes.apple.com/us/app/jpay/id5849593...</td>\n",
       "      <td>4.7</td>\n",
       "    </tr>\n",
       "    <tr>\n",
       "      <th>2</th>\n",
       "      <td>Finance</td>\n",
       "      <td>4.64497</td>\n",
       "      <td>Access your interactive Experian Credit Report...</td>\n",
       "      <td>1087101090</td>\n",
       "      <td>1</td>\n",
       "      <td>0</td>\n",
       "      <td>0</td>\n",
       "      <td>Experian - Free Credit Report</td>\n",
       "      <td>Bug fixes and other minor updates</td>\n",
       "      <td>169.0</td>\n",
       "      <td>...</td>\n",
       "      <td>This Experian app helps me measure my credit a...</td>\n",
       "      <td>5.0</td>\n",
       "      <td>I don't exactly like credit bureaus my experie...</td>\n",
       "      <td>5.0</td>\n",
       "      <td>2017-03-13</td>\n",
       "      <td>CONSUMERINFO.COM, INC.</td>\n",
       "      <td>58.0 MB</td>\n",
       "      <td>Feb 22, 2017</td>\n",
       "      <td>https://itunes.apple.com/us/app/experian-free-...</td>\n",
       "      <td>1.6.1</td>\n",
       "    </tr>\n",
       "    <tr>\n",
       "      <th>3</th>\n",
       "      <td>Finance</td>\n",
       "      <td>2.16667</td>\n",
       "      <td>Use the Vanguard app to check your accounts an...</td>\n",
       "      <td>335186209</td>\n",
       "      <td>0</td>\n",
       "      <td>0</td>\n",
       "      <td>0</td>\n",
       "      <td>Vanguard</td>\n",
       "      <td>See what's new!  Have an IRA? Watch your progr...</td>\n",
       "      <td>30.0</td>\n",
       "      <td>...</td>\n",
       "      <td>The app is very easy to use and has tons of he...</td>\n",
       "      <td>5.0</td>\n",
       "      <td>My company used to use Fidelity for our retire...</td>\n",
       "      <td>1.0</td>\n",
       "      <td>2017-03-13</td>\n",
       "      <td>The Vanguard Group, Inc.</td>\n",
       "      <td>49.0 MB</td>\n",
       "      <td>Jan 22, 2017</td>\n",
       "      <td>https://itunes.apple.com/us/app/vanguard/id335...</td>\n",
       "      <td>7.1</td>\n",
       "    </tr>\n",
       "    <tr>\n",
       "      <th>4</th>\n",
       "      <td>Finance</td>\n",
       "      <td>4.60773</td>\n",
       "      <td>Conveniently manage your credit card account f...</td>\n",
       "      <td>1128712763</td>\n",
       "      <td>0</td>\n",
       "      <td>0</td>\n",
       "      <td>0</td>\n",
       "      <td>Credit One Bank Mobile</td>\n",
       "      <td>- Ability add an additional account if qualifi...</td>\n",
       "      <td>724.0</td>\n",
       "      <td>...</td>\n",
       "      <td>I am so fed up with this entire company! I'm g...</td>\n",
       "      <td>2.0</td>\n",
       "      <td>I have no complaints, well one but its not a b...</td>\n",
       "      <td>5.0</td>\n",
       "      <td>2017-03-13</td>\n",
       "      <td>Credit One Bank, National Association</td>\n",
       "      <td>42.8 MB</td>\n",
       "      <td>Jan 31, 2017</td>\n",
       "      <td>https://itunes.apple.com/us/app/credit-one-ban...</td>\n",
       "      <td>1.4</td>\n",
       "    </tr>\n",
       "    <tr>\n",
       "      <th>5</th>\n",
       "      <td>Finance</td>\n",
       "      <td>4.34066</td>\n",
       "      <td>Be the first to know about news and market mov...</td>\n",
       "      <td>552799694</td>\n",
       "      <td>1</td>\n",
       "      <td>0</td>\n",
       "      <td>0</td>\n",
       "      <td>Seeking Alpha Portfolio</td>\n",
       "      <td>Performance improvements</td>\n",
       "      <td>91.0</td>\n",
       "      <td>...</td>\n",
       "      <td>SA offers a lot of information supplied by art...</td>\n",
       "      <td>5.0</td>\n",
       "      <td>I'm new to learning about stocks and managing ...</td>\n",
       "      <td>5.0</td>\n",
       "      <td>2017-03-13</td>\n",
       "      <td>Seeking Alpha Ltd.</td>\n",
       "      <td>46.2 MB</td>\n",
       "      <td>Feb 14, 2017</td>\n",
       "      <td>https://itunes.apple.com/us/app/seeking-alpha-...</td>\n",
       "      <td>3.3.7</td>\n",
       "    </tr>\n",
       "  </tbody>\n",
       "</table>\n",
       "<p>5 rows × 26 columns</p>\n",
       "</div>"
      ],
      "text/plain": [
       "  category  current_rating                                        description  \\\n",
       "0  Finance         1.80000  The JPay App lets you send money and email to ...   \n",
       "2  Finance         4.64497  Access your interactive Experian Credit Report...   \n",
       "3  Finance         2.16667  Use the Vanguard app to check your accounts an...   \n",
       "4  Finance         4.60773  Conveniently manage your credit card account f...   \n",
       "5  Finance         4.34066  Be the first to know about news and market mov...   \n",
       "\n",
       "           id  is_InAppPurcased  is_multilingual  is_multiplatform  \\\n",
       "0   584959322                 0                0                 0   \n",
       "2  1087101090                 1                0                 0   \n",
       "3   335186209                 0                0                 0   \n",
       "4  1128712763                 0                0                 0   \n",
       "5   552799694                 1                0                 0   \n",
       "\n",
       "                            name  \\\n",
       "0                           JPay   \n",
       "2  Experian - Free Credit Report   \n",
       "3                       Vanguard   \n",
       "4         Credit One Bank Mobile   \n",
       "5        Seeking Alpha Portfolio   \n",
       "\n",
       "                                    new_version_desc  num_current_rating  \\\n",
       "0  This update has a big new feature for the new ...                20.0   \n",
       "2                  Bug fixes and other minor updates               169.0   \n",
       "3  See what's new!  Have an IRA? Watch your progr...                30.0   \n",
       "4  - Ability add an additional account if qualifi...               724.0   \n",
       "5                           Performance improvements                91.0   \n",
       "\n",
       "    ...                                               review2  review2_star  \\\n",
       "0   ...     What is wrong with this freakin App? It keep s...           1.0   \n",
       "2   ...     This Experian app helps me measure my credit a...           5.0   \n",
       "3   ...     The app is very easy to use and has tons of he...           5.0   \n",
       "4   ...     I am so fed up with this entire company! I'm g...           2.0   \n",
       "5   ...     SA offers a lot of information supplied by art...           5.0   \n",
       "\n",
       "                                             review3 review3_star scrape_date  \\\n",
       "0  Emails are not sent and received in a timely m...          1.0  2017-03-13   \n",
       "2  I don't exactly like credit bureaus my experie...          5.0  2017-03-13   \n",
       "3  My company used to use Fidelity for our retire...          1.0  2017-03-13   \n",
       "4  I have no complaints, well one but its not a b...          5.0  2017-03-13   \n",
       "5  I'm new to learning about stocks and managing ...          5.0  2017-03-13   \n",
       "\n",
       "                                  seller     size   update_date  \\\n",
       "0                             JPay, Inc.  13.0 MB  Jan 20, 2017   \n",
       "2                 CONSUMERINFO.COM, INC.  58.0 MB  Feb 22, 2017   \n",
       "3               The Vanguard Group, Inc.  49.0 MB  Jan 22, 2017   \n",
       "4  Credit One Bank, National Association  42.8 MB  Jan 31, 2017   \n",
       "5                     Seeking Alpha Ltd.  46.2 MB  Feb 14, 2017   \n",
       "\n",
       "                                                 url  version  \n",
       "0  https://itunes.apple.com/us/app/jpay/id5849593...      4.7  \n",
       "2  https://itunes.apple.com/us/app/experian-free-...    1.6.1  \n",
       "3  https://itunes.apple.com/us/app/vanguard/id335...      7.1  \n",
       "4  https://itunes.apple.com/us/app/credit-one-ban...      1.4  \n",
       "5  https://itunes.apple.com/us/app/seeking-alpha-...    3.3.7  \n",
       "\n",
       "[5 rows x 26 columns]"
      ]
     },
     "execution_count": 5,
     "metadata": {},
     "output_type": "execute_result"
    }
   ],
   "source": [
    "app.head()"
   ]
  },
  {
   "cell_type": "code",
   "execution_count": 8,
   "metadata": {
    "collapsed": true
   },
   "outputs": [],
   "source": [
    "ratio = app['num_current_rating']/app['num_overall_rating']"
   ]
  },
  {
   "cell_type": "code",
   "execution_count": 9,
   "metadata": {
    "collapsed": false,
    "scrolled": true
   },
   "outputs": [
    {
     "data": {
      "image/png": "[encoded data removed]",
      "text/plain": [
       "<matplotlib.figure.Figure at 0x1155a1450>"
      ]
     },
     "metadata": {},
     "output_type": "display_data"
    }
   ],
   "source": [
    "#use histogram to show the range of ratio\n",
    "plt.hist(ratio,bins = 20, alpha = .4, label = 'ratio')\n",
    "plt.legend()\n",
    "plt.show()"
   ]
  },
  {
   "cell_type": "markdown",
   "metadata": {},
   "source": [
    "according to the histogram, the ratios are mainly under 0.2."
   ]
  },
  {
   "cell_type": "code",
   "execution_count": 10,
   "metadata": {
    "collapsed": false
   },
   "outputs": [],
   "source": [
    "index = ratio>0.05#get the index of ratio larger than 0.05"
   ]
  },
  {
   "cell_type": "code",
   "execution_count": 11,
   "metadata": {
    "collapsed": false
   },
   "outputs": [],
   "source": [
    "appfilter = app.loc[index]#filter the apps which number of current rating over number of overall rating larger than 0.1"
   ]
  },
  {
   "cell_type": "code",
   "execution_count": 12,
   "metadata": {
    "collapsed": false
   },
   "outputs": [
    {
     "data": {
      "image/png": "[encoded data removed]",
      "text/plain": [
       "<matplotlib.figure.Figure at 0x115725590>"
      ]
     },
     "metadata": {},
     "output_type": "display_data"
    }
   ],
   "source": [
    "#use histogram to show the range of current_rating-overall_rating\n",
    "plt.hist(appfilter['current_rating']-appfilter['overall_rating'],bins = 20, alpha = .4, label = 'diff')\n",
    "plt.legend()\n",
    "plt.show()"
   ]
  },
  {
   "cell_type": "code",
   "execution_count": 13,
   "metadata": {
    "collapsed": true
   },
   "outputs": [],
   "source": [
    "diff = appfilter['current_rating']-appfilter['overall_rating']"
   ]
  },
  {
   "cell_type": "code",
   "execution_count": 14,
   "metadata": {
    "collapsed": false
   },
   "outputs": [],
   "source": [
    "index2 = diff>=0.1#get the index of the difference larger than 0.1\n",
    "index2b = diff<= -0.1#get the index of the difference smaller than -0.1"
   ]
  },
  {
   "cell_type": "code",
   "execution_count": 15,
   "metadata": {
    "collapsed": false
   },
   "outputs": [],
   "source": [
    "appinprove = appfilter.loc[index2]\n",
    "appdecrease = appfilter.loc[index2b]"
   ]
  },
  {
   "cell_type": "code",
   "execution_count": 16,
   "metadata": {
    "collapsed": false
   },
   "outputs": [],
   "source": [
    "nvd = appinprove['new_version_desc']\n",
    "nvdd = appdecrease['new_version_desc']"
   ]
  },
  {
   "cell_type": "code",
   "execution_count": 17,
   "metadata": {
    "collapsed": false
   },
   "outputs": [],
   "source": [
    "#compile documents\n",
    "doc_complete = nvd.tolist()\n",
    "doc_complete2 = nvdd.tolist()"
   ]
  },
  {
   "cell_type": "code",
   "execution_count": 18,
   "metadata": {
    "collapsed": false
   },
   "outputs": [],
   "source": [
    "#clean doc\n",
    "import nltk\n",
    "from nltk import corpus\n",
    "from nltk.stem.porter import PorterStemmer\n",
    "from nltk.corpus import stopwords\n",
    "import string\n",
    "from sklearn.feature_extraction.text import TfidfVectorizer\n",
    "from sklearn.neighbors import NearestNeighbors\n",
    "stemmer = PorterStemmer().stem\n",
    "tokenize = nltk.word_tokenize\n",
    "stop = stopwords.words('english')+list(string.punctuation)+['we','new','fix','io','updat','improv','bug',\n",
    "                                                            'app','featur','perform','ad',\"\\'s\",\"--\",\"us\"\n",
    "                                                            ,\"minor\",\"support\",\"iphon\",\"issu\",\"add\",\"enhanc\",\n",
    "                                                           \"user\",\"pleas\",\"10\",\"7\",\"experi\",\"thank\",\n",
    "                                                           \"version\",\"experi\",\"screen\",\"\\'\\'\",\"2\",\"6\",\"icon\",\n",
    "                                                           \"stabil\",\"review\",\"5\",\"``\"]\n",
    "def stem(tokens,stemmer = PorterStemmer().stem):\n",
    "    stemwords = [stemmer(w.lower()) for w in tokens if w not in stop]\n",
    "    return [w for w in stemwords if w not in stop]\n",
    "def lemmatize(text):\n",
    "    return stem(tokenize(text))"
   ]
  },
  {
   "cell_type": "code",
   "execution_count": 19,
   "metadata": {
    "collapsed": true
   },
   "outputs": [],
   "source": [
    "doc_clean = [lemmatize(doc) for doc in doc_complete]\n",
    "doc_clean2 = [lemmatize(doc) for doc in doc_complete2]"
   ]
  },
  {
   "cell_type": "code",
   "execution_count": 20,
   "metadata": {
    "collapsed": false
   },
   "outputs": [],
   "source": [
    "# Importing Gensim\n",
    "import gensim\n",
    "from gensim import corpora\n",
    "\n",
    "# Creating the term dictionary of our courpus, where every unique term is assigned an index. \n",
    "dictionary = corpora.Dictionary(doc_clean)\n",
    "dictionary2 = corpora.Dictionary(doc_clean2)\n",
    "\n",
    "# Converting list of documents (corpus) into Document Term Matrix using dictionary prepared above.\n",
    "doc_term_matrix = [dictionary.doc2bow(doc) for doc in doc_clean]\n",
    "doc_term_matrix2 = [dictionary2.doc2bow(doc) for doc in doc_clean2]"
   ]
  },
  {
   "cell_type": "code",
   "execution_count": 21,
   "metadata": {
    "collapsed": true
   },
   "outputs": [],
   "source": [
    "# Creating the object for LDA model using gensim library\n",
    "Lda = gensim.models.ldamodel.LdaModel\n",
    "\n",
    "# Running and Trainign LDA model on the document term matrix.\n",
    "ldamodel = Lda(doc_term_matrix, num_topics=3, id2word = dictionary, passes=50)\n",
    "ldamodel2 = Lda(doc_term_matrix2, num_topics=3, id2word = dictionary2, passes=50)"
   ]
  },
  {
   "cell_type": "code",
   "execution_count": 22,
   "metadata": {
    "collapsed": false
   },
   "outputs": [
    {
     "name": "stdout",
     "output_type": "stream",
     "text": [
      "[(0, u'0.008*\"store\" + 0.007*\"make\" + 0.007*\"help\"'), (1, u'0.006*\"feedback\" + 0.006*\"thi\" + 0.005*\"crash\"'), (2, u'0.010*\"includ\" + 0.008*\"crash\" + 0.006*\"use\"')]\n",
      "[(0, u'0.007*\"includ\" + 0.007*\"-bug\" + 0.006*\"locat\"'), (1, u'0.008*\"help\" + 0.006*\"play\" + 0.006*\"ipad\"'), (2, u'0.006*\"crash\" + 0.006*\"use\" + 0.006*\"share\"')]\n"
     ]
    }
   ],
   "source": [
    "print(ldamodel.print_topics(num_topics=3, num_words=3))\n",
    "print(ldamodel2.print_topics(num_topics=3, num_words=3))"
   ]
  },
  {
   "cell_type": "markdown",
   "metadata": {},
   "source": [
    "__Improved app__"
   ]
  },
  {
   "cell_type": "code",
   "execution_count": 185,
   "metadata": {
    "collapsed": false
   },
   "outputs": [],
   "source": [
    "index_interfac = []\n",
    "for i in range(len(doc_clean)):\n",
    "    if 'interfac' in doc_clean[i]:\n",
    "        index_interfac.append(True)\n",
    "    else:\n",
    "        index_interfac.append(False)"
   ]
  },
  {
   "cell_type": "code",
   "execution_count": 187,
   "metadata": {
    "collapsed": false
   },
   "outputs": [
    {
     "data": {
      "text/plain": [
       "u'Minor Interface Improvements'"
      ]
     },
     "execution_count": 187,
     "metadata": {},
     "output_type": "execute_result"
    }
   ],
   "source": [
    "nvd[index_interfac][1342]"
   ]
  },
  {
   "cell_type": "code",
   "execution_count": 188,
   "metadata": {
    "collapsed": true
   },
   "outputs": [],
   "source": [
    "index_feedback = []\n",
    "for i in range(len(doc_clean)):\n",
    "    if 'feedback' in doc_clean[i]:\n",
    "        index_feedback.append(True)\n",
    "    else:\n",
    "        index_feedback.append(False)"
   ]
  },
  {
   "cell_type": "code",
   "execution_count": 190,
   "metadata": {
    "collapsed": false
   },
   "outputs": [
    {
     "data": {
      "text/plain": [
       "u\"- New truth or dare cards - Fixed bugs & improved design If you have any feedback or suggestions, tweet us @truthdareapp! We'd love to hear from you.\""
      ]
     },
     "execution_count": 190,
     "metadata": {},
     "output_type": "execute_result"
    }
   ],
   "source": [
    "nvd[index_feedback][193]"
   ]
  },
  {
   "cell_type": "code",
   "execution_count": 192,
   "metadata": {
    "collapsed": true
   },
   "outputs": [],
   "source": [
    "index_store = []\n",
    "for i in range(len(doc_clean)):\n",
    "    if 'store' in doc_clean[i]:\n",
    "        index_store.append(True)\n",
    "    else:\n",
    "        index_store.append(False)"
   ]
  },
  {
   "cell_type": "code",
   "execution_count": 241,
   "metadata": {
    "collapsed": false
   },
   "outputs": [
    {
     "data": {
      "text/plain": [
       "u'- Bug fixes If you enjoy our apps, please leave us a review on the App Store. Reviews help us stay motivated to keep the updates coming. Thanks!'"
      ]
     },
     "execution_count": 241,
     "metadata": {},
     "output_type": "execute_result"
    }
   ],
   "source": [
    "nvd[index_store][1024]"
   ]
  },
  {
   "cell_type": "markdown",
   "metadata": {},
   "source": [
    "__improved pattern__:\n",
    "\n",
    "1.some improvements on interface\n",
    "\n",
    "2.ask for feedbacks\n",
    "\n",
    "3.ask for reviews on app store"
   ]
  },
  {
   "cell_type": "markdown",
   "metadata": {},
   "source": [
    "__Worsen app__"
   ]
  },
  {
   "cell_type": "code",
   "execution_count": 214,
   "metadata": {
    "collapsed": true
   },
   "outputs": [],
   "source": [
    "index_ipad = []\n",
    "for i in range(len(doc_clean2)):\n",
    "    if 'ipad' in doc_clean2[i]:\n",
    "        index_ipad.append(True)\n",
    "    else:\n",
    "        index_ipad.append(False)"
   ]
  },
  {
   "cell_type": "code",
   "execution_count": 220,
   "metadata": {
    "collapsed": false
   },
   "outputs": [
    {
     "data": {
      "text/plain": [
       "u'Holy Quran Arabic text with side by side English translation by Maulvi Sher Ali. Retina display support for iPhone 4+. Universal app with iPad support. Swipe slides the pages left and right accordingly.'"
      ]
     },
     "execution_count": 220,
     "metadata": {},
     "output_type": "execute_result"
    }
   ],
   "source": [
    "nvdd[index_ipad][1373]"
   ]
  },
  {
   "cell_type": "code",
   "execution_count": 222,
   "metadata": {
    "collapsed": true
   },
   "outputs": [],
   "source": [
    "index_music = []\n",
    "for i in range(len(doc_clean2)):\n",
    "    if 'music' in doc_clean2[i]:\n",
    "        index_music.append(True)\n",
    "    else:\n",
    "        index_music.append(False)"
   ]
  },
  {
   "cell_type": "code",
   "execution_count": 232,
   "metadata": {
    "collapsed": false
   },
   "outputs": [
    {
     "data": {
      "text/plain": [
       "u'- Introducing Music Share! After a quick over-the-air update for your headphones, you can stream music or audio with a friend between two Bose headphones at the same time. - Bug fixes and improvements'"
      ]
     },
     "execution_count": 232,
     "metadata": {},
     "output_type": "execute_result"
    }
   ],
   "source": [
    "nvdd[index_music][2157]"
   ]
  },
  {
   "cell_type": "code",
   "execution_count": 234,
   "metadata": {
    "collapsed": true
   },
   "outputs": [],
   "source": [
    "index_card = []\n",
    "for i in range(len(doc_clean2)):\n",
    "    if 'card' in doc_clean2[i]:\n",
    "        index_card.append(True)\n",
    "    else:\n",
    "        index_card.append(False)"
   ]
  },
  {
   "cell_type": "code",
   "execution_count": 239,
   "metadata": {
    "collapsed": false
   },
   "outputs": [
    {
     "data": {
      "text/plain": [
       "u'Based on your feedback weve made some enhancements and fixed bugs to help improve your experience.  Added swipe gesture to access the digital card from account summary. (Digital Card is available on most CareCredit accounts.)  Improvements on performance and stability. *We have heard some CareCredit customers are experiencing issues logging into the CareCredit App. Please know that our team is aware and we are looking for the best solution. We will be making regular updates to the app to improve your experience.'"
      ]
     },
     "execution_count": 239,
     "metadata": {},
     "output_type": "execute_result"
    }
   ],
   "source": [
    "nvdd[index_card][646]"
   ]
  },
  {
   "cell_type": "markdown",
   "metadata": {
    "collapsed": true
   },
   "source": [
    "__woren pattern__:\n",
    "\n",
    "1.add more features on ipad version\n",
    "\n",
    "2.add more features related to music function\n",
    "\n",
    "3.the apps are designed for cards"
   ]
  },
  {
   "cell_type": "code",
   "execution_count": 24,
   "metadata": {
    "collapsed": false
   },
   "outputs": [],
   "source": [
    "import pyLDAvis.gensim"
   ]
  },
  {
   "cell_type": "code",
   "execution_count": 25,
   "metadata": {
    "collapsed": true
   },
   "outputs": [],
   "source": [
    "pyLDAvis.enable_notebook()\n",
    "dec_improv = pyLDAvis.gensim.prepare(ldamodel,doc_term_matrix, dictionary)\n",
    "dec_decrea = pyLDAvis.gensim.prepare(ldamodel2,doc_term_matrix2, dictionary2)"
   ]
  },
  {
   "cell_type": "code",
   "execution_count": 26,
   "metadata": {
    "collapsed": false
   },
   "outputs": [
    {
     "data": {
      "text/html": [
       "\n",
       "<link rel=\"stylesheet\" type=\"text/css\" href=\"https://cdn.rawgit.com/bmabey/pyLDAvis/files/ldavis.v1.0.0.css\">\n",
       "\n",
       "\n",
       "<div id=\"ldavis_el229847569376803472094959\"></div>\n",
       "<script type=\"text/javascript\">\n",
       "\n",
       "var ldavis_el229847569376803472094959_data = {\"plot.opts\": {\"xlab\": \"PC1\", \"ylab\": \"PC2\"}, \"topic.order\": [1, 2, 3], \"token.table\": {\"Topic\": [1, 2, 3, 3, 1, 1, 1, 2, 3, 1, 2, 3, 3, 1, 2, 1, 1, 3, 3, 1, 2, 3, 3, 2, 3, 1, 2, 3, 1, 2, 3, 2, 1, 2, 1, 2, 3, 3, 1, 2, 3, 2, 3, 1, 1, 2, 3, 2, 2, 1, 2, 3, 1, 1, 2, 3, 1, 2, 3, 2, 2, 2, 3, 1, 2, 3, 1, 2, 3, 1, 2, 1, 2, 3, 3, 1, 1, 2, 3, 2, 2, 1, 2, 1, 2, 3, 1, 3, 1, 2, 3, 1, 2, 3, 3, 1, 2, 3, 1, 2, 1, 1, 2, 3, 1, 2, 1, 2, 3, 2, 3, 1, 2, 3, 1, 2, 1, 2, 3, 1, 2, 2, 3, 1, 2, 3, 1, 1, 2, 3, 2, 2, 3, 1, 2, 3, 3, 3, 1, 2, 3, 3, 2, 1, 1, 2, 2, 3, 2, 3, 1, 3, 2, 1, 2, 3, 1, 2, 3, 1, 2, 3, 1, 3, 1, 2, 3, 1, 1, 3, 2, 2, 1, 2, 1, 1, 2, 3, 1, 2, 3, 1, 2, 3, 1, 1, 2, 3, 1, 2, 2, 1, 2, 3, 2, 3, 2, 1, 2, 1, 1, 2, 3, 3, 3, 1, 2, 1, 2, 3, 2, 3, 3, 1, 2, 3, 1, 2, 3, 1, 2, 1, 3, 1, 1, 2, 3, 2, 3, 1, 2, 3, 3, 2, 3, 2, 1, 3, 2, 1, 2, 1, 2, 3, 1, 2, 3, 1, 2, 3, 1, 2, 3, 1, 2, 3, 3, 1, 2, 1, 1, 2, 3, 1, 2, 3, 1, 3, 1, 3, 1, 2, 3, 2, 3, 1, 2, 3, 1, 2, 3, 2, 1, 2, 2, 1, 3, 1, 1, 3, 2, 3, 1, 2, 3, 2, 1, 2, 3, 3, 2, 1, 2, 3, 1, 3, 1, 2, 3, 1, 3, 1, 3], \"Freq\": [0.098507023305422048, 0.29552106991626614, 0.64029565148524337, 0.9859846124321423, 0.76467513234263251, 0.97718595907792893, 0.3669669962471821, 0.55045049437077309, 0.12232233208239403, 0.13021928386350801, 0.58598677738578608, 0.26043856772701601, 0.98598460233728613, 0.26919086278091686, 0.67297715695229221, 0.9571058898270175, 0.76467397630995182, 0.67299885403675397, 0.94847677344230985, 0.33726993584067505, 0.33726993584067505, 0.28908851643486433, 0.89399299187537828, 0.12255992401918341, 0.85791946813428377, 0.67903413059145334, 0.15089647346476742, 0.15089647346476742, 0.50627848268317155, 0.32217721625292733, 0.18410126643024419, 0.77108582273343729, 0.23978774658577134, 0.71936323975731409, 0.18737460956039231, 0.43720742230758208, 0.43720742230758208, 0.67300719667296816, 0.35806069176702399, 0.32550971978820364, 0.32550971978820364, 0.82067609499516025, 0.11723944214216575, 0.93154979361705381, 0.436915298704245, 0.14563843290141501, 0.436915298704245, 0.85629107270522897, 0.77108683895244556, 0.68252787118178437, 0.075836430131309376, 0.22750929039392814, 0.90897147546030421, 0.14362572684132707, 0.64631577078597191, 0.14362572684132707, 0.14611894525431038, 0.40913304671206907, 0.43835683576293111, 0.91709401282626701, 0.77108612863680615, 0.75559901624367043, 0.21588543321247727, 0.28594419810903093, 0.57188839621806187, 0.14297209905451547, 0.068126818479620585, 0.74939500327582642, 0.20438045543886174, 0.89066981269347734, 0.12723854467049675, 0.3006750151475357, 0.12027000605901428, 0.60135003029507139, 0.84596793159807915, 0.84888238818252271, 0.27083437537822191, 0.60937734460099935, 0.13541718768911096, 0.7710582277418857, 0.91710829325608845, 0.86630221537160934, 0.11550696204954791, 0.74104362928137812, 0.04940290861875854, 0.14820872585627562, 0.84888442283865795, 0.90056238185028836, 0.60866163422450892, 0.36519698053470534, 0.060866163422450895, 0.29339564926882161, 0.14669782463441081, 0.51344238622043781, 0.67300965734643037, 0.55674172715530834, 0.38971920900871587, 0.11134834543106167, 0.61338073110234848, 0.3774650652937529, 0.76469126573341561, 0.34234813100552197, 0.41570844479241953, 0.24453437928965854, 0.067438596136332976, 0.87670174977232873, 0.15021123583446125, 0.55077453139302457, 0.3004224716689225, 0.69369526295644157, 0.2601357236086656, 0.36290008866754991, 0.2540300620672849, 0.36290008866754991, 0.67447493133875025, 0.29976663615055565, 0.48371911183403188, 0.32247940788935459, 0.2015496299308466, 0.81800134054175144, 0.18177807567594476, 0.71922799163455364, 0.14384559832691074, 0.59411181143281444, 0.3126904270699023, 0.093807128120970695, 0.9089434054671286, 0.092560226098953577, 0.33938749569616311, 0.58621476529337269, 0.85629721082681509, 0.82430433763827049, 0.23551552503950585, 0.74440436005902677, 0.12406739334317113, 0.12406739334317113, 0.80876370270363418, 0.67295609988163974, 0.21884022741380182, 0.38297039797415316, 0.43768045482760365, 0.67300595634102978, 0.91732392997803613, 0.97744967425540363, 0.91425251613901581, 0.050791806452167548, 0.9646407548853011, 0.90072497266964358, 0.19150493653615469, 0.76601974614461876, 0.70085604993915895, 0.26956001920736883, 0.77108736384639365, 0.73913438872417159, 0.20158210601568316, 0.067194035338561053, 0.45265806489126981, 0.53495953123513706, 0.67300766168050274, 0.18622991895157234, 0.46557479737893087, 0.32590235816525159, 0.84888218146843186, 0.67294839440267695, 0.61319852009247666, 0.21461948203236686, 0.18395955602774303, 0.84888278109795368, 0.95710536861945172, 0.90028873843556756, 0.85629839686326625, 0.91710862686259753, 0.98896240224443066, 0.77108739273770721, 0.95405932054917519, 0.83241773554370857, 0.06403213350336219, 0.12806426700672438, 0.63690770250061779, 0.35383761250034323, 0.89399299261743959, 0.19617327791361489, 0.24521659739201862, 0.58851983374084471, 0.98891354740747095, 0.19663031174962722, 0.45880406074913022, 0.39326062349925445, 0.13478837077374048, 0.87612441002931307, 0.9867815189371848, 0.23824610399950305, 0.35736915599925456, 0.4169306819991303, 0.99811505626420527, 0.67272724635004633, 0.9646407548418432, 0.67007791956445273, 0.26803116782578107, 0.95396473127715031, 0.16058586824876481, 0.72263640711944166, 0.080292934124382404, 0.80941050625492816, 0.80943294082407036, 0.21353166469764004, 0.74736082644174007, 0.30622308254248737, 0.10207436084749578, 0.61244616508497474, 0.86116716237980317, 0.14352786039663387, 0.80939267834483197, 0.13209401259839135, 0.33023503149597838, 0.52837605039356539, 0.74244169520315495, 0.21212619862947285, 0.67299372166436411, 0.69799274155885693, 0.28740877593599989, 0.87763633416588749, 0.079785121287807959, 0.95710524493607041, 0.31551125303095878, 0.1262045012123835, 0.56792025545572578, 0.19160895115804735, 0.76643580463218941, 0.8021668516477598, 0.08021668516477598, 0.16043337032955196, 0.80941303652179997, 0.65101044079253556, 0.21700348026417854, 0.91774452086783653, 0.1673917311477256, 0.83695865573862804, 0.98659886335523672, 0.90894523602702249, 0.7713245093350185, 0.050359893358701127, 0.60431872030441347, 0.3525192535109079, 0.26401425829842395, 0.17600950553228265, 0.52802851659684791, 0.60716344601342964, 0.26985042045041319, 0.13492521022520659, 0.33502030393485643, 0.33502030393485643, 0.33502030393485643, 0.39060842942119689, 0.55801204203028132, 0.11160240840605626, 0.67296696461995853, 0.84889471270168948, 0.77108872818988383, 0.95387474101388181, 0.95710567480865338, 0.77108612314129199, 0.67299379867942621, 0.72055437778913112, 0.12531380483289237, 0.15664225604111545, 0.3308880309114699, 0.5514800515191165, 0.19101589554232384, 0.76406358216929537, 0.85084427417001263, 0.070903689514167728, 0.070903689514167728, 0.8080617373501221, 0.16161234747002443, 0.16705880444364252, 0.66823521777457007, 0.20882350555455312, 0.32359065725579395, 0.46227236750827705, 0.23113618375413852, 0.93299597475025575, 0.92419867345418305, 0.77108595712581529, 0.85629909036673246, 0.19088975960402649, 0.76355903841610595, 0.84899944616896483, 0.16770646618569865, 0.83853233092849333, 0.22322876989526932, 0.74409589965089773, 0.069593725620266889, 0.41756235372160133, 0.55674980496213511, 0.7710974185233006, 0.31935671181869041, 0.31935671181869041, 0.3774215685129978, 0.80927012265709852, 0.96464074934041133, 0.74737935899688313, 0.21981745852849505, 0.043963491705699007, 0.95710536799136969, 0.67214051664829677, 0.32937955502061439, 0.13175182200824576, 0.52700728803298302, 0.34657702886073305, 0.63539121957801059, 0.98890859699286604, 0.67300909431367162], \"Term\": [\"'ve\", \"'ve\", \"'ve\", \"-=\", \"-add\", \"-bug\", \"-fix\", \"-fix\", \"-fix\", \"1\", \"1\", \"1\", \"=-\", \"abil\", \"abil\", \"accent\", \"accuraci\", \"ad-fre\", \"alert\", \"also\", \"also\", \"also\", \"analyt\", \"appear\", \"appear\", \"appreci\", \"appreci\", \"appreci\", \"better\", \"better\", \"better\", \"bob\", \"camera\", \"camera\", \"caus\", \"caus\", \"caus\", \"celebr\", \"chang\", \"chang\", \"chang\", \"chart\", \"chart\", \"chat\", \"check\", \"check\", \"check\", \"chines\", \"coach\", \"compat\", \"compat\", \"compat\", \"consid\", \"continu\", \"continu\", \"continu\", \"crash\", \"crash\", \"crash\", \"credit\", \"cycl\", \"date\", \"date\", \"day\", \"day\", \"day\", \"design\", \"design\", \"design\", \"detail\", \"detail\", \"devic\", \"devic\", \"devic\", \"dictionari\", \"dog\", \"download\", \"download\", \"download\", \"drink\", \"earn\", \"email\", \"email\", \"enjoy\", \"enjoy\", \"enjoy\", \"enter\", \"errand\", \"even\", \"even\", \"even\", \"everi\", \"everi\", \"everi\", \"exampl\", \"faster\", \"faster\", \"faster\", \"favorit\", \"favorit\", \"feed\", \"feedback\", \"feedback\", \"feedback\", \"filter\", \"filter\", \"free\", \"free\", \"free\", \"function\", \"function\", \"game\", \"game\", \"game\", \"gener\", \"gener\", \"get\", \"get\", \"get\", \"give\", \"give\", \"hear\", \"hear\", \"help\", \"help\", \"help\", \"hike\", \"includ\", \"includ\", \"includ\", \"instagram\", \"integr\", \"integr\", \"interfac\", \"interfac\", \"interfac\", \"ios8\", \"ios9\", \"ipad\", \"ipad\", \"ipad\", \"itun\", \"japanes\", \"languag\", \"leav\", \"leav\", \"len\", \"letter\", \"level\", \"level\", \"like\", \"like\", \"limit\", \"list\", \"list\", \"list\", \"love\", \"love\", \"mac\", \"made\", \"made\", \"made\", \"mail\", \"mainten\", \"make\", \"make\", \"make\", \"manga\", \"mark\", \"match\", \"mission\", \"mixtap\", \"moment\", \"monitor\", \"nice\", \"notif\", \"notif\", \"notif\", \"one\", \"one\", \"onebusaway\", \"optim\", \"optim\", \"optim\", \"optimis\", \"option\", \"option\", \"option\", \"order\", \"order\", \"pack\", \"page\", \"page\", \"page\", \"patient\", \"pattern\", \"perspect\", \"photo\", \"photo\", \"pin\", \"play\", \"play\", \"play\", \"prepar\", \"preschool\", \"pro\", \"pro\", \"problem\", \"problem\", \"problem\", \"product\", \"product\", \"prompt\", \"purchas\", \"purchas\", \"purchas\", \"question\", \"question\", \"radar\", \"rate\", \"rate\", \"realli\", \"realli\", \"recipi\", \"releas\", \"releas\", \"releas\", \"reliabl\", \"reliabl\", \"request\", \"request\", \"request\", \"retina\", \"reward\", \"reward\", \"rotat\", \"run\", \"run\", \"sale\", \"satellit\", \"scroll\", \"search\", \"search\", \"search\", \"section\", \"section\", \"section\", \"send\", \"send\", \"send\", \"set\", \"set\", \"set\", \"share\", \"share\", \"share\", \"shop\", \"simpl\", \"simplifi\", \"small\", \"snap\", \"snl\", \"social\", \"store\", \"store\", \"store\", \"stori\", \"stori\", \"sync\", \"sync\", \"take\", \"take\", \"take\", \"text\", \"text\", \"thi\", \"thi\", \"thi\", \"time\", \"time\", \"time\", \"tool\", \"trail\", \"transact\", \"transit\", \"travel\", \"travel\", \"troubl\", \"turn\", \"turn\", \"ui\", \"ui\", \"upgrad\", \"upgrad\", \"upgrad\", \"usabl\", \"use\", \"use\", \"use\", \"vehicl\", \"videoshop.net\", \"view\", \"view\", \"view\", \"wallet\", \"within\", \"word\", \"word\", \"word\", \"work\", \"work\", \"write\", \"zinio\"]}, \"mdsDat\": {\"y\": [0.031973257948061648, -0.095556939286318338, 0.063583681338256731], \"cluster\": [1, 1, 1], \"Freq\": [37.259068846302341, 36.078202326447823, 26.662728827249836], \"topics\": [1, 2, 3], \"x\": [-0.10043334233925251, 0.019949277949126779, 0.080484064390125717]}, \"R\": 30, \"lambda.step\": 0.01, \"tinfo\": {\"Category\": [\"Default\", \"Default\", \"Default\", \"Default\", \"Default\", \"Default\", \"Default\", \"Default\", \"Default\", \"Default\", \"Default\", \"Default\", \"Default\", \"Default\", \"Default\", \"Default\", \"Default\", \"Default\", \"Default\", \"Default\", \"Default\", \"Default\", \"Default\", \"Default\", \"Default\", \"Default\", \"Default\", \"Default\", \"Default\", \"Default\", \"Topic1\", \"Topic1\", \"Topic1\", \"Topic1\", \"Topic1\", \"Topic1\", \"Topic1\", \"Topic1\", \"Topic1\", \"Topic1\", \"Topic1\", \"Topic1\", \"Topic1\", \"Topic1\", \"Topic1\", \"Topic1\", \"Topic1\", \"Topic1\", \"Topic1\", \"Topic1\", \"Topic1\", \"Topic1\", \"Topic1\", \"Topic1\", \"Topic1\", \"Topic1\", \"Topic1\", \"Topic1\", \"Topic1\", \"Topic1\", \"Topic1\", \"Topic1\", \"Topic1\", \"Topic1\", \"Topic1\", \"Topic1\", \"Topic1\", \"Topic1\", \"Topic1\", \"Topic1\", \"Topic1\", \"Topic1\", \"Topic1\", \"Topic1\", \"Topic1\", \"Topic1\", \"Topic1\", \"Topic1\", \"Topic1\", \"Topic1\", \"Topic1\", \"Topic1\", \"Topic1\", \"Topic1\", \"Topic1\", \"Topic1\", \"Topic1\", \"Topic1\", \"Topic1\", \"Topic1\", \"Topic1\", \"Topic2\", \"Topic2\", \"Topic2\", \"Topic2\", \"Topic2\", \"Topic2\", \"Topic2\", \"Topic2\", \"Topic2\", \"Topic2\", \"Topic2\", \"Topic2\", \"Topic2\", \"Topic2\", \"Topic2\", \"Topic2\", \"Topic2\", \"Topic2\", \"Topic2\", \"Topic2\", \"Topic2\", \"Topic2\", \"Topic2\", \"Topic2\", \"Topic2\", \"Topic2\", \"Topic2\", \"Topic2\", \"Topic2\", \"Topic2\", \"Topic2\", \"Topic2\", \"Topic2\", \"Topic2\", \"Topic2\", \"Topic2\", \"Topic2\", \"Topic2\", \"Topic2\", \"Topic2\", \"Topic2\", \"Topic2\", \"Topic2\", \"Topic2\", \"Topic2\", \"Topic2\", \"Topic2\", \"Topic2\", \"Topic2\", \"Topic2\", \"Topic2\", \"Topic2\", \"Topic2\", \"Topic2\", \"Topic2\", \"Topic2\", \"Topic2\", \"Topic2\", \"Topic2\", \"Topic2\", \"Topic2\", \"Topic2\", \"Topic3\", \"Topic3\", \"Topic3\", \"Topic3\", \"Topic3\", \"Topic3\", \"Topic3\", \"Topic3\", \"Topic3\", \"Topic3\", \"Topic3\", \"Topic3\", \"Topic3\", \"Topic3\", \"Topic3\", \"Topic3\", \"Topic3\", \"Topic3\", \"Topic3\", \"Topic3\", \"Topic3\", \"Topic3\", \"Topic3\", \"Topic3\", \"Topic3\", \"Topic3\", \"Topic3\", \"Topic3\", \"Topic3\", \"Topic3\", \"Topic3\", \"Topic3\", \"Topic3\", \"Topic3\", \"Topic3\", \"Topic3\", \"Topic3\", \"Topic3\", \"Topic3\", \"Topic3\", \"Topic3\", \"Topic3\", \"Topic3\", \"Topic3\", \"Topic3\", \"Topic3\", \"Topic3\", \"Topic3\", \"Topic3\", \"Topic3\", \"Topic3\", \"Topic3\", \"Topic3\", \"Topic3\", \"Topic3\", \"Topic3\", \"Topic3\", \"Topic3\", \"Topic3\", \"Topic3\", \"Topic3\", \"Topic3\", \"Topic3\"], \"Term\": [\"leav\", \"includ\", \"work\", \"filter\", \"email\", \"ui\", \"'ve\", \"-=\", \"=-\", \"chat\", \"order\", \"sale\", \"alert\", \"pack\", \"rate\", \"-bug\", \"crash\", \"store\", \"like\", \"notif\", \"appear\", \"realli\", \"languag\", \"optim\", \"tool\", \"small\", \"enjoy\", \"love\", \"view\", \"releas\", \"chat\", \"-bug\", \"trail\", \"languag\", \"small\", \"write\", \"optimis\", \"moment\", \"leav\", \"pin\", \"hike\", \"satellit\", \"nice\", \"consid\", \"mail\", \"dog\", \"manga\", \"enter\", \"simpl\", \"troubl\", \"realli\", \"email\", \"accuraci\", \"-add\", \"feed\", \"recipi\", \"wallet\", \"mark\", \"snap\", \"accent\", \"notif\", \"detail\", \"take\", \"enjoy\", \"request\", \"store\", \"interfac\", \"view\", \"rate\", \"give\", \"like\", \"list\", \"make\", \"question\", \"help\", \"photo\", \"appreci\", \"favorit\", \"gener\", \"compat\", \"one\", \"get\", \"send\", \"better\", \"feedback\", \"love\", \"even\", \"faster\", \"chang\", \"use\", \"game\", \"sale\", \"pack\", \"tool\", \"patient\", \"filter\", \"earn\", \"mixtap\", \"credit\", \"japanes\", \"rotat\", \"mission\", \"transit\", \"instagram\", \"chines\", \"bob\", \"transact\", \"cycl\", \"snl\", \"coach\", \"limit\", \"monitor\", \"simplifi\", \"usabl\", \"drink\", \"scroll\", \"chart\", \"order\", \"videoshop.net\", \"perspect\", \"len\", \"product\", \"date\", \"integr\", \"design\", \"pro\", \"thi\", \"play\", \"abil\", \"function\", \"text\", \"camera\", \"hear\", \"continu\", \"search\", \"love\", \"free\", \"download\", \"feedback\", \"reward\", \"-fix\", \"share\", \"crash\", \"1\", \"made\", \"time\", \"day\", \"includ\", \"use\", \"chang\", \"help\", \"set\", \"favorit\", \"-=\", \"=-\", \"alert\", \"dictionari\", \"letter\", \"errand\", \"match\", \"preschool\", \"retina\", \"prepar\", \"prompt\", \"vehicl\", \"ios8\", \"appear\", \"exampl\", \"zinio\", \"mac\", \"celebr\", \"itun\", \"ad-fre\", \"social\", \"radar\", \"shop\", \"ios9\", \"mainten\", \"pattern\", \"within\", \"turn\", \"onebusaway\", \"analyt\", \"run\", \"reliabl\", \"ui\", \"work\", \"'ve\", \"includ\", \"level\", \"optim\", \"releas\", \"sync\", \"devic\", \"travel\", \"problem\", \"crash\", \"purchas\", \"everi\", \"upgrad\", \"word\", \"use\", \"game\", \"stori\", \"section\", \"ipad\", \"chang\", \"set\", \"feedback\", \"page\", \"search\", \"caus\", \"check\", \"made\", \"option\", \"also\"], \"loglift\": [30.0, 29.0, 28.0, 27.0, 26.0, 25.0, 24.0, 23.0, 22.0, 21.0, 20.0, 19.0, 18.0, 17.0, 16.0, 15.0, 14.0, 13.0, 12.0, 11.0, 10.0, 9.0, 8.0, 7.0, 6.0, 5.0, 4.0, 3.0, 2.0, 1.0, 0.93610000000000004, 0.93469999999999998, 0.92710000000000004, 0.9173, 0.91569999999999996, 0.91320000000000001, 0.91310000000000002, 0.91239999999999999, 0.91000000000000003, 0.9032, 0.89100000000000001, 0.89090000000000003, 0.89059999999999995, 0.88780000000000003, 0.87390000000000001, 0.87390000000000001, 0.87390000000000001, 0.87370000000000003, 0.87250000000000005, 0.87180000000000002, 0.86719999999999997, 0.85370000000000001, 0.84930000000000005, 0.84919999999999995, 0.84660000000000002, 0.81159999999999999, 0.8115, 0.8115, 0.8115, 0.8115, 0.80579999999999996, 0.80989999999999995, 0.79110000000000003, 0.71409999999999996, 0.74009999999999998, 0.66459999999999997, 0.67200000000000004, 0.67749999999999999, 0.62260000000000004, 0.73750000000000004, 0.6411, 0.64659999999999995, 0.48880000000000001, 0.73650000000000004, 0.44309999999999999, 0.61699999999999999, 0.63949999999999996, 0.49419999999999997, 0.61109999999999998, 0.60250000000000004, 0.5635, 0.28899999999999998, 0.53859999999999997, 0.31140000000000001, -0.082799999999999999, 0.21929999999999999, 0.45839999999999997, 0.3881, -0.044600000000000001, -0.1782, 0.0047000000000000002, 0.96809999999999996, 0.96489999999999998, 0.95840000000000003, 0.94430000000000003, 0.92500000000000004, 0.92169999999999996, 0.92169999999999996, 0.91990000000000005, 0.91559999999999997, 0.9083, 0.90439999999999998, 0.90429999999999999, 0.90380000000000005, 0.9032, 0.87960000000000005, 0.87960000000000005, 0.87960000000000005, 0.87960000000000005, 0.87960000000000005, 0.87949999999999995, 0.87949999999999995, 0.87949999999999995, 0.879, 0.87539999999999996, 0.87380000000000002, 0.86439999999999995, 0.85250000000000004, 0.84119999999999995, 0.84119999999999995, 0.84119999999999995, 0.82350000000000001, 0.78069999999999995, 0.77739999999999998, 0.69740000000000002, 0.75729999999999997, 0.59540000000000004, 0.69879999999999998, 0.66039999999999999, 0.70230000000000004, 0.79610000000000003, 0.66600000000000004, 0.77070000000000005, 0.61399999999999999, 0.48259999999999997, 0.37619999999999998, 0.4128, 0.51090000000000002, 0.1356, 0.6633, 0.44409999999999999, 0.40389999999999998, 0.1336, 0.45779999999999998, 0.27750000000000002, 0.26090000000000002, 0.45600000000000002, -0.059799999999999999, -0.1207, -0.1111, -0.14879999999999999, -0.079399999999999998, 0.041500000000000002, 1.2552000000000001, 1.2552000000000001, 1.2459, 1.228, 1.1964999999999999, 1.1936, 1.1877, 1.1697, 1.1693, 1.1692, 1.1687000000000001, 1.1662999999999999, 1.1549, 1.1491, 1.1282000000000001, 1.1282000000000001, 1.1282000000000001, 1.1282000000000001, 1.1281000000000001, 1.1278999999999999, 1.1277999999999999, 1.1277999999999999, 1.127, 1.1268, 1.1266, 1.1209, 1.1054999999999999, 1.0779000000000001, 1.0555000000000001, 1.0555000000000001, 1.0429999999999999, 1.0456000000000001, 1.0071000000000001, 0.88729999999999998, 0.8508, 0.78029999999999999, 1.0335000000000001, 0.7601, 0.80620000000000003, 1.0127999999999999, 0.76480000000000004, 0.99950000000000006, 0.84060000000000001, 0.51749999999999996, 0.67330000000000001, 0.70199999999999996, 0.6794, 0.64739999999999998, 0.32350000000000001, 0.35049999999999998, 0.79749999999999999, 0.6976, 0.48530000000000001, 0.185, 0.2074, -0.089200000000000002, 0.42709999999999998, 0.30559999999999998, 0.43240000000000001, 0.50529999999999997, 0.16950000000000001, 0.40460000000000002, 0.1353], \"Freq\": [19.0, 32.0, 17.0, 14.0, 17.0, 13.0, 20.0, 8.0, 8.0, 11.0, 14.0, 10.0, 7.0, 10.0, 24.0, 10.0, 34.0, 31.0, 18.0, 15.0, 8.0, 12.0, 10.0, 20.0, 8.0, 9.0, 20.0, 24.0, 22.0, 15.0, 11.219745815806322, 9.7090909829309133, 8.1510207208281606, 9.5395741852828504, 8.7831284464316735, 6.5731632150385595, 6.5722978942065042, 6.5675215945449068, 18.224987810758908, 5.7821268645602508, 4.9957706015888697, 4.9955005907222043, 5.7091829989700429, 4.9798691807577118, 4.2069620294667143, 4.2069370156396024, 4.2068847236104192, 4.206283750371318, 4.2010811848267142, 4.1974367742511429, 11.115690507026232, 15.14921868234271, 3.4175906409450953, 3.4174037834417526, 3.4084344413103222, 2.6293357167270881, 2.6293265715718412, 2.629325971752714, 2.6292975576675883, 2.6292964158521062, 13.025803656976555, 6.5820506925690374, 11.591083935409662, 15.403667234940359, 9.7362487534655386, 23.116706512211582, 17.642146563841564, 16.687492977272004, 16.913700169344995, 8.5703147058814313, 13.12139413011238, 10.585885645013796, 19.812708042994089, 7.3372703747306183, 18.558504227809852, 10.305615118370151, 9.3611861576799864, 12.944603161050054, 9.1604294717815851, 8.9741916912136794, 9.2491508765047392, 12.340313144423321, 9.4637810998703475, 11.052950055582649, 14.025503048286735, 11.274335685967344, 9.6809777663787315, 9.8654790447208782, 10.947190701996902, 10.738427378658736, 10.314932769435254, 9.6279605410734916, 9.5953469740990087, 8.0666609830618246, 6.5051621193257727, 13.490878450948102, 4.9439749602718335, 4.9439097484758578, 4.9350094802919422, 4.912813160699768, 4.8748473240135928, 4.1633874130976833, 4.1632144841256213, 4.1610720402790511, 4.1585778800903839, 3.3827562211722397, 3.3827364958752502, 3.382716160256126, 3.3827143578358498, 3.382570217439389, 3.382517951198003, 3.3825106770664553, 3.3822982226026985, 3.3807439980152703, 3.3687714231368195, 3.3620397171903922, 7.3044013849610669, 12.556768993188639, 2.6021277702860979, 2.6021248525365936, 2.6021247694853487, 5.7271356494442047, 7.2963662173673001, 6.6661698914072334, 10.636720425391928, 7.2060814154081152, 15.667925360378128, 9.0374065363892093, 10.376693324929942, 8.3980651184398578, 4.9488417770733388, 8.7860563078900622, 5.4206411516896393, 9.2829855270473356, 11.608011347922579, 12.772154454695098, 10.887891249460184, 8.8816096836042142, 16.895692745587684, 6.4543960780876626, 9.1965850886361729, 9.6830101546492475, 14.110082257685523, 8.7580526867561801, 10.227461811293749, 10.131098586338872, 7.9625214788038718, 11.015118485735126, 11.013870534935505, 9.9178355198349379, 9.9431249452265025, 8.9521876339677586, 7.9700579594137615, 7.590507698998131, 7.590506388057392, 6.8401635618242924, 5.3807093917054685, 3.9176409210724223, 3.9067815327597089, 3.8850074166766819, 3.1830515150609071, 3.1816926405073787, 3.181445511951019, 3.180124392376904, 3.1729458345170269, 3.1388152275292618, 6.8646175184710261, 2.4485204615344269, 2.4484846245706784, 2.4483930915770644, 2.4483630895051864, 2.4482956429854354, 2.447828461867473, 2.4475689324599772, 2.4474954413219603, 2.4456063332632039, 2.445117423804664, 2.4447178541307775, 2.4315817536201263, 2.3964759351830547, 4.6717171183063737, 1.7139711473880297, 1.7139711459847764, 4.5200204119679643, 3.9588292683223729, 9.8097781752744417, 11.210144635488907, 12.676074203668895, 18.857262338327114, 3.9133947091020782, 11.626423576396631, 9.4618052435323907, 3.8433262447781322, 9.5264298921742867, 3.7947975146673496, 6.0542980348700457, 15.307901124831659, 7.9155843099594358, 7.3350269862303978, 7.5578987248023157, 7.7327868967279132, 12.691944505350349, 10.431570365768712, 5.3664323331709216, 6.0863481330868989, 7.918051243236655, 9.8560226196792744, 8.8137259533980501, 9.9728495712343044, 6.8616298740583046, 7.1870584417320442, 6.578280812797658, 6.0690679941615944, 6.7849583143424779, 6.0968839810360276, 6.3358200524184136], \"Total\": [19.0, 32.0, 17.0, 14.0, 17.0, 13.0, 20.0, 8.0, 8.0, 11.0, 14.0, 10.0, 7.0, 10.0, 24.0, 10.0, 34.0, 31.0, 18.0, 15.0, 8.0, 12.0, 10.0, 20.0, 8.0, 9.0, 20.0, 24.0, 22.0, 15.0, 11.808279144466146, 10.233466728723757, 8.6561474602642328, 10.230705747196392, 9.4352010940491216, 7.0785106139091418, 7.0784751795049754, 7.0781255021562375, 19.688214888394167, 6.2895406960876965, 5.5008925417423278, 5.5008814632825169, 6.2889171257676963, 5.5007226684071622, 4.7120791168930332, 4.7120779694394352, 4.7120757883984394, 4.7120666752536868, 4.7120095580164625, 4.7114282795467624, 12.533665223027128, 17.314973612950528, 3.9232406135709583, 3.9232346824321369, 3.9231519103630652, 3.1344515306677523, 3.1344511276704607, 3.1344511256135372, 3.1344501228662827, 3.1344494186972405, 15.617158843340619, 7.8592536765462819, 14.103638426321716, 20.241723168912667, 12.466234399313111, 31.919867131430998, 24.180406464267229, 22.746145977080559, 24.355554130882759, 11.002426956952686, 18.548744783081382, 14.882273329194204, 32.61586475613769, 9.4283497885777869, 31.980512143291449, 14.923637547257115, 13.254120219495897, 21.194014322290187, 13.343713134209601, 13.186274700279515, 14.130775879557321, 24.807785564853393, 14.823026746904873, 21.727172645580886, 40.894045365108724, 24.300903602904416, 16.429489617397888, 17.961649921760589, 30.721048841511113, 34.44424241894459, 27.555793763282672, 10.135831665153034, 10.133955498853, 8.5745278827611653, 7.0132195242099131, 14.828303928189921, 5.4519188592745902, 5.4519168760900847, 5.4520037532370118, 5.4506372684725637, 5.4481393092621309, 4.6712688178005779, 4.6712650346117917, 4.671275287861465, 4.6713087728020337, 3.8906175052800753, 3.8906168271853265, 3.8906159618039866, 3.8906159895323227, 3.8906123778167814, 3.8906097294023643, 3.8906095836279335, 3.8906028454629897, 3.8905589980383883, 3.8907567445143196, 3.8894135525219964, 8.5295526976952836, 14.838075336315592, 3.1099660698050529, 3.1099660520686401, 3.1099660519285335, 6.9672884221679157, 9.2641729932356007, 8.4920091771636539, 14.67850726508151, 9.366292361519271, 23.943664707294161, 12.454396030052809, 14.859345368105721, 11.532441443963464, 6.1876460286271024, 12.51106465078235, 6.9518985052802922, 13.925081835857537, 19.857071437329029, 24.300903602904416, 19.97187482903156, 14.769173944090275, 40.894045365108724, 9.216442047681511, 16.350244194599213, 17.920760210865371, 34.218697591183883, 15.358708331527462, 21.478825864925437, 21.632268556093067, 13.988743350808587, 32.411329643823287, 34.44424241894459, 30.721048841511113, 31.980512143291449, 26.864043445408669, 21.194014322290187, 8.113716886784152, 8.1137169698552309, 7.3802545259963273, 5.910389523341304, 4.4408672140447791, 4.4416689844201924, 4.4430190329280395, 3.7062983833419842, 3.7063895250459074, 3.7064011114468212, 3.7064827496770194, 3.7070440586018654, 3.7093652818137524, 8.1592739878288221, 2.9717255587173601, 2.971728044833601, 2.9717343707588593, 2.9717364240487498, 2.9717419008793251, 2.9717732623223392, 2.9717955855231879, 2.9717959256051447, 2.9719140836719236, 2.9719620646157487, 2.971996094552305, 2.9729730895414361, 2.9755682784504969, 5.9627993049040589, 2.2371540006643502, 2.2371540025213061, 5.9740107420090283, 5.2189628613704837, 13.439127946668743, 17.312168725443755, 20.303120862752895, 32.411329643823287, 5.2217975060460518, 20.390136936802392, 15.847295308701359, 5.2351664093757453, 16.629250014493529, 5.2386256972315177, 9.7967794429205401, 34.218697591183883, 15.140731670258582, 13.633467333167676, 14.369111454909419, 15.180055725338121, 34.44424241894459, 27.555793763282672, 9.0665110845386216, 11.363022661484449, 18.278175120136655, 30.721048841511113, 26.864043445408669, 40.894045365108724, 16.789361642649752, 19.857071437329029, 16.010707144572201, 13.732638838223645, 21.478825864925437, 15.257057639312253, 20.754888758619657], \"logprob\": [30.0, 29.0, 28.0, 27.0, 26.0, 25.0, 24.0, 23.0, 22.0, 21.0, 20.0, 19.0, 18.0, 17.0, 16.0, 15.0, 14.0, 13.0, 12.0, 11.0, 10.0, 9.0, 8.0, 7.0, 6.0, 5.0, 4.0, 3.0, 2.0, 1.0, -5.5077999999999996, -5.6524000000000001, -5.8273000000000001, -5.6699999999999999, -5.7526000000000002, -6.0425000000000004, -6.0426000000000002, -6.0433000000000003, -5.0227000000000004, -6.1707000000000001, -6.3169000000000004, -6.3169000000000004, -6.1833999999999998, -6.3201000000000001, -6.4886999999999997, -6.4886999999999997, -6.4886999999999997, -6.4889000000000001, -6.4901, -6.4909999999999997, -5.5171000000000001, -5.2074999999999996, -6.6965000000000003, -6.6966000000000001, -6.6992000000000003, -6.9587000000000003, -6.9587000000000003, -6.9587000000000003, -6.9588000000000001, -6.9588000000000001, -5.3585000000000003, -6.0411000000000001, -5.4752000000000001, -5.1909000000000001, -5.6496000000000004, -4.7849000000000004, -5.0552000000000001, -5.1108000000000002, -5.0972999999999997, -5.7771999999999997, -5.3512000000000004, -5.5659000000000001, -4.9390999999999998, -5.9325000000000001, -5.0045000000000002, -5.5928000000000004, -5.6889000000000003, -5.3647999999999998, -5.7106000000000003, -5.7310999999999996, -5.7008999999999999, -5.4126000000000003, -5.6779999999999999, -5.5228000000000002, -5.2846000000000002, -5.5029000000000003, -5.6553000000000004, -5.6364000000000001, -5.5324, -5.5515999999999996, -5.5918999999999999, -5.6285999999999996, -5.6319999999999997, -5.8055000000000003, -6.0206999999999997, -5.2911999999999999, -6.2950999999999997, -6.2950999999999997, -6.2968999999999999, -6.3014000000000001, -6.3091999999999997, -6.4668999999999999, -6.4669999999999996, -6.4675000000000002, -6.4680999999999997, -6.6745999999999999, -6.6745999999999999, -6.6745999999999999, -6.6745999999999999, -6.6745999999999999, -6.6745999999999999, -6.6745999999999999, -6.6746999999999996, -6.6752000000000002, -6.6787000000000001, -6.6806999999999999, -5.9047999999999998, -5.3630000000000004, -6.9368999999999996, -6.9368999999999996, -6.9368999999999996, -6.1479999999999997, -5.9058999999999999, -5.9962, -5.5289000000000001, -5.9183000000000003, -5.1416000000000004, -5.6919000000000004, -5.5537000000000001, -5.7652999999999999, -6.2941000000000003, -5.7201000000000004, -6.2030000000000003, -5.6650999999999998, -5.4416000000000002, -5.3460000000000001, -5.5056000000000003, -5.7092999999999998, -5.0662000000000003, -6.0285000000000002, -5.6744000000000003, -5.6228999999999996, -5.2464000000000004, -5.7233000000000001, -5.5682, -5.5777000000000001, -5.8185000000000002, -5.4939999999999998, -5.4941000000000004, -5.5989000000000004, -5.5964, -5.7013999999999996, -5.8175999999999997, -5.5639000000000003, -5.5639000000000003, -5.6680000000000001, -5.9080000000000004, -6.2252999999999998, -6.2281000000000004, -6.2336999999999998, -6.4329999999999998, -6.4333999999999998, -6.4335000000000004, -6.4339000000000004, -6.4362000000000004, -6.4470000000000001, -5.6645000000000003, -6.6954000000000002, -6.6954000000000002, -6.6954000000000002, -6.6954000000000002, -6.6954000000000002, -6.6955999999999998, -6.6957000000000004, -6.6958000000000002, -6.6965000000000003, -6.6966999999999999, -6.6969000000000003, -6.7023000000000001, -6.7168000000000001, -6.0492999999999997, -7.0519999999999996, -7.0519999999999996, -6.0823, -6.2149000000000001, -5.3075000000000001, -5.1740000000000004, -5.0510999999999999, -4.6539000000000001, -6.2263999999999999, -5.1375999999999999, -5.3436000000000003, -6.2445000000000004, -5.3368000000000002, -6.2572000000000001, -5.7900999999999998, -4.8624999999999998, -5.5220000000000002, -5.5982000000000003, -5.5682, -5.5453999999999999, -5.0499000000000001, -5.2460000000000004, -5.9107000000000003, -5.7847999999999997, -5.5217000000000001, -5.3028000000000004, -5.4145000000000003, -5.2910000000000004, -5.6649000000000003, -5.6185999999999998, -5.7070999999999996, -5.7876000000000003, -5.6760999999999999, -5.7831000000000001, -5.7446000000000002]}};\n",
       "\n",
       "function LDAvis_load_lib(url, callback){\n",
       "  var s = document.createElement('script');\n",
       "  s.src = url;\n",
       "  s.async = true;\n",
       "  s.onreadystatechange = s.onload = callback;\n",
       "  s.onerror = function(){console.warn(\"failed to load library \" + url);};\n",
       "  document.getElementsByTagName(\"head\")[0].appendChild(s);\n",
       "}\n",
       "\n",
       "if(typeof(LDAvis) !== \"undefined\"){\n",
       "   // already loaded: just create the visualization\n",
       "   !function(LDAvis){\n",
       "       new LDAvis(\"#\" + \"ldavis_el229847569376803472094959\", ldavis_el229847569376803472094959_data);\n",
       "   }(LDAvis);\n",
       "}else if(typeof define === \"function\" && define.amd){\n",
       "   // require.js is available: use it to load d3/LDAvis\n",
       "   require.config({paths: {d3: \"https://cdnjs.cloudflare.com/ajax/libs/d3/3.5.5/d3.min\"}});\n",
       "   require([\"d3\"], function(d3){\n",
       "      window.d3 = d3;\n",
       "      LDAvis_load_lib(\"https://cdn.rawgit.com/bmabey/pyLDAvis/files/ldavis.v1.0.0.js\", function(){\n",
       "        new LDAvis(\"#\" + \"ldavis_el229847569376803472094959\", ldavis_el229847569376803472094959_data);\n",
       "      });\n",
       "    });\n",
       "}else{\n",
       "    // require.js not available: dynamically load d3 & LDAvis\n",
       "    LDAvis_load_lib(\"https://cdnjs.cloudflare.com/ajax/libs/d3/3.5.5/d3.min.js\", function(){\n",
       "         LDAvis_load_lib(\"https://cdn.rawgit.com/bmabey/pyLDAvis/files/ldavis.v1.0.0.js\", function(){\n",
       "                 new LDAvis(\"#\" + \"ldavis_el229847569376803472094959\", ldavis_el229847569376803472094959_data);\n",
       "            })\n",
       "         });\n",
       "}\n",
       "</script>"
      ],
      "text/plain": [
       "PreparedData(topic_coordinates=            Freq  cluster  topics         x         y\n",
       "topic                                                \n",
       "0      37.259069        1       1 -0.100433  0.031973\n",
       "1      36.078202        1       2  0.019949 -0.095557\n",
       "2      26.662729        1       3  0.080484  0.063584, topic_info=     Category       Freq      Term      Total  loglift  logprob\n",
       "term                                                           \n",
       "2119  Default  19.000000      leav  19.000000  30.0000  30.0000\n",
       "1619  Default  32.000000    includ  32.000000  29.0000  29.0000\n",
       "98    Default  17.000000      work  17.000000  28.0000  28.0000\n",
       "200   Default  14.000000    filter  14.000000  27.0000  27.0000\n",
       "1979  Default  17.000000     email  17.000000  26.0000  26.0000\n",
       "1637  Default  13.000000        ui  13.000000  25.0000  25.0000\n",
       "1585  Default  20.000000       've  20.000000  24.0000  24.0000\n",
       "195   Default   8.000000        -=   8.000000  23.0000  23.0000\n",
       "1953  Default   8.000000        =-   8.000000  22.0000  22.0000\n",
       "1646  Default  11.000000      chat  11.000000  21.0000  21.0000\n",
       "139   Default  14.000000     order  14.000000  20.0000  20.0000\n",
       "1277  Default  10.000000      sale  10.000000  19.0000  19.0000\n",
       "1533  Default   7.000000     alert   7.000000  18.0000  18.0000\n",
       "1515  Default  10.000000      pack  10.000000  17.0000  17.0000\n",
       "234   Default  24.000000      rate  24.000000  16.0000  16.0000\n",
       "447   Default  10.000000      -bug  10.000000  15.0000  15.0000\n",
       "1816  Default  34.000000     crash  34.000000  14.0000  14.0000\n",
       "1361  Default  31.000000     store  31.000000  13.0000  13.0000\n",
       "2092  Default  18.000000      like  18.000000  12.0000  12.0000\n",
       "86    Default  15.000000     notif  15.000000  11.0000  11.0000\n",
       "590   Default   8.000000    appear   8.000000  10.0000  10.0000\n",
       "1306  Default  12.000000    realli  12.000000   9.0000   9.0000\n",
       "408   Default  10.000000   languag  10.000000   8.0000   8.0000\n",
       "1532  Default  20.000000     optim  20.000000   7.0000   7.0000\n",
       "1399  Default   8.000000      tool   8.000000   6.0000   6.0000\n",
       "1148  Default   9.000000     small   9.000000   5.0000   5.0000\n",
       "29    Default  20.000000     enjoy  20.000000   4.0000   4.0000\n",
       "614   Default  24.000000      love  24.000000   3.0000   3.0000\n",
       "1963  Default  22.000000      view  22.000000   2.0000   2.0000\n",
       "1854  Default  15.000000    releas  15.000000   1.0000   1.0000\n",
       "...       ...        ...       ...        ...      ...      ...\n",
       "98     Topic3  11.210145      work  17.312169   0.8873  -5.1740\n",
       "1585   Topic3  12.676074       've  20.303121   0.8508  -5.0511\n",
       "1619   Topic3  18.857262    includ  32.411330   0.7803  -4.6539\n",
       "574    Topic3   3.913395     level   5.221798   1.0335  -6.2264\n",
       "1532   Topic3  11.626424     optim  20.390137   0.7601  -5.1376\n",
       "1854   Topic3   9.461805    releas  15.847295   0.8062  -5.3436\n",
       "227    Topic3   3.843326      sync   5.235166   1.0128  -6.2445\n",
       "1479   Topic3   9.526430     devic  16.629250   0.7648  -5.3368\n",
       "113    Topic3   3.794798    travel   5.238626   0.9995  -6.2572\n",
       "2174   Topic3   6.054298   problem   9.796779   0.8406  -5.7901\n",
       "1816   Topic3  15.307901     crash  34.218698   0.5175  -4.8625\n",
       "2021   Topic3   7.915584   purchas  15.140732   0.6733  -5.5220\n",
       "15     Topic3   7.335027     everi  13.633467   0.7020  -5.5982\n",
       "1746   Topic3   7.557899    upgrad  14.369111   0.6794  -5.5682\n",
       "94     Topic3   7.732787      word  15.180056   0.6474  -5.5454\n",
       "1743   Topic3  12.691945       use  34.444242   0.3235  -5.0499\n",
       "395    Topic3  10.431570      game  27.555794   0.3505  -5.2460\n",
       "1356   Topic3   5.366432     stori   9.066511   0.7975  -5.9107\n",
       "1165   Topic3   6.086348   section  11.363023   0.6976  -5.7848\n",
       "1888   Topic3   7.918051      ipad  18.278175   0.4853  -5.5217\n",
       "1731   Topic3   9.856023     chang  30.721049   0.1850  -5.3028\n",
       "1869   Topic3   8.813726       set  26.864043   0.2074  -5.4145\n",
       "143    Topic3   9.972850  feedback  40.894045  -0.0892  -5.2910\n",
       "2099   Topic3   6.861630      page  16.789362   0.4271  -5.6649\n",
       "1181   Topic3   7.187058    search  19.857071   0.3056  -5.6186\n",
       "1262   Topic3   6.578281      caus  16.010707   0.4324  -5.7071\n",
       "951    Topic3   6.069068     check  13.732639   0.5053  -5.7876\n",
       "2165   Topic3   6.784958      made  21.478826   0.1695  -5.6761\n",
       "1363   Topic3   6.096884    option  15.257058   0.4046  -5.7831\n",
       "1397   Topic3   6.335820      also  20.754889   0.1353  -5.7446\n",
       "\n",
       "[216 rows x 6 columns], token_table=      Topic      Freq           Term\n",
       "term                                \n",
       "1585      1  0.098507            've\n",
       "1585      2  0.295521            've\n",
       "1585      3  0.640296            've\n",
       "195       3  0.985985             -=\n",
       "151       1  0.764675           -add\n",
       "447       1  0.977186           -bug\n",
       "1586      1  0.366967           -fix\n",
       "1586      2  0.550450           -fix\n",
       "1586      3  0.122322           -fix\n",
       "668       1  0.130219              1\n",
       "668       2  0.585987              1\n",
       "668       3  0.260439              1\n",
       "1953      3  0.985985             =-\n",
       "1112      1  0.269191           abil\n",
       "1112      2  0.672977           abil\n",
       "1876      1  0.957106         accent\n",
       "1907      1  0.764674       accuraci\n",
       "1603      3  0.672999         ad-fre\n",
       "1533      3  0.948477          alert\n",
       "1397      1  0.337270           also\n",
       "1397      2  0.337270           also\n",
       "1397      3  0.289089           also\n",
       "863       3  0.893993         analyt\n",
       "590       2  0.122560         appear\n",
       "590       3  0.857919         appear\n",
       "1969      1  0.679034        appreci\n",
       "1969      2  0.150896        appreci\n",
       "1969      3  0.150896        appreci\n",
       "152       1  0.506278         better\n",
       "152       2  0.322177         better\n",
       "...     ...       ...            ...\n",
       "859       2  0.771086       transact\n",
       "1197      2  0.856299        transit\n",
       "113       1  0.190890         travel\n",
       "113       3  0.763559         travel\n",
       "2170      1  0.848999         troubl\n",
       "758       1  0.167706           turn\n",
       "758       3  0.838532           turn\n",
       "1637      2  0.223229             ui\n",
       "1637      3  0.744096             ui\n",
       "1746      1  0.069594         upgrad\n",
       "1746      2  0.417562         upgrad\n",
       "1746      3  0.556750         upgrad\n",
       "677       2  0.771097          usabl\n",
       "1743      1  0.319357            use\n",
       "1743      2  0.319357            use\n",
       "1743      3  0.377422            use\n",
       "1692      3  0.809270         vehicl\n",
       "500       2  0.964641  videoshop.net\n",
       "1963      1  0.747379           view\n",
       "1963      2  0.219817           view\n",
       "1963      3  0.043963           view\n",
       "651       1  0.957105         wallet\n",
       "1611      3  0.672141         within\n",
       "94        1  0.329380           word\n",
       "94        2  0.131752           word\n",
       "94        3  0.527007           word\n",
       "98        1  0.346577           work\n",
       "98        3  0.635391           work\n",
       "1808      1  0.988909          write\n",
       "411       3  0.673009          zinio\n",
       "\n",
       "[313 rows x 3 columns], R=30, lambda_step=0.01, plot_opts={'xlab': 'PC1', 'ylab': 'PC2'}, topic_order=[1, 2, 3])"
      ]
     },
     "execution_count": 26,
     "metadata": {},
     "output_type": "execute_result"
    }
   ],
   "source": [
    "dec_improv"
   ]
  },
  {
   "cell_type": "code",
   "execution_count": 27,
   "metadata": {
    "collapsed": false
   },
   "outputs": [],
   "source": [
    "pyLDAvis.save_html(dec_improv,'improved_apps.html')"
   ]
  },
  {
   "cell_type": "code",
   "execution_count": 28,
   "metadata": {
    "collapsed": false,
    "scrolled": true
   },
   "outputs": [
    {
     "data": {
      "text/html": [
       "\n",
       "<link rel=\"stylesheet\" type=\"text/css\" href=\"https://cdn.rawgit.com/bmabey/pyLDAvis/files/ldavis.v1.0.0.css\">\n",
       "\n",
       "\n",
       "<div id=\"ldavis_el229847569380642087364525\"></div>\n",
       "<script type=\"text/javascript\">\n",
       "\n",
       "var ldavis_el229847569380642087364525_data = {\"plot.opts\": {\"xlab\": \"PC1\", \"ylab\": \"PC2\"}, \"topic.order\": [3, 1, 2], \"token.table\": {\"Topic\": [1, 2, 3, 2, 1, 2, 3, 3, 2, 3, 1, 3, 1, 3, 2, 2, 3, 1, 2, 3, 2, 1, 1, 3, 3, 1, 2, 3, 1, 2, 3, 3, 3, 3, 1, 2, 3, 3, 2, 3, 1, 1, 2, 3, 1, 1, 2, 3, 3, 1, 2, 3, 1, 1, 2, 3, 1, 1, 1, 2, 1, 1, 2, 3, 2, 1, 2, 3, 1, 2, 1, 2, 3, 1, 1, 2, 3, 1, 1, 2, 1, 2, 3, 3, 3, 1, 2, 3, 1, 2, 3, 1, 2, 3, 2, 1, 1, 2, 1, 1, 2, 3, 2, 1, 2, 3, 2, 1, 2, 3, 1, 2, 3, 1, 2, 1, 2, 3, 2, 2, 1, 2, 3, 2, 3, 1, 2, 3, 2, 2, 3, 1, 2, 3, 2, 1, 1, 3, 2, 1, 2, 3, 2, 1, 1, 3, 2, 1, 1, 2, 3, 3, 1, 2, 3, 2, 2, 1, 1, 2, 1, 2, 3, 1, 2, 3, 2, 1, 2, 1, 3, 1, 2, 1, 2, 3, 1, 1, 2, 3, 1, 2, 3, 1, 1, 2, 3, 1, 1, 3, 3, 1, 2, 1, 1, 1, 2, 3, 2, 1, 2, 3, 1, 1, 2, 3, 1, 2, 3, 2, 3, 1, 2, 1, 2, 3, 3, 3, 1, 2, 3, 1, 2, 3, 2, 3, 1, 3, 2, 3, 2, 3, 1, 2, 3, 2, 3, 1, 3, 2, 3, 3, 1, 1, 2, 3, 3, 2, 1, 2, 3, 1, 2, 1, 2, 2, 1, 3, 1, 2, 1, 2, 3, 1, 2, 1, 3, 2, 1, 3, 3, 3, 1, 1, 3, 3, 3, 1, 2, 3, 2, 2, 2, 3, 2, 3, 1, 2, 3, 1, 2, 3, 1, 2, 3, 1, 3, 1, 2, 3, 2, 3, 1, 2, 3, 1, 2, 1, 2, 3, 1, 2, 3, 2], \"Freq\": [0.30056018732694345, 0.52598032782215109, 0.15028009366347173, 0.96656149989496409, 0.58495246933600353, 0.083564638476571931, 0.33425855390628773, 0.82539372939975619, 0.30662598016416065, 0.68990845536936141, 0.62022348127521765, 0.38167598847705703, 0.78947977754086174, 0.68878457901769208, 0.91175561540818828, 0.73915977453848447, 0.21118850701099556, 0.66309991932286971, 0.22103330644095656, 0.11051665322047828, 0.91167375819974383, 0.87516595636148253, 0.62282272999473065, 0.35589870285413178, 0.68878398009400243, 0.28581062309415617, 0.42871593464123431, 0.28581062309415617, 0.78858448573815032, 0.76221047460300162, 0.30488418984120064, 0.68878415760725398, 0.68878406783695911, 0.98826247796636246, 0.36366660056354094, 0.31171422905446367, 0.31171422905446367, 0.68877925043511268, 0.82022313025607596, 0.68878327572200726, 0.78858508406010019, 0.71557392778623752, 0.20444969365321072, 0.10222484682660536, 0.9874938550887391, 0.6999687940058551, 0.13999375880117101, 0.20999063820175654, 0.68878377531086765, 0.097548846204039585, 0.78039076963231668, 0.097548846204039585, 0.87539333736812397, 0.17022450892016011, 0.42556127230040031, 0.34044901784032022, 0.78858659546816157, 0.87516558837841418, 0.8366811594787571, 0.11952587992553673, 0.98749392478220044, 0.12996712061611487, 0.51986848246445949, 0.32491780154028715, 0.68306792180328391, 0.49406773328324183, 0.423486628528493, 0.14116220950949768, 0.87611177442835564, 0.10951397180354445, 0.68877386388102579, 0.14759439940307695, 0.14759439940307695, 0.87526095646704238, 0.10547981012396244, 0.31643943037188732, 0.52739905061981218, 0.78858549958320767, 0.78978663883956646, 0.13163110647326109, 0.35674383315555686, 0.071348766631111379, 0.57079013304889104, 0.82754404026866013, 0.92024065774858521, 0.22627408742313679, 0.75424695807712261, 0.9212468110341262, 0.78091422431278867, 0.060070324947137585, 0.12014064989427517, 0.16998264435109403, 0.84991322175547024, 0.92016223299933853, 0.6830744904175583, 0.93885971557370929, 0.30017804663607828, 0.67540060493117615, 0.78872145456738529, 0.38610486329221133, 0.19305243164610567, 0.38610486329221133, 0.82020858228713178, 0.66391108385941966, 0.29507159282640877, 0.073767898206602192, 0.68307426859311371, 0.38650781701048043, 0.25767187800698693, 0.38650781701048043, 0.50903507071756926, 0.1851036620791161, 0.32393140863845321, 0.7697215912701999, 0.21992045464862855, 0.72427199142399679, 0.060355999285333063, 0.24142399714133225, 0.68307375359333589, 0.91174519294626533, 0.16051078906308305, 0.64204315625233221, 0.16051078906308305, 0.68307304674644509, 0.96781409520166006, 0.61545218896603793, 0.15386304724150948, 0.2564384120691825, 0.68307373736029242, 0.82022295932246492, 0.68878428364663757, 0.3070368441519975, 0.087724812614856429, 0.57021128199656679, 0.68307390857896999, 0.78865853819694109, 0.36189619542458479, 0.63331834199302339, 0.68307192925601123, 0.23997007626286215, 0.51993516523620131, 0.23997007626286215, 0.82022346312827132, 0.7885985174130552, 0.19550055507721881, 0.78200222030887523, 0.68307304680697023, 0.87522356634417997, 0.18195498728428317, 0.36390997456856633, 0.45488746821070791, 0.8275454959277645, 0.12414060627272427, 0.62070303136362137, 0.24828121254544855, 0.82022344568134908, 0.68306599537554336, 0.78858724455100093, 0.1699517664372687, 0.76478294896770915, 0.27088597572112583, 0.47405045751197017, 0.20316448179084437, 0.25494360470394645, 0.25494360470394645, 0.50988720940789289, 0.82022167466405116, 0.21445847890459463, 0.78634775598351359, 0.30302509845276665, 0.75756274613191665, 0.87829575928752412, 0.1463826265479207, 0.62126694979820241, 0.17750484279948639, 0.17750484279948639, 0.78858501026474603, 0.42072781306991452, 0.50487337568389745, 0.084145562613982913, 0.072148309649999312, 0.5771864771999945, 0.36074154824999655, 0.98749388778853675, 0.459673541562303, 0.38895453516810252, 0.17679751598550114, 0.95288449102651795, 0.19550332264022066, 0.78201329056088265, 0.92022628438281917, 0.83770389781052679, 0.11967198540150382, 0.78858639597434033, 0.78858542408029275, 0.89954046048106362, 0.069195420037004893, 0.069195420037004893, 0.6830744119310187, 0.072368358195517749, 0.36184179097758873, 0.57894686556414199, 0.98749386248589188, 0.72759847863378468, 0.13229063247886994, 0.13229063247886994, 0.3638367564514165, 0.20790671797223798, 0.41581343594447595, 0.85630017641195233, 0.17126003528239045, 0.1699757930704221, 0.84987896535211038, 0.15239175527913523, 0.22858763291870285, 0.60956702111654093, 0.68878370532062327, 0.82754455148273043, 0.21057060161492816, 0.10528530080746408, 0.73699710565224852, 0.20234184964846963, 0.25292731206058705, 0.55644008653329147, 0.23010624977356414, 0.76702083257854714, 0.21083769493533261, 0.73793193227366416, 0.19699823527418894, 0.78799294109675577, 0.68307433924685623, 0.82747971840348533, 0.29092374626396578, 0.096974582087988578, 0.58184749252793155, 0.9581760833778149, 0.68878406644661927, 0.098271913533777386, 0.88444722180399638, 0.10632730143493449, 0.85061841147947592, 0.8275224827235993, 0.93688027859617895, 0.49641281973847545, 0.24820640986923773, 0.24820640986923773, 0.92024043086135576, 0.9582030845104178, 0.29047639652791785, 0.67777825856514162, 0.096825465509305944, 0.19403950905956815, 0.77615803623827262, 0.81117569935730316, 0.20279392483932579, 0.91175443996940064, 0.11470195325782477, 0.80291367280477344, 0.38477542924673019, 0.57716314387009537, 0.52086873598176486, 0.22322945827789925, 0.22322945827789925, 0.41330929725918431, 0.51663662157398038, 0.61967937747208035, 0.33367351094650477, 0.9117556438392449, 0.7886805786569494, 0.82754403992486525, 0.8275458877719355, 0.92022628447790378, 0.78858430267143576, 0.227962919391516, 0.79787021787030599, 0.6887845808605163, 0.68878342819978811, 0.18581922872557277, 0.55745768617671831, 0.24775897163409702, 0.91241650313098666, 0.68307458027633372, 0.78295879887189013, 0.19573969971797253, 0.25067446079895411, 0.62668615199738531, 0.35182053697741766, 0.46909404930322351, 0.17591026848870883, 0.32470228903892373, 0.32470228903892373, 0.32470228903892373, 0.076439075462839734, 0.2293172263885192, 0.68795167916555755, 0.62841105649003781, 0.39275691030627363, 0.39807829725763821, 0.3368354822949246, 0.24497125985085427, 0.22983747428870424, 0.80443116001046477, 0.44896807711068309, 0.056121009638835387, 0.44896807711068309, 0.98749298501765281, 0.68307458739149707, 0.56576660558735481, 0.30859996668401174, 0.15429998334200587, 0.63068288804831685, 0.21022762934943892, 0.21022762934943892, 0.68307444261610306], \"Term\": [\"'ve\", \"'ve\", \"'ve\", \"-bug\", \"1\", \"1\", \"1\", \"15\", \"8\", \"8\", \"access\", \"access\", \"adjust\", \"adventur\", \"alexa\", \"also\", \"also\", \"alway\", \"alway\", \"alway\", \"anoth\", \"apalon.com\", \"applic\", \"applic\", \"autofil\", \"avail\", \"avail\", \"avail\", \"averag\", \"awesom\", \"awesom\", \"balanc\", \"beat\", \"beemo\", \"better\", \"better\", \"better\", \"black\", \"book\", \"bookbub\", \"buffalo\", \"bugfix\", \"bugfix\", \"bugfix\", \"busi\", \"card\", \"card\", \"card\", \"carecredit\", \"categori\", \"categori\", \"categori\", \"caus\", \"chang\", \"chang\", \"chang\", \"close\", \"cloud\", \"comment\", \"comment\", \"commit\", \"compat\", \"compat\", \"compat\", \"complianc\", \"connect\", \"connect\", \"connect\", \"content\", \"content\", \"crash\", \"crash\", \"crash\", \"credit\", \"custom\", \"custom\", \"custom\", \"data\", \"day\", \"day\", \"design\", \"design\", \"design\", \"dine\", \"directli\", \"display\", \"display\", \"document\", \"download\", \"download\", \"download\", \"drop\", \"drop\", \"drug\", \"dubai\", \"easi\", \"easier\", \"easier\", \"effect\", \"email\", \"email\", \"email\", \"enter\", \"even\", \"even\", \"even\", \"fall\", \"favorit\", \"favorit\", \"favorit\", \"feedback\", \"feedback\", \"feedback\", \"first\", \"first\", \"free\", \"free\", \"free\", \"freeprint\", \"fun\", \"function\", \"function\", \"function\", \"gate\", \"gener\", \"get\", \"get\", \"get\", \"goodby\", \"group\", \"hawaii\", \"help\", \"help\", \"help\", \"hour\", \"idea\", \"imag\", \"imag\", \"imessag\", \"includ\", \"includ\", \"includ\", \"instagram\", \"instal\", \"interfac\", \"interfac\", \"intro\", \"ios10\", \"ipad\", \"ipad\", \"ipad\", \"job\", \"keep\", \"keep\", \"keep\", \"kid\", \"languag\", \"last\", \"leav\", \"leav\", \"like\", \"like\", \"like\", \"list\", \"list\", \"list\", \"littl\", \"locat\", \"locat\", \"log\", \"log\", \"login\", \"login\", \"look\", \"look\", \"look\", \"lose\", \"love\", \"love\", \"love\", \"made\", \"made\", \"made\", \"main\", \"make\", \"make\", \"make\", \"manag\", \"mani\", \"mani\", \"media\", \"mode\", \"mode\", \"monkey\", \"month\", \"music\", \"music\", \"music\", \"network\", \"notif\", \"notif\", \"notif\", \"offlin\", \"one\", \"one\", \"one\", \"optim\", \"optim\", \"optim\", \"order\", \"order\", \"overal\", \"overal\", \"page\", \"page\", \"page\", \"parceltrack\", \"password\", \"photo\", \"photo\", \"photo\", \"play\", \"play\", \"play\", \"plu\", \"plu\", \"point\", \"point\", \"preview\", \"preview\", \"price\", \"princess\", \"problem\", \"problem\", \"problem\", \"product\", \"program\", \"purchas\", \"purchas\", \"push\", \"push\", \"quot\", \"rain\", \"rate\", \"rate\", \"rate\", \"reach\", \"recip\", \"releas\", \"releas\", \"releas\", \"remov\", \"remov\", \"report\", \"report\", \"retina\", \"reward\", \"reward\", \"right\", \"right\", \"search\", \"search\", \"search\", \"see\", \"see\", \"share\", \"share\", \"shoutout\", \"sign\", \"sign-up\", \"smoothi\", \"social\", \"song\", \"sound\", \"sound\", \"soundboard\", \"sport\", \"store\", \"store\", \"store\", \"sunshin\", \"tagsforlik\", \"take\", \"take\", \"team\", \"team\", \"thi\", \"thi\", \"thi\", \"time\", \"time\", \"time\", \"ui\", \"ui\", \"ui\", \"upgrad\", \"upgrad\", \"use\", \"use\", \"use\", \"variou\", \"variou\", \"video\", \"video\", \"video\", \"weight\", \"win\", \"work\", \"work\", \"work\", \"would\", \"would\", \"would\", \"zone\"]}, \"mdsDat\": {\"y\": [-0.10048454139277907, 0.055921014520391298, 0.044563526872387779], \"cluster\": [1, 1, 1], \"Freq\": [38.173808795685197, 31.467672704712076, 30.358518499602717], \"topics\": [1, 2, 3], \"x\": [-0.0068333632691983358, -0.08726984106609148, 0.09410320433528982]}, \"R\": 30, \"lambda.step\": 0.01, \"tinfo\": {\"Category\": [\"Default\", \"Default\", \"Default\", \"Default\", \"Default\", \"Default\", \"Default\", \"Default\", \"Default\", \"Default\", \"Default\", \"Default\", \"Default\", \"Default\", \"Default\", \"Default\", \"Default\", \"Default\", \"Default\", \"Default\", \"Default\", \"Default\", \"Default\", \"Default\", \"Default\", \"Default\", \"Default\", \"Default\", \"Default\", \"Default\", \"Topic1\", \"Topic1\", \"Topic1\", \"Topic1\", \"Topic1\", \"Topic1\", \"Topic1\", \"Topic1\", \"Topic1\", \"Topic1\", \"Topic1\", \"Topic1\", \"Topic1\", \"Topic1\", \"Topic1\", \"Topic1\", \"Topic1\", \"Topic1\", \"Topic1\", \"Topic1\", \"Topic1\", \"Topic1\", \"Topic1\", \"Topic1\", \"Topic1\", \"Topic1\", \"Topic1\", \"Topic1\", \"Topic1\", \"Topic1\", \"Topic1\", \"Topic1\", \"Topic1\", \"Topic1\", \"Topic1\", \"Topic1\", \"Topic1\", \"Topic1\", \"Topic1\", \"Topic1\", \"Topic1\", \"Topic1\", \"Topic1\", \"Topic1\", \"Topic1\", \"Topic1\", \"Topic1\", \"Topic1\", \"Topic1\", \"Topic1\", \"Topic1\", \"Topic1\", \"Topic1\", \"Topic1\", \"Topic1\", \"Topic1\", \"Topic1\", \"Topic1\", \"Topic1\", \"Topic1\", \"Topic2\", \"Topic2\", \"Topic2\", \"Topic2\", \"Topic2\", \"Topic2\", \"Topic2\", \"Topic2\", \"Topic2\", \"Topic2\", \"Topic2\", \"Topic2\", \"Topic2\", \"Topic2\", \"Topic2\", \"Topic2\", \"Topic2\", \"Topic2\", \"Topic2\", \"Topic2\", \"Topic2\", \"Topic2\", \"Topic2\", \"Topic2\", \"Topic2\", \"Topic2\", \"Topic2\", \"Topic2\", \"Topic2\", \"Topic2\", \"Topic2\", \"Topic2\", \"Topic2\", \"Topic2\", \"Topic2\", \"Topic2\", \"Topic2\", \"Topic2\", \"Topic2\", \"Topic2\", \"Topic2\", \"Topic2\", \"Topic2\", \"Topic2\", \"Topic2\", \"Topic2\", \"Topic2\", \"Topic2\", \"Topic2\", \"Topic2\", \"Topic2\", \"Topic2\", \"Topic2\", \"Topic2\", \"Topic2\", \"Topic2\", \"Topic2\", \"Topic2\", \"Topic2\", \"Topic2\", \"Topic2\", \"Topic2\", \"Topic2\", \"Topic2\", \"Topic3\", \"Topic3\", \"Topic3\", \"Topic3\", \"Topic3\", \"Topic3\", \"Topic3\", \"Topic3\", \"Topic3\", \"Topic3\", \"Topic3\", \"Topic3\", \"Topic3\", \"Topic3\", \"Topic3\", \"Topic3\", \"Topic3\", \"Topic3\", \"Topic3\", \"Topic3\", \"Topic3\", \"Topic3\", \"Topic3\", \"Topic3\", \"Topic3\", \"Topic3\", \"Topic3\", \"Topic3\", \"Topic3\", \"Topic3\", \"Topic3\", \"Topic3\", \"Topic3\", \"Topic3\", \"Topic3\", \"Topic3\", \"Topic3\", \"Topic3\", \"Topic3\", \"Topic3\", \"Topic3\", \"Topic3\", \"Topic3\", \"Topic3\", \"Topic3\", \"Topic3\", \"Topic3\", \"Topic3\", \"Topic3\", \"Topic3\", \"Topic3\", \"Topic3\", \"Topic3\", \"Topic3\", \"Topic3\", \"Topic3\", \"Topic3\", \"Topic3\", \"Topic3\", \"Topic3\", \"Topic3\", \"Topic3\", \"Topic3\", \"Topic3\"], \"Term\": [\"-bug\", \"beemo\", \"locat\", \"display\", \"purchas\", \"plu\", \"push\", \"leav\", \"share\", \"gener\", \"8\", \"music\", \"reward\", \"product\", \"recip\", \"access\", \"easier\", \"point\", \"document\", \"help\", \"ui\", \"sunshin\", \"categori\", \"manag\", \"sound\", \"download\", \"also\", \"notif\", \"variou\", \"imag\", \"manag\", \"rain\", \"cloud\", \"apalon.com\", \"ios10\", \"credit\", \"caus\", \"song\", \"averag\", \"lose\", \"buffalo\", \"month\", \"data\", \"monkey\", \"close\", \"last\", \"instal\", \"idea\", \"sign\", \"effect\", \"music\", \"easi\", \"content\", \"comment\", \"adjust\", \"weight\", \"offlin\", \"busi\", \"main\", \"commit\", \"day\", \"mode\", \"login\", \"report\", \"download\", \"one\", \"first\", \"free\", \"crash\", \"share\", \"card\", \"access\", \"get\", \"even\", \"would\", \"alway\", \"bugfix\", \"upgrad\", \"work\", \"feedback\", \"rate\", \"make\", \"look\", \"applic\", \"use\", \"1\", \"video\", \"search\", \"optim\", \"better\", \"-bug\", \"product\", \"recip\", \"sunshin\", \"shoutout\", \"alexa\", \"retina\", \"fun\", \"anoth\", \"kid\", \"instagram\", \"book\", \"group\", \"littl\", \"enter\", \"win\", \"tagsforlik\", \"dubai\", \"network\", \"zone\", \"price\", \"fall\", \"freeprint\", \"goodby\", \"intro\", \"gate\", \"hour\", \"imessag\", \"complianc\", \"languag\", \"leav\", \"locat\", \"categori\", \"display\", \"order\", \"drop\", \"overal\", \"also\", \"easier\", \"take\", \"function\", \"remov\", \"releas\", \"includ\", \"store\", \"made\", \"keep\", \"compat\", \"right\", \"'ve\", \"awesom\", \"make\", \"use\", \"like\", \"thi\", \"love\", \"ipad\", \"see\", \"avail\", \"time\", \"connect\", \"better\", \"work\", \"chang\", \"beemo\", \"gener\", \"document\", \"directli\", \"reach\", \"social\", \"media\", \"drug\", \"push\", \"smoothi\", \"job\", \"password\", \"dine\", \"sign-up\", \"quot\", \"reward\", \"princess\", \"purchas\", \"soundboard\", \"adventur\", \"hawaii\", \"balanc\", \"beat\", \"program\", \"autofil\", \"carecredit\", \"parceltrack\", \"sport\", \"bookbub\", \"black\", \"point\", \"15\", \"plu\", \"variou\", \"sound\", \"ui\", \"8\", \"photo\", \"preview\", \"help\", \"mani\", \"interfac\", \"page\", \"play\", \"notif\", \"imag\", \"team\", \"design\", \"ipad\", \"log\", \"video\", \"problem\", \"optim\", \"access\", \"share\", \"list\", \"email\", \"custom\", \"use\", \"feedback\", \"favorit\", \"time\", \"includ\", \"better\"], \"loglift\": [30.0, 29.0, 28.0, 27.0, 26.0, 25.0, 24.0, 23.0, 22.0, 21.0, 20.0, 19.0, 18.0, 17.0, 16.0, 15.0, 14.0, 13.0, 12.0, 11.0, 10.0, 9.0, 8.0, 7.0, 6.0, 5.0, 4.0, 3.0, 2.0, 1.0, 0.88749999999999996, 0.86799999999999999, 0.85109999999999997, 0.85109999999999997, 0.84989999999999999, 0.84909999999999997, 0.84640000000000004, 0.82699999999999996, 0.82699999999999996, 0.82699999999999996, 0.82699999999999996, 0.82699999999999996, 0.82699999999999996, 0.82699999999999996, 0.82699999999999996, 0.82689999999999997, 0.82669999999999999, 0.82530000000000003, 0.82469999999999999, 0.8236, 0.82120000000000004, 0.82050000000000001, 0.81969999999999998, 0.80930000000000002, 0.80559999999999998, 0.78959999999999997, 0.78959999999999997, 0.78959999999999997, 0.78959999999999997, 0.78959999999999997, 0.78390000000000004, 0.78069999999999995, 0.76329999999999998, 0.74680000000000002, 0.71640000000000004, 0.68459999999999999, 0.7218, 0.61550000000000005, 0.58040000000000003, 0.50249999999999995, 0.56189999999999996, 0.47739999999999999, 0.4859, 0.55879999999999996, 0.51629999999999998, 0.60799999999999998, 0.56359999999999999, 0.48699999999999999, 0.35670000000000002, 0.28760000000000002, 0.30859999999999999, 0.1613, 0.50800000000000001, 0.50109999999999999, 0.078799999999999995, 0.4335, 0.21240000000000001, 0.32940000000000003, 0.0124, -0.017999999999999999, 1.1111, 1.0859000000000001, 1.0831, 1.0778000000000001, 1.0362, 1.0362, 1.0361, 1.0359, 1.0341, 1.0105, 1.0105, 1.0104, 1.0104, 1.0103, 1.0099, 0.97060000000000002, 0.97060000000000002, 0.97060000000000002, 0.97060000000000002, 0.97060000000000002, 0.97060000000000002, 0.97060000000000002, 0.97050000000000003, 0.97050000000000003, 0.97040000000000004, 0.97040000000000004, 0.97040000000000004, 0.97030000000000005, 0.96989999999999998, 0.96970000000000001, 0.94199999999999995, 0.92069999999999996, 0.93200000000000005, 0.90639999999999998, 0.92569999999999997, 0.91500000000000004, 0.91390000000000005, 0.82769999999999999, 0.76439999999999997, 0.88780000000000003, 0.75080000000000002, 0.87429999999999997, 0.74409999999999998, 0.53349999999999997, 0.62080000000000002, 0.64400000000000002, 0.74929999999999997, 0.54069999999999996, 0.65580000000000005, 0.57099999999999995, 0.80689999999999995, 0.2142, 0.070000000000000007, 0.4123, 0.3347, 0.49049999999999999, 0.12620000000000001, 0.55659999999999998, 0.32640000000000002, 0.046899999999999997, 0.24510000000000001, 0.0035999999999999999, -0.061400000000000003, 0.376, 1.1415999999999999, 1.1204000000000001, 1.1075999999999999, 1.0702, 1.0702, 1.0687, 1.0687, 1.0685, 1.0576000000000001, 1.0441, 1.0441, 1.0441, 1.044, 1.044, 1.0435000000000001, 1.0405, 1.0358000000000001, 1.0354000000000001, 1.0037, 1.0037, 1.0037, 1.0037, 1.0036, 1.0036, 1.0036, 1.0036, 1.0036, 1.0036, 1.0036, 1.0034000000000001, 0.95309999999999995, 0.99150000000000005, 0.88700000000000001, 0.90880000000000005, 0.90790000000000004, 0.85270000000000001, 0.8105, 0.84099999999999997, 0.91910000000000003, 0.66600000000000004, 0.89890000000000003, 0.89849999999999997, 0.71030000000000004, 0.61419999999999997, 0.67179999999999995, 0.72309999999999997, 0.78210000000000002, 0.59389999999999998, 0.3881, 0.82669999999999999, 0.44330000000000003, 0.64200000000000002, 0.27539999999999998, 0.18779999999999999, 0.1615, 0.49509999999999998, 0.29630000000000001, 0.59060000000000001, -0.19639999999999999, 0.025600000000000001, 0.23019999999999999, 0.067100000000000007, -0.22500000000000001, 0.018499999999999999], \"Freq\": [12.0, 10.0, 13.0, 13.0, 10.0, 13.0, 9.0, 11.0, 20.0, 7.0, 13.0, 14.0, 8.0, 7.0, 7.0, 20.0, 13.0, 9.0, 6.0, 22.0, 13.0, 6.0, 10.0, 8.0, 8.0, 16.0, 9.0, 13.0, 8.0, 11.0, 7.7848847603221296, 4.8530914286661684, 4.0866337999736695, 4.0865998621933564, 4.0812930059343078, 4.0780480549866622, 4.0662263937534284, 3.3205464420318411, 3.3205297348811493, 3.3204818187100162, 3.3204763319394659, 3.3204463779526123, 3.3204376086879526, 3.3203577987076067, 3.3203403696376634, 3.3202868534676027, 3.3193622405812926, 3.3143972195979043, 3.3125619108897637, 3.3085848134607088, 12.541359463819198, 4.6183148460438179, 7.9122800229292167, 7.1741614021609683, 3.2466186434988158, 2.5542413709968308, 2.5541915043237942, 2.5541910254863636, 2.5541898843196678, 2.5541868799736651, 6.3508524582255763, 6.9632058321114041, 5.594665525721509, 7.944953996752333, 13.008853057507666, 11.444145629076042, 7.1450561116044362, 11.704698785580041, 13.864136303802209, 13.2359123284189, 9.5652883985579056, 12.896576072137119, 12.099643477480418, 9.0483752779732427, 9.1286522770624057, 6.344091412975196, 6.5611213882989476, 7.9086455390273214, 10.602729659769436, 10.998088079448038, 10.470268613101322, 12.685491236545998, 7.1483532115368487, 7.0812514906174888, 13.488611985162311, 7.0472500685688688, 8.4113405623956776, 7.1317405090445831, 7.4363562601655557, 7.2169215204124644, 11.867382382796784, 6.8094505780485699, 6.7905378158000573, 6.0799442239510793, 3.8911481067848888, 3.8911459899154894, 3.8907852691659981, 3.8899685445109373, 3.8831612867044889, 3.1615127299586039, 3.1614846294845416, 3.1614154932164737, 3.1613902634302753, 3.1609773634130502, 3.1598378660704878, 2.4319507197763621, 2.4319463991007595, 2.4319243518958635, 2.4319149416403207, 2.4319116573523547, 2.4318904441261857, 2.4318612914866655, 2.4318114724209159, 2.4317777815700325, 2.4315217830572493, 2.4315217765228341, 2.4314855893732852, 2.4312315124915878, 2.4302657271570078, 2.4297705510934855, 9.4987777384140255, 11.053621953959295, 8.1924335765853087, 10.327501347146827, 4.6369682725125623, 4.6222187591115969, 4.6169878760173555, 6.8181961520460774, 9.0055080196129342, 3.9061147976390074, 8.3069319610531096, 3.8875371795433211, 6.8397575533034196, 13.414507066517801, 9.4517948019541809, 8.3045818729924026, 5.3626751639569701, 8.3153514014745706, 6.3026564405896996, 7.4124148758230195, 4.6260411901798673, 11.025625045859156, 11.021930580989865, 7.0176152360629604, 7.5001987225618452, 6.1073597936536324, 7.8479428566883911, 5.3134682626639584, 6.1035239285117493, 6.0938614694253479, 5.696753390847622, 6.0785855859257563, 5.7536400319514867, 5.3849135463530384, 9.6201066322147089, 6.7321616164932143, 5.985100846491858, 3.8479520878913602, 3.8478987475074695, 3.8421097127722619, 3.8421091361158695, 3.8417065714227268, 8.2217887975545132, 3.1264953857525275, 3.1264529894486963, 3.1263390765174286, 3.1262654042371683, 3.1262653940561327, 3.1246443655963638, 7.4921556318303661, 3.1008741059755254, 8.7002411124291417, 2.4050069192538603, 2.4050065885100058, 2.4049682310145517, 2.4049579727737949, 2.404953305051492, 2.4049499497276225, 2.4049415958757407, 2.4049141069046405, 2.4048952825774248, 2.4048494910247591, 2.4048464825518576, 2.4043919199657156, 7.4691482774347664, 2.9739575948665098, 9.6092885128124106, 6.555013624659014, 6.6027965589714386, 9.3177188648237124, 8.9072789791999387, 6.6856843746789849, 3.8633697447270658, 13.472458032442219, 3.8152709357569274, 3.8138052760167991, 8.1062497638043656, 11.091604882982733, 8.2128128740102593, 6.9153642734381915, 5.2948136156094945, 7.7061958437881453, 9.8381213309629025, 4.5800193670819747, 8.4269253283927217, 5.9487565212271818, 7.6925217288356054, 7.6774135686432317, 7.4850071077749005, 5.8611219222391631, 6.3449223094281262, 5.1954580150465848, 8.1463495316009915, 6.7304973565723696, 5.9326293387126467, 5.999255769048899, 6.0610104997983401, 5.9528923594162304], \"Total\": [12.0, 10.0, 13.0, 13.0, 10.0, 13.0, 9.0, 11.0, 20.0, 7.0, 13.0, 14.0, 8.0, 7.0, 7.0, 20.0, 13.0, 9.0, 6.0, 22.0, 13.0, 6.0, 10.0, 8.0, 8.0, 16.0, 9.0, 13.0, 8.0, 11.0, 8.3955611360426339, 5.3368611915836226, 4.5705636203219111, 4.5705616985263786, 4.5702608497027235, 4.5700656135123952, 4.5693745077224683, 3.8042857178834208, 3.804284834733803, 3.8042823043172369, 3.8042819483146117, 3.8042803079943104, 3.8042799437544752, 3.8042756194054563, 3.8042746570133934, 3.8042715257309472, 3.8042171444112016, 3.8039276248231655, 3.8038213202976605, 3.8036241852270947, 14.451823537818136, 5.3256092652187643, 9.1312549762498403, 8.3663889412317118, 3.7999706709963532, 3.0379962648001704, 3.0379935652945491, 3.0379935880516555, 3.0379934874517662, 3.0379933736419429, 7.5969884838971193, 8.3561745603615076, 6.8314117841889797, 9.8622283758480727, 16.647154828611445, 15.118228422707475, 9.0941972778086573, 16.568361253907813, 20.325974509419346, 20.97859065930545, 14.286351171129997, 20.960186759248778, 19.497858997235912, 13.556032153705859, 14.270246062725754, 9.0484100889756593, 9.7823575289499658, 12.73052075926806, 19.442646298609773, 21.609513042969077, 20.14452407830299, 28.280940329557804, 11.267298223853231, 11.239153073394132, 32.656892097753165, 11.966784255045376, 17.81863880274895, 13.439086503830906, 19.239397548154862, 19.248399465754453, 12.415143786819604, 7.3055465706503711, 7.3053407082033814, 6.5759441871237607, 4.3871403780476683, 4.387140514850814, 4.3871461707762496, 4.3871906657101993, 4.3875344266776812, 3.6575399249992646, 3.6575398471999607, 3.6575413315440053, 3.6575420937718119, 3.6575478223356495, 3.6576062050394214, 2.9279379395997363, 2.9279379700982462, 2.9279383552698843, 2.9279386916955294, 2.9279385601666066, 2.9279390032498642, 2.9279393061010448, 2.9279415136051159, 2.9279415831867723, 2.9279445431919968, 2.9279445434514337, 2.9279408492716281, 2.9279493335033711, 2.9279665113244451, 2.9279747689685807, 11.768044792510143, 13.988721804441219, 10.251274504142614, 13.258256984547875, 5.8390738875599393, 5.8829535439778784, 5.8831906704838461, 9.4702123155587703, 13.325424843107902, 5.1088256569353545, 12.460221594287791, 5.1535896212405392, 10.32786152630363, 25.003117444641834, 16.144723129975702, 13.860338583830004, 8.0553819578027657, 15.38850742032994, 10.395674193206014, 13.308482522500157, 6.559867866686373, 28.280940329557804, 32.656892097753165, 14.766360603761772, 17.054149401133802, 11.88416796958732, 21.983458984559036, 9.6779821468463574, 13.995281059522611, 18.478465359019225, 14.168097870878368, 19.248399465754453, 19.442646298609773, 11.749189424526723, 10.118769277346145, 7.2327940197455325, 6.5129126398438508, 4.346689060431431, 4.3466901321168354, 4.3467569525787075, 4.3467569530278469, 4.347059525537901, 9.4049222213349974, 3.6251766147701217, 3.6251783312972883, 3.6251824685750536, 3.6251847080260013, 3.6251847095320477, 3.6252791466477046, 8.7182473497397197, 3.6254665018111991, 10.175847442476904, 2.9036654646091939, 2.9036654723778712, 2.9036667175554296, 2.9036672488922193, 2.9036676273316715, 2.9036676331928475, 2.9036679972246859, 2.9036688605177194, 2.903669155571873, 2.9036703238160388, 2.9036709666092406, 2.9036879359193364, 9.4859697674717651, 3.6346290178163376, 13.037455536093207, 8.7018011583600732, 8.7733566728240149, 13.082314169094605, 13.045209012812581, 9.4980020224162782, 5.0761876044633878, 22.798566795243229, 5.1150025815176159, 5.1150749909892586, 13.124069581957434, 19.768525428373998, 13.818193820264623, 11.052893206868642, 7.9784753246324502, 14.015659235852208, 21.983458984559036, 6.6001133576456716, 17.81863880274895, 10.311980505290174, 19.239397548154862, 20.960186759248778, 20.97859065930545, 11.767308317005062, 15.539819801386674, 9.4804872972825383, 32.656892097753165, 21.609513042969077, 15.523618762508253, 18.478465359019225, 25.003117444641834, 19.248399465754453], \"logprob\": [30.0, 29.0, 28.0, 27.0, 26.0, 25.0, 24.0, 23.0, 22.0, 21.0, 20.0, 19.0, 18.0, 17.0, 16.0, 15.0, 14.0, 13.0, 12.0, 11.0, 10.0, 9.0, 8.0, 7.0, 6.0, 5.0, 4.0, 3.0, 2.0, 1.0, -5.6334, -6.1059000000000001, -6.2778, -6.2778, -6.2790999999999997, -6.2798999999999996, -6.2827999999999999, -6.4854000000000003, -6.4854000000000003, -6.4854000000000003, -6.4854000000000003, -6.4855, -6.4855, -6.4855, -6.4855, -6.4855, -6.4858000000000002, -6.4873000000000003, -6.4878, -6.4889999999999999, -5.1565000000000003, -6.1555, -5.6170999999999998, -5.7150999999999996, -6.5079000000000002, -6.7477999999999998, -6.7477999999999998, -6.7477999999999998, -6.7477999999999998, -6.7477999999999998, -5.8369999999999997, -5.7449000000000003, -5.9637000000000002, -5.6130000000000004, -5.1199000000000003, -5.2481, -5.7191000000000001, -5.2256, -5.0561999999999996, -5.1025999999999998, -5.4273999999999996, -5.1285999999999996, -5.1924000000000001, -5.4829999999999997, -5.4741, -5.8380000000000001, -5.8044000000000002, -5.6176000000000004, -5.3243999999999998, -5.2877999999999998, -5.3369999999999997, -5.1451000000000002, -5.7187000000000001, -5.7281000000000004, -5.0837000000000003, -5.7328999999999999, -5.556, -5.7210000000000001, -5.6791999999999998, -5.7091000000000003, -5.0186000000000002, -5.5740999999999996, -5.5768000000000004, -5.6874000000000002, -6.1337000000000002, -6.1337000000000002, -6.1337999999999999, -6.1340000000000003, -6.1356999999999999, -6.3413000000000004, -6.3413000000000004, -6.3413000000000004, -6.3414000000000001, -6.3414999999999999, -6.3418000000000001, -6.6036999999999999, -6.6036999999999999, -6.6036999999999999, -6.6036999999999999, -6.6036999999999999, -6.6036999999999999, -6.6036999999999999, -6.6036999999999999, -6.6036999999999999, -6.6037999999999997, -6.6037999999999997, -6.6039000000000003, -6.6040000000000001, -6.6044, -6.6045999999999996, -5.2412000000000001, -5.0895999999999999, -5.3891999999999998, -5.1576000000000004, -5.9583000000000004, -5.9615, -5.9626000000000001, -5.5728, -5.2945000000000002, -6.1298000000000004, -5.3753000000000002, -6.1345999999999998, -5.5696000000000003, -4.8959999999999999, -5.2462, -5.3756000000000004, -5.8129, -5.3742999999999999, -5.6513999999999998, -5.4892000000000003, -5.9607000000000001, -5.0921000000000003, -5.0925000000000002, -5.5438999999999998, -5.4774000000000003, -5.6829000000000001, -5.4321000000000002, -5.8220999999999998, -5.6835000000000004, -5.6851000000000003, -5.7525000000000004, -5.6875999999999998, -5.7424999999999997, -5.8087999999999997, -5.1925999999999997, -5.5495999999999999, -5.6672000000000002, -6.1089000000000002, -6.109, -6.1105, -6.1105, -6.1105999999999998, -5.3497000000000003, -6.3166000000000002, -6.3166000000000002, -6.3166000000000002, -6.3166000000000002, -6.3166000000000002, -6.3171999999999997, -5.4425999999999997, -6.3247999999999998, -5.2930999999999999, -6.5789, -6.5789, -6.5789, -6.5789, -6.5789, -6.5789999999999997, -6.5789999999999997, -6.5789999999999997, -6.5789999999999997, -6.5789999999999997, -6.5789999999999997, -6.5792000000000002, -5.4457000000000004, -6.3666, -5.1936999999999998, -5.5762, -5.569, -5.2245999999999997, -5.2695999999999996, -5.5564999999999998, -6.1048999999999998, -4.8558000000000003, -6.1174999999999997, -6.1178999999999997, -5.3638000000000003, -5.0503, -5.3507999999999996, -5.5227000000000004, -5.7897999999999996, -5.4145000000000003, -5.1702000000000004, -5.9348000000000001, -5.3250000000000002, -5.6733000000000002, -5.4161999999999999, -5.4181999999999997, -5.4436, -5.6881000000000004, -5.6087999999999996, -5.8087, -5.3589000000000002, -5.5498000000000003, -5.6760000000000002, -5.6647999999999996, -5.6546000000000003, -5.6726000000000001]}};\n",
       "\n",
       "function LDAvis_load_lib(url, callback){\n",
       "  var s = document.createElement('script');\n",
       "  s.src = url;\n",
       "  s.async = true;\n",
       "  s.onreadystatechange = s.onload = callback;\n",
       "  s.onerror = function(){console.warn(\"failed to load library \" + url);};\n",
       "  document.getElementsByTagName(\"head\")[0].appendChild(s);\n",
       "}\n",
       "\n",
       "if(typeof(LDAvis) !== \"undefined\"){\n",
       "   // already loaded: just create the visualization\n",
       "   !function(LDAvis){\n",
       "       new LDAvis(\"#\" + \"ldavis_el229847569380642087364525\", ldavis_el229847569380642087364525_data);\n",
       "   }(LDAvis);\n",
       "}else if(typeof define === \"function\" && define.amd){\n",
       "   // require.js is available: use it to load d3/LDAvis\n",
       "   require.config({paths: {d3: \"https://cdnjs.cloudflare.com/ajax/libs/d3/3.5.5/d3.min\"}});\n",
       "   require([\"d3\"], function(d3){\n",
       "      window.d3 = d3;\n",
       "      LDAvis_load_lib(\"https://cdn.rawgit.com/bmabey/pyLDAvis/files/ldavis.v1.0.0.js\", function(){\n",
       "        new LDAvis(\"#\" + \"ldavis_el229847569380642087364525\", ldavis_el229847569380642087364525_data);\n",
       "      });\n",
       "    });\n",
       "}else{\n",
       "    // require.js not available: dynamically load d3 & LDAvis\n",
       "    LDAvis_load_lib(\"https://cdnjs.cloudflare.com/ajax/libs/d3/3.5.5/d3.min.js\", function(){\n",
       "         LDAvis_load_lib(\"https://cdn.rawgit.com/bmabey/pyLDAvis/files/ldavis.v1.0.0.js\", function(){\n",
       "                 new LDAvis(\"#\" + \"ldavis_el229847569380642087364525\", ldavis_el229847569380642087364525_data);\n",
       "            })\n",
       "         });\n",
       "}\n",
       "</script>"
      ],
      "text/plain": [
       "PreparedData(topic_coordinates=            Freq  cluster  topics         x         y\n",
       "topic                                                \n",
       "2      38.173809        1       1 -0.006833 -0.100485\n",
       "0      31.467673        1       2 -0.087270  0.055921\n",
       "1      30.358518        1       3  0.094103  0.044564, topic_info=     Category       Freq      Term      Total  loglift  logprob\n",
       "term                                                           \n",
       "1429  Default  12.000000      -bug  12.000000  30.0000  30.0000\n",
       "762   Default  10.000000     beemo  10.000000  29.0000  29.0000\n",
       "1765  Default  13.000000     locat  13.000000  28.0000  28.0000\n",
       "1968  Default  13.000000   display  13.000000  27.0000  27.0000\n",
       "1850  Default  10.000000   purchas  10.000000  26.0000  26.0000\n",
       "401   Default  13.000000       plu  13.000000  25.0000  25.0000\n",
       "476   Default   9.000000      push   9.000000  24.0000  24.0000\n",
       "1923  Default  11.000000      leav  11.000000  23.0000  23.0000\n",
       "1120  Default  20.000000     share  20.000000  22.0000  22.0000\n",
       "529   Default   7.000000     gener   7.000000  21.0000  21.0000\n",
       "1297  Default  13.000000         8  13.000000  20.0000  20.0000\n",
       "429   Default  14.000000     music  14.000000  19.0000  19.0000\n",
       "882   Default   8.000000    reward   8.000000  18.0000  18.0000\n",
       "596   Default   7.000000   product   7.000000  17.0000  17.0000\n",
       "1549  Default   7.000000     recip   7.000000  16.0000  16.0000\n",
       "1563  Default  20.000000    access  20.000000  15.0000  15.0000\n",
       "120   Default  13.000000    easier  13.000000  14.0000  14.0000\n",
       "1345  Default   9.000000     point   9.000000  13.0000  13.0000\n",
       "867   Default   6.000000  document   6.000000  12.0000  12.0000\n",
       "1147  Default  22.000000      help  22.000000  11.0000  11.0000\n",
       "1495  Default  13.000000        ui  13.000000  10.0000  10.0000\n",
       "163   Default   6.000000   sunshin   6.000000   9.0000   9.0000\n",
       "1677  Default  10.000000  categori  10.000000   8.0000   8.0000\n",
       "919   Default   8.000000     manag   8.000000   7.0000   7.0000\n",
       "850   Default   8.000000     sound   8.000000   6.0000   6.0000\n",
       "1557  Default  16.000000  download  16.000000   5.0000   5.0000\n",
       "1261  Default   9.000000      also   9.000000   4.0000   4.0000\n",
       "464   Default  13.000000     notif  13.000000   3.0000   3.0000\n",
       "789   Default   8.000000    variou   8.000000   2.0000   2.0000\n",
       "1357  Default  11.000000      imag  11.000000   1.0000   1.0000\n",
       "...       ...        ...       ...        ...      ...      ...\n",
       "850    Topic3   6.602797     sound   8.773357   0.9079  -5.5690\n",
       "1495   Topic3   9.317719        ui  13.082314   0.8527  -5.2246\n",
       "1297   Topic3   8.907279         8  13.045209   0.8105  -5.2696\n",
       "355    Topic3   6.685684     photo   9.498002   0.8410  -5.5565\n",
       "52     Topic3   3.863370   preview   5.076188   0.9191  -6.1049\n",
       "1147   Topic3  13.472458      help  22.798567   0.6660  -4.8558\n",
       "829    Topic3   3.815271      mani   5.115003   0.8989  -6.1175\n",
       "964    Topic3   3.813805  interfac   5.115075   0.8985  -6.1179\n",
       "1911   Topic3   8.106250      page  13.124070   0.7103  -5.3638\n",
       "1266   Topic3  11.091605      play  19.768525   0.6142  -5.0503\n",
       "464    Topic3   8.212813     notif  13.818194   0.6718  -5.3508\n",
       "1357   Topic3   6.915364      imag  11.052893   0.7231  -5.5227\n",
       "509    Topic3   5.294814      team   7.978475   0.7821  -5.7898\n",
       "1059   Topic3   7.706196    design  14.015659   0.5939  -5.4145\n",
       "1723   Topic3   9.838121      ipad  21.983459   0.3881  -5.1702\n",
       "958    Topic3   4.580019       log   6.600113   0.8267  -5.9348\n",
       "1555   Topic3   8.426925     video  17.818639   0.4433  -5.3250\n",
       "1967   Topic3   5.948757   problem  10.311981   0.6420  -5.6733\n",
       "1386   Topic3   7.692522     optim  19.239398   0.2754  -5.4162\n",
       "1563   Topic3   7.677414    access  20.960187   0.1878  -5.4182\n",
       "1120   Topic3   7.485007     share  20.978591   0.1615  -5.4436\n",
       "1050   Topic3   5.861122      list  11.767308   0.4951  -5.6881\n",
       "1810   Topic3   6.344922     email  15.539820   0.2963  -5.6088\n",
       "1475   Topic3   5.195458    custom   9.480487   0.5906  -5.8087\n",
       "1589   Topic3   8.146350       use  32.656892  -0.1964  -5.3589\n",
       "109    Topic3   6.730497  feedback  21.609513   0.0256  -5.5498\n",
       "609    Topic3   5.932629   favorit  15.523619   0.2302  -5.6760\n",
       "475    Topic3   5.999256      time  18.478465   0.0671  -5.6648\n",
       "1477   Topic3   6.061010    includ  25.003117  -0.2250  -5.6546\n",
       "118    Topic3   5.952892    better  19.248399   0.0185  -5.6726\n",
       "\n",
       "[218 rows x 6 columns], token_table=      Topic      Freq        Term\n",
       "term                             \n",
       "915       1  0.300560         've\n",
       "915       2  0.525980         've\n",
       "915       3  0.150280         've\n",
       "1429      2  0.966561        -bug\n",
       "588       1  0.584952           1\n",
       "588       2  0.083565           1\n",
       "588       3  0.334259           1\n",
       "730       3  0.825394          15\n",
       "1297      2  0.306626           8\n",
       "1297      3  0.689908           8\n",
       "1563      1  0.620223      access\n",
       "1563      3  0.381676      access\n",
       "1051      1  0.789480      adjust\n",
       "1165      3  0.688785    adventur\n",
       "1952      2  0.911756       alexa\n",
       "1261      2  0.739160        also\n",
       "1261      3  0.211189        also\n",
       "589       1  0.663100       alway\n",
       "589       2  0.221033       alway\n",
       "589       3  0.110517       alway\n",
       "1130      2  0.911674       anoth\n",
       "1798      1  0.875166  apalon.com\n",
       "369       1  0.622823      applic\n",
       "369       3  0.355899      applic\n",
       "283       3  0.688784     autofil\n",
       "425       1  0.285811       avail\n",
       "425       2  0.428716       avail\n",
       "425       3  0.285811       avail\n",
       "98        1  0.788584      averag\n",
       "1282      2  0.762210      awesom\n",
       "...     ...       ...         ...\n",
       "509       2  0.250674        team\n",
       "509       3  0.626686        team\n",
       "350       1  0.351821         thi\n",
       "350       2  0.469094         thi\n",
       "350       3  0.175910         thi\n",
       "475       1  0.324702        time\n",
       "475       2  0.324702        time\n",
       "475       3  0.324702        time\n",
       "1495      1  0.076439          ui\n",
       "1495      2  0.229317          ui\n",
       "1495      3  0.687952          ui\n",
       "1595      1  0.628411      upgrad\n",
       "1595      3  0.392757      upgrad\n",
       "1589      1  0.398078         use\n",
       "1589      2  0.336835         use\n",
       "1589      3  0.244971         use\n",
       "789       2  0.229837      variou\n",
       "789       3  0.804431      variou\n",
       "1555      1  0.448968       video\n",
       "1555      2  0.056121       video\n",
       "1555      3  0.448968       video\n",
       "1177      1  0.987493      weight\n",
       "1414      2  0.683075         win\n",
       "69        1  0.565767        work\n",
       "69        2  0.308600        work\n",
       "69        3  0.154300        work\n",
       "49        1  0.630683       would\n",
       "49        2  0.210228       would\n",
       "49        3  0.210228       would\n",
       "489       2  0.683074        zone\n",
       "\n",
       "[314 rows x 3 columns], R=30, lambda_step=0.01, plot_opts={'xlab': 'PC1', 'ylab': 'PC2'}, topic_order=[3, 1, 2])"
      ]
     },
     "execution_count": 28,
     "metadata": {},
     "output_type": "execute_result"
    }
   ],
   "source": [
    "dec_decrea"
   ]
  },
  {
   "cell_type": "code",
   "execution_count": 28,
   "metadata": {
    "collapsed": true
   },
   "outputs": [],
   "source": [
    "pyLDAvis.save_html(dec_decrea,'worsen_apps.html')"
   ]
  },
  {
   "cell_type": "code",
   "execution_count": null,
   "metadata": {
    "collapsed": true
   },
   "outputs": [],
   "source": []
  }
 ],
 "metadata": {
  "anaconda-cloud": {},
  "kernelspec": {
   "display_name": "Python [default]",
   "language": "python",
   "name": "python2"
  },
  "language_info": {
   "codemirror_mode": {
    "name": "ipython",
    "version": 2
   },
   "file_extension": ".py",
   "mimetype": "text/x-python",
   "name": "python",
   "nbconvert_exporter": "python",
   "pygments_lexer": "ipython2",
   "version": "2.7.12"
  }
 },
 "nbformat": 4,
 "nbformat_minor": 1
}
