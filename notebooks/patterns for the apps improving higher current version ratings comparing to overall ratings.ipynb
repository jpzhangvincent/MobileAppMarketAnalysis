{
 "cells": [
  {
   "cell_type": "code",
   "execution_count": 242,
   "metadata": {
    "collapsed": false,
    "deletable": true,
    "editable": true
   },
   "outputs": [],
   "source": [
    "from matplotlib import pyplot as plt\n",
    "import numpy as np\n",
    "import pandas as pd\n",
    "plt.style.use('ggplot')\n",
    "%matplotlib inline"
   ]
  },
  {
   "cell_type": "code",
   "execution_count": 243,
   "metadata": {
    "collapsed": true,
    "deletable": true,
    "editable": true
   },
   "outputs": [],
   "source": [
    "app = pd.read_pickle('app_cleaned.pickle')"
   ]
  },
  {
   "cell_type": "code",
   "execution_count": 244,
   "metadata": {
    "collapsed": false,
    "deletable": true,
    "editable": true
   },
   "outputs": [],
   "source": [
    "app = app.drop_duplicates()"
   ]
  },
  {
   "cell_type": "code",
   "execution_count": 245,
   "metadata": {
    "collapsed": false,
    "deletable": true,
    "editable": true
   },
   "outputs": [],
   "source": [
    "app = app.dropna(axis = 0)#remove the NAN"
   ]
  },
  {
   "cell_type": "code",
   "execution_count": 7,
   "metadata": {
    "collapsed": false,
    "deletable": true,
    "editable": true
   },
   "outputs": [
    {
     "data": {
      "text/html": [
       "<div>\n",
       "<table border=\"1\" class=\"dataframe\">\n",
       "  <thead>\n",
       "    <tr style=\"text-align: right;\">\n",
       "      <th></th>\n",
       "      <th>category</th>\n",
       "      <th>current_rating</th>\n",
       "      <th>description</th>\n",
       "      <th>id</th>\n",
       "      <th>is_InAppPurcased</th>\n",
       "      <th>is_multilingual</th>\n",
       "      <th>is_multiplatform</th>\n",
       "      <th>name</th>\n",
       "      <th>new_version_desc</th>\n",
       "      <th>num_current_rating</th>\n",
       "      <th>...</th>\n",
       "      <th>review2</th>\n",
       "      <th>review2_star</th>\n",
       "      <th>review3</th>\n",
       "      <th>review3_star</th>\n",
       "      <th>scrape_date</th>\n",
       "      <th>seller</th>\n",
       "      <th>size</th>\n",
       "      <th>update_date</th>\n",
       "      <th>url</th>\n",
       "      <th>version</th>\n",
       "    </tr>\n",
       "  </thead>\n",
       "  <tbody>\n",
       "    <tr>\n",
       "      <th>0</th>\n",
       "      <td>Finance</td>\n",
       "      <td>1.80000</td>\n",
       "      <td>The JPay App lets you send money and email to ...</td>\n",
       "      <td>584959322</td>\n",
       "      <td>0</td>\n",
       "      <td>0</td>\n",
       "      <td>0</td>\n",
       "      <td>JPay</td>\n",
       "      <td>This update has a big new feature for the new ...</td>\n",
       "      <td>20.0</td>\n",
       "      <td>...</td>\n",
       "      <td>What is wrong with this freakin App? It keep s...</td>\n",
       "      <td>1.0</td>\n",
       "      <td>Emails are not sent and received in a timely m...</td>\n",
       "      <td>1.0</td>\n",
       "      <td>2017-03-13</td>\n",
       "      <td>JPay, Inc.</td>\n",
       "      <td>13.0 MB</td>\n",
       "      <td>Jan 20, 2017</td>\n",
       "      <td>https://itunes.apple.com/us/app/jpay/id5849593...</td>\n",
       "      <td>4.7</td>\n",
       "    </tr>\n",
       "    <tr>\n",
       "      <th>2</th>\n",
       "      <td>Finance</td>\n",
       "      <td>4.64497</td>\n",
       "      <td>Access your interactive Experian Credit Report...</td>\n",
       "      <td>1087101090</td>\n",
       "      <td>1</td>\n",
       "      <td>0</td>\n",
       "      <td>0</td>\n",
       "      <td>Experian - Free Credit Report</td>\n",
       "      <td>Bug fixes and other minor updates</td>\n",
       "      <td>169.0</td>\n",
       "      <td>...</td>\n",
       "      <td>This Experian app helps me measure my credit a...</td>\n",
       "      <td>5.0</td>\n",
       "      <td>I don't exactly like credit bureaus my experie...</td>\n",
       "      <td>5.0</td>\n",
       "      <td>2017-03-13</td>\n",
       "      <td>CONSUMERINFO.COM, INC.</td>\n",
       "      <td>58.0 MB</td>\n",
       "      <td>Feb 22, 2017</td>\n",
       "      <td>https://itunes.apple.com/us/app/experian-free-...</td>\n",
       "      <td>1.6.1</td>\n",
       "    </tr>\n",
       "    <tr>\n",
       "      <th>3</th>\n",
       "      <td>Finance</td>\n",
       "      <td>2.16667</td>\n",
       "      <td>Use the Vanguard app to check your accounts an...</td>\n",
       "      <td>335186209</td>\n",
       "      <td>0</td>\n",
       "      <td>0</td>\n",
       "      <td>0</td>\n",
       "      <td>Vanguard</td>\n",
       "      <td>See what's new!  Have an IRA? Watch your progr...</td>\n",
       "      <td>30.0</td>\n",
       "      <td>...</td>\n",
       "      <td>The app is very easy to use and has tons of he...</td>\n",
       "      <td>5.0</td>\n",
       "      <td>My company used to use Fidelity for our retire...</td>\n",
       "      <td>1.0</td>\n",
       "      <td>2017-03-13</td>\n",
       "      <td>The Vanguard Group, Inc.</td>\n",
       "      <td>49.0 MB</td>\n",
       "      <td>Jan 22, 2017</td>\n",
       "      <td>https://itunes.apple.com/us/app/vanguard/id335...</td>\n",
       "      <td>7.1</td>\n",
       "    </tr>\n",
       "    <tr>\n",
       "      <th>4</th>\n",
       "      <td>Finance</td>\n",
       "      <td>4.60773</td>\n",
       "      <td>Conveniently manage your credit card account f...</td>\n",
       "      <td>1128712763</td>\n",
       "      <td>0</td>\n",
       "      <td>0</td>\n",
       "      <td>0</td>\n",
       "      <td>Credit One Bank Mobile</td>\n",
       "      <td>- Ability add an additional account if qualifi...</td>\n",
       "      <td>724.0</td>\n",
       "      <td>...</td>\n",
       "      <td>I am so fed up with this entire company! I'm g...</td>\n",
       "      <td>2.0</td>\n",
       "      <td>I have no complaints, well one but its not a b...</td>\n",
       "      <td>5.0</td>\n",
       "      <td>2017-03-13</td>\n",
       "      <td>Credit One Bank, National Association</td>\n",
       "      <td>42.8 MB</td>\n",
       "      <td>Jan 31, 2017</td>\n",
       "      <td>https://itunes.apple.com/us/app/credit-one-ban...</td>\n",
       "      <td>1.4</td>\n",
       "    </tr>\n",
       "    <tr>\n",
       "      <th>5</th>\n",
       "      <td>Finance</td>\n",
       "      <td>4.34066</td>\n",
       "      <td>Be the first to know about news and market mov...</td>\n",
       "      <td>552799694</td>\n",
       "      <td>1</td>\n",
       "      <td>0</td>\n",
       "      <td>0</td>\n",
       "      <td>Seeking Alpha Portfolio</td>\n",
       "      <td>Performance improvements</td>\n",
       "      <td>91.0</td>\n",
       "      <td>...</td>\n",
       "      <td>SA offers a lot of information supplied by art...</td>\n",
       "      <td>5.0</td>\n",
       "      <td>I'm new to learning about stocks and managing ...</td>\n",
       "      <td>5.0</td>\n",
       "      <td>2017-03-13</td>\n",
       "      <td>Seeking Alpha Ltd.</td>\n",
       "      <td>46.2 MB</td>\n",
       "      <td>Feb 14, 2017</td>\n",
       "      <td>https://itunes.apple.com/us/app/seeking-alpha-...</td>\n",
       "      <td>3.3.7</td>\n",
       "    </tr>\n",
       "  </tbody>\n",
       "</table>\n",
       "<p>5 rows × 26 columns</p>\n",
       "</div>"
      ],
      "text/plain": [
       "  category  current_rating                                        description  \\\n",
       "0  Finance         1.80000  The JPay App lets you send money and email to ...   \n",
       "2  Finance         4.64497  Access your interactive Experian Credit Report...   \n",
       "3  Finance         2.16667  Use the Vanguard app to check your accounts an...   \n",
       "4  Finance         4.60773  Conveniently manage your credit card account f...   \n",
       "5  Finance         4.34066  Be the first to know about news and market mov...   \n",
       "\n",
       "           id  is_InAppPurcased  is_multilingual  is_multiplatform  \\\n",
       "0   584959322                 0                0                 0   \n",
       "2  1087101090                 1                0                 0   \n",
       "3   335186209                 0                0                 0   \n",
       "4  1128712763                 0                0                 0   \n",
       "5   552799694                 1                0                 0   \n",
       "\n",
       "                            name  \\\n",
       "0                           JPay   \n",
       "2  Experian - Free Credit Report   \n",
       "3                       Vanguard   \n",
       "4         Credit One Bank Mobile   \n",
       "5        Seeking Alpha Portfolio   \n",
       "\n",
       "                                    new_version_desc  num_current_rating  \\\n",
       "0  This update has a big new feature for the new ...                20.0   \n",
       "2                  Bug fixes and other minor updates               169.0   \n",
       "3  See what's new!  Have an IRA? Watch your progr...                30.0   \n",
       "4  - Ability add an additional account if qualifi...               724.0   \n",
       "5                           Performance improvements                91.0   \n",
       "\n",
       "    ...                                               review2  review2_star  \\\n",
       "0   ...     What is wrong with this freakin App? It keep s...           1.0   \n",
       "2   ...     This Experian app helps me measure my credit a...           5.0   \n",
       "3   ...     The app is very easy to use and has tons of he...           5.0   \n",
       "4   ...     I am so fed up with this entire company! I'm g...           2.0   \n",
       "5   ...     SA offers a lot of information supplied by art...           5.0   \n",
       "\n",
       "                                             review3 review3_star scrape_date  \\\n",
       "0  Emails are not sent and received in a timely m...          1.0  2017-03-13   \n",
       "2  I don't exactly like credit bureaus my experie...          5.0  2017-03-13   \n",
       "3  My company used to use Fidelity for our retire...          1.0  2017-03-13   \n",
       "4  I have no complaints, well one but its not a b...          5.0  2017-03-13   \n",
       "5  I'm new to learning about stocks and managing ...          5.0  2017-03-13   \n",
       "\n",
       "                                  seller     size   update_date  \\\n",
       "0                             JPay, Inc.  13.0 MB  Jan 20, 2017   \n",
       "2                 CONSUMERINFO.COM, INC.  58.0 MB  Feb 22, 2017   \n",
       "3               The Vanguard Group, Inc.  49.0 MB  Jan 22, 2017   \n",
       "4  Credit One Bank, National Association  42.8 MB  Jan 31, 2017   \n",
       "5                     Seeking Alpha Ltd.  46.2 MB  Feb 14, 2017   \n",
       "\n",
       "                                                 url  version  \n",
       "0  https://itunes.apple.com/us/app/jpay/id5849593...      4.7  \n",
       "2  https://itunes.apple.com/us/app/experian-free-...    1.6.1  \n",
       "3  https://itunes.apple.com/us/app/vanguard/id335...      7.1  \n",
       "4  https://itunes.apple.com/us/app/credit-one-ban...      1.4  \n",
       "5  https://itunes.apple.com/us/app/seeking-alpha-...    3.3.7  \n",
       "\n",
       "[5 rows x 26 columns]"
      ]
     },
     "execution_count": 7,
     "metadata": {},
     "output_type": "execute_result"
    }
   ],
   "source": [
    "app.head()"
   ]
  },
  {
   "cell_type": "code",
   "execution_count": 246,
   "metadata": {
    "collapsed": true,
    "deletable": true,
    "editable": true
   },
   "outputs": [],
   "source": [
    "ratio = app['num_current_rating']/app['num_overall_rating']"
   ]
  },
  {
   "cell_type": "code",
   "execution_count": 247,
   "metadata": {
    "collapsed": false,
    "deletable": true,
    "editable": true,
    "scrolled": true
   },
   "outputs": [
    {
     "data": {
      "image/png": "[encoded data removed]",
      "text/plain": [
       "<matplotlib.figure.Figure at 0x11cdce8d0>"
      ]
     },
     "metadata": {},
     "output_type": "display_data"
    }
   ],
   "source": [
    "#use histogram to show the range of ratio\n",
    "plt.hist(ratio,bins = 20, alpha = .4, label = 'ratio')\n",
    "plt.legend()\n",
    "plt.show()"
   ]
  },
  {
   "cell_type": "markdown",
   "metadata": {
    "deletable": true,
    "editable": true
   },
   "source": [
    "according to the histogram, the ratios are mainly under 0.2."
   ]
  },
  {
   "cell_type": "code",
   "execution_count": 249,
   "metadata": {
    "collapsed": false,
    "deletable": true,
    "editable": true
   },
   "outputs": [],
   "source": [
    "index = ratio>0.05#get the index of ratio larger than 0.05"
   ]
  },
  {
   "cell_type": "code",
   "execution_count": 250,
   "metadata": {
    "collapsed": false,
    "deletable": true,
    "editable": true
   },
   "outputs": [],
   "source": [
    "appfilter = app.loc[index]#filter the apps which number of current rating over number of overall rating larger than 0.1"
   ]
  },
  {
   "cell_type": "code",
   "execution_count": 251,
   "metadata": {
    "collapsed": false,
    "deletable": true,
    "editable": true
   },
   "outputs": [
    {
     "data": {
      "image/png": "[encoded data removed]",
      "text/plain": [
       "<matplotlib.figure.Figure at 0x11ce349d0>"
      ]
     },
     "metadata": {},
     "output_type": "display_data"
    }
   ],
   "source": [
    "#use histogram to show the range of current_rating-overall_rating\n",
    "plt.hist(appfilter['current_rating']-appfilter['overall_rating'],bins = 20, alpha = .4, label = 'diff')\n",
    "plt.legend()\n",
    "plt.show()"
   ]
  },
  {
   "cell_type": "code",
   "execution_count": 252,
   "metadata": {
    "collapsed": true,
    "deletable": true,
    "editable": true
   },
   "outputs": [],
   "source": [
    "diff = appfilter['current_rating']-appfilter['overall_rating']"
   ]
  },
  {
   "cell_type": "code",
   "execution_count": 253,
   "metadata": {
    "collapsed": false,
    "deletable": true,
    "editable": true
   },
   "outputs": [],
   "source": [
    "index2 = diff>=0.1#get the index of the difference larger than 0.1\n",
    "index2b = diff<= -0.1#get the index of the difference smaller than -0.1"
   ]
  },
  {
   "cell_type": "code",
   "execution_count": 254,
   "metadata": {
    "collapsed": false,
    "deletable": true,
    "editable": true
   },
   "outputs": [],
   "source": [
    "appinprove = appfilter.loc[index2]\n",
    "appdecrease = appfilter.loc[index2b]"
   ]
  },
  {
   "cell_type": "code",
   "execution_count": 255,
   "metadata": {
    "collapsed": false,
    "deletable": true,
    "editable": true
   },
   "outputs": [],
   "source": [
    "nvd = appinprove['new_version_desc']\n",
    "nvdd = appdecrease['new_version_desc']"
   ]
  },
  {
   "cell_type": "code",
   "execution_count": 256,
   "metadata": {
    "collapsed": false,
    "deletable": true,
    "editable": true
   },
   "outputs": [],
   "source": [
    "#compile documents\n",
    "doc_complete = nvd.tolist()\n",
    "doc_complete2 = nvdd.tolist()"
   ]
  },
  {
   "cell_type": "code",
   "execution_count": 257,
   "metadata": {
    "collapsed": false,
    "deletable": true,
    "editable": true
   },
   "outputs": [],
   "source": [
    "#clean doc\n",
    "import nltk\n",
    "from nltk import corpus\n",
    "from nltk.stem.porter import PorterStemmer\n",
    "from nltk.corpus import stopwords\n",
    "import string\n",
    "from sklearn.feature_extraction.text import TfidfVectorizer\n",
    "from sklearn.neighbors import NearestNeighbors\n",
    "stemmer = PorterStemmer().stem\n",
    "tokenize = nltk.word_tokenize\n",
    "stop = stopwords.words('english')+list(string.punctuation)+['we','new','fix','io','updat','improv','bug',\n",
    "                                                            'app','featur','perform','ad',\"\\'s\",\"--\",\"us\"\n",
    "                                                            ,\"minor\",\"support\",\"iphon\",\"issu\",\"add\",\"enhanc\",\n",
    "                                                           \"user\",\"pleas\",\"10\",\"7\",\"experi\",\"thank\",\n",
    "                                                           \"version\",\"experi\",\"screen\",\"\\'\\'\",\"2\",\"6\",\"icon\",\n",
    "                                                           \"stabil\",\"review\",\"5\",\"``\"]\n",
    "def stem(tokens,stemmer = PorterStemmer().stem):\n",
    "    stemwords = [stemmer(w.lower()) for w in tokens if w not in stop]\n",
    "    return [w for w in stemwords if w not in stop]\n",
    "def lemmatize(text):\n",
    "    return stem(tokenize(text))"
   ]
  },
  {
   "cell_type": "code",
   "execution_count": 258,
   "metadata": {
    "collapsed": true,
    "deletable": true,
    "editable": true
   },
   "outputs": [],
   "source": [
    "doc_clean = [lemmatize(doc) for doc in doc_complete]\n",
    "doc_clean2 = [lemmatize(doc) for doc in doc_complete2]"
   ]
  },
  {
   "cell_type": "code",
   "execution_count": 259,
   "metadata": {
    "collapsed": false,
    "deletable": true,
    "editable": true
   },
   "outputs": [],
   "source": [
    "# Importing Gensim\n",
    "import gensim\n",
    "from gensim import corpora\n",
    "\n",
    "# Creating the term dictionary of our courpus, where every unique term is assigned an index. \n",
    "dictionary = corpora.Dictionary(doc_clean)\n",
    "dictionary2 = corpora.Dictionary(doc_clean2)\n",
    "\n",
    "# Converting list of documents (corpus) into Document Term Matrix using dictionary prepared above.\n",
    "doc_term_matrix = [dictionary.doc2bow(doc) for doc in doc_clean]\n",
    "doc_term_matrix2 = [dictionary2.doc2bow(doc) for doc in doc_clean2]"
   ]
  },
  {
   "cell_type": "code",
   "execution_count": 260,
   "metadata": {
    "collapsed": true,
    "deletable": true,
    "editable": true
   },
   "outputs": [],
   "source": [
    "# Creating the object for LDA model using gensim library\n",
    "Lda = gensim.models.ldamodel.LdaModel\n",
    "\n",
    "# Running and Trainign LDA model on the document term matrix.\n",
    "ldamodel = Lda(doc_term_matrix, num_topics=3, id2word = dictionary, passes=50)\n",
    "ldamodel2 = Lda(doc_term_matrix2, num_topics=3, id2word = dictionary2, passes=50)"
   ]
  },
  {
   "cell_type": "code",
   "execution_count": 261,
   "metadata": {
    "collapsed": false,
    "deletable": true,
    "editable": true
   },
   "outputs": [
    {
     "name": "stdout",
     "output_type": "stream",
     "text": [
      "[(0, u'0.007*\"store\" + 0.007*\"game\" + 0.006*\"feedback\"'), (1, u'0.009*\"interfac\" + 0.006*\"free\" + 0.006*\"made\"'), (2, u'0.009*\"use\" + 0.009*\"feedback\" + 0.008*\"crash\"')]\n",
      "[(0, u'0.008*\"use\" + 0.008*\"play\" + 0.007*\"make\"'), (1, u'0.007*\"-bug\" + 0.007*\"rate\" + 0.006*\"time\"'), (2, u'0.010*\"crash\" + 0.008*\"ipad\" + 0.007*\"optim\"')]\n"
     ]
    }
   ],
   "source": [
    "print(ldamodel.print_topics(num_topics=3, num_words=3))\n",
    "print(ldamodel2.print_topics(num_topics=3, num_words=3))"
   ]
  },
  {
   "cell_type": "markdown",
   "metadata": {
    "deletable": true,
    "editable": true
   },
   "source": [
    "__Improved app__"
   ]
  },
  {
   "cell_type": "code",
   "execution_count": 185,
   "metadata": {
    "collapsed": false,
    "deletable": true,
    "editable": true
   },
   "outputs": [],
   "source": [
    "index_interfac = []\n",
    "for i in range(len(doc_clean)):\n",
    "    if 'interfac' in doc_clean[i]:\n",
    "        index_interfac.append(True)\n",
    "    else:\n",
    "        index_interfac.append(False)"
   ]
  },
  {
   "cell_type": "code",
   "execution_count": 187,
   "metadata": {
    "collapsed": false,
    "deletable": true,
    "editable": true
   },
   "outputs": [
    {
     "data": {
      "text/plain": [
       "u'Minor Interface Improvements'"
      ]
     },
     "execution_count": 187,
     "metadata": {},
     "output_type": "execute_result"
    }
   ],
   "source": [
    "nvd[index_interfac][1342]"
   ]
  },
  {
   "cell_type": "code",
   "execution_count": 188,
   "metadata": {
    "collapsed": true,
    "deletable": true,
    "editable": true
   },
   "outputs": [],
   "source": [
    "index_feedback = []\n",
    "for i in range(len(doc_clean)):\n",
    "    if 'feedback' in doc_clean[i]:\n",
    "        index_feedback.append(True)\n",
    "    else:\n",
    "        index_feedback.append(False)"
   ]
  },
  {
   "cell_type": "code",
   "execution_count": 190,
   "metadata": {
    "collapsed": false,
    "deletable": true,
    "editable": true
   },
   "outputs": [
    {
     "data": {
      "text/plain": [
       "u\"- New truth or dare cards - Fixed bugs & improved design If you have any feedback or suggestions, tweet us @truthdareapp! We'd love to hear from you.\""
      ]
     },
     "execution_count": 190,
     "metadata": {},
     "output_type": "execute_result"
    }
   ],
   "source": [
    "nvd[index_feedback][193]"
   ]
  },
  {
   "cell_type": "code",
   "execution_count": 192,
   "metadata": {
    "collapsed": true,
    "deletable": true,
    "editable": true
   },
   "outputs": [],
   "source": [
    "index_store = []\n",
    "for i in range(len(doc_clean)):\n",
    "    if 'store' in doc_clean[i]:\n",
    "        index_store.append(True)\n",
    "    else:\n",
    "        index_store.append(False)"
   ]
  },
  {
   "cell_type": "code",
   "execution_count": 241,
   "metadata": {
    "collapsed": false,
    "deletable": true,
    "editable": true
   },
   "outputs": [
    {
     "data": {
      "text/plain": [
       "u'- Bug fixes If you enjoy our apps, please leave us a review on the App Store. Reviews help us stay motivated to keep the updates coming. Thanks!'"
      ]
     },
     "execution_count": 241,
     "metadata": {},
     "output_type": "execute_result"
    }
   ],
   "source": [
    "nvd[index_store][1024]"
   ]
  },
  {
   "cell_type": "markdown",
   "metadata": {
    "deletable": true,
    "editable": true
   },
   "source": [
    "__improved pattern__:\n",
    "\n",
    "1.some improvements on interface\n",
    "\n",
    "2.ask for feedbacks\n",
    "\n",
    "3.ask for reviews on app store"
   ]
  },
  {
   "cell_type": "markdown",
   "metadata": {
    "deletable": true,
    "editable": true
   },
   "source": [
    "__Worsen app__"
   ]
  },
  {
   "cell_type": "code",
   "execution_count": 214,
   "metadata": {
    "collapsed": true,
    "deletable": true,
    "editable": true
   },
   "outputs": [],
   "source": [
    "index_ipad = []\n",
    "for i in range(len(doc_clean2)):\n",
    "    if 'ipad' in doc_clean2[i]:\n",
    "        index_ipad.append(True)\n",
    "    else:\n",
    "        index_ipad.append(False)"
   ]
  },
  {
   "cell_type": "code",
   "execution_count": 220,
   "metadata": {
    "collapsed": false,
    "deletable": true,
    "editable": true
   },
   "outputs": [
    {
     "data": {
      "text/plain": [
       "u'Holy Quran Arabic text with side by side English translation by Maulvi Sher Ali. Retina display support for iPhone 4+. Universal app with iPad support. Swipe slides the pages left and right accordingly.'"
      ]
     },
     "execution_count": 220,
     "metadata": {},
     "output_type": "execute_result"
    }
   ],
   "source": [
    "nvdd[index_ipad][1373]"
   ]
  },
  {
   "cell_type": "code",
   "execution_count": 222,
   "metadata": {
    "collapsed": true,
    "deletable": true,
    "editable": true
   },
   "outputs": [],
   "source": [
    "index_music = []\n",
    "for i in range(len(doc_clean2)):\n",
    "    if 'music' in doc_clean2[i]:\n",
    "        index_music.append(True)\n",
    "    else:\n",
    "        index_music.append(False)"
   ]
  },
  {
   "cell_type": "code",
   "execution_count": 232,
   "metadata": {
    "collapsed": false,
    "deletable": true,
    "editable": true
   },
   "outputs": [
    {
     "data": {
      "text/plain": [
       "u'- Introducing Music Share! After a quick over-the-air update for your headphones, you can stream music or audio with a friend between two Bose headphones at the same time. - Bug fixes and improvements'"
      ]
     },
     "execution_count": 232,
     "metadata": {},
     "output_type": "execute_result"
    }
   ],
   "source": [
    "nvdd[index_music][2157]"
   ]
  },
  {
   "cell_type": "code",
   "execution_count": 234,
   "metadata": {
    "collapsed": true,
    "deletable": true,
    "editable": true
   },
   "outputs": [],
   "source": [
    "index_card = []\n",
    "for i in range(len(doc_clean2)):\n",
    "    if 'card' in doc_clean2[i]:\n",
    "        index_card.append(True)\n",
    "    else:\n",
    "        index_card.append(False)"
   ]
  },
  {
   "cell_type": "code",
   "execution_count": 239,
   "metadata": {
    "collapsed": false,
    "deletable": true,
    "editable": true
   },
   "outputs": [
    {
     "data": {
      "text/plain": [
       "u'Based on your feedback weve made some enhancements and fixed bugs to help improve your experience.  Added swipe gesture to access the digital card from account summary. (Digital Card is available on most CareCredit accounts.)  Improvements on performance and stability. *We have heard some CareCredit customers are experiencing issues logging into the CareCredit App. Please know that our team is aware and we are looking for the best solution. We will be making regular updates to the app to improve your experience.'"
      ]
     },
     "execution_count": 239,
     "metadata": {},
     "output_type": "execute_result"
    }
   ],
   "source": [
    "nvdd[index_card][646]"
   ]
  },
  {
   "cell_type": "markdown",
   "metadata": {
    "collapsed": true,
    "deletable": true,
    "editable": true
   },
   "source": [
    "__woren pattern__:\n",
    "\n",
    "1.add more features on ipad version\n",
    "\n",
    "2.add more features related to music function\n",
    "\n",
    "3.the apps are designed for cards"
   ]
  },
  {
   "cell_type": "code",
   "execution_count": 262,
   "metadata": {
    "collapsed": false,
    "deletable": true,
    "editable": true
   },
   "outputs": [],
   "source": [
    "import pyLDAvis.gensim"
   ]
  },
  {
   "cell_type": "code",
   "execution_count": 263,
   "metadata": {
    "collapsed": true,
    "deletable": true,
    "editable": true
   },
   "outputs": [],
   "source": [
    "pyLDAvis.enable_notebook()\n",
    "dec_improv = pyLDAvis.gensim.prepare(ldamodel,doc_term_matrix, dictionary)\n",
    "dec_decrea = pyLDAvis.gensim.prepare(ldamodel2,doc_term_matrix2, dictionary2)"
   ]
  },
  {
   "cell_type": "code",
   "execution_count": 264,
   "metadata": {
    "collapsed": false,
    "deletable": true,
    "editable": true
   },
   "outputs": [
    {
     "data": {
      "text/html": [
       "\n",
       "<link rel=\"stylesheet\" type=\"text/css\" href=\"https://cdn.rawgit.com/bmabey/pyLDAvis/files/ldavis.v1.0.0.css\">\n",
       "\n",
       "\n",
       "<div id=\"ldavis_el4023247920037923174680365\"></div>\n",
       "<script type=\"text/javascript\">\n",
       "\n",
       "var ldavis_el4023247920037923174680365_data = {\"plot.opts\": {\"xlab\": \"PC1\", \"ylab\": \"PC2\"}, \"topic.order\": [3, 1, 2], \"token.table\": {\"Topic\": [1, 2, 3, 2, 1, 1, 1, 3, 1, 2, 1, 2, 1, 2, 1, 2, 1, 2, 2, 3, 3, 1, 1, 3, 1, 2, 3, 1, 2, 3, 1, 2, 3, 3, 1, 2, 3, 2, 1, 2, 3, 1, 1, 2, 3, 1, 3, 3, 2, 3, 1, 3, 1, 2, 1, 2, 3, 1, 2, 3, 2, 3, 3, 2, 1, 2, 1, 2, 1, 2, 1, 2, 3, 3, 2, 1, 2, 3, 2, 1, 2, 3, 1, 1, 2, 3, 1, 3, 2, 1, 2, 3, 2, 1, 3, 2, 2, 2, 1, 2, 3, 3, 1, 2, 3, 3, 2, 3, 1, 2, 3, 1, 2, 2, 1, 2, 3, 1, 2, 3, 1, 2, 3, 1, 2, 3, 2, 3, 1, 2, 3, 1, 3, 1, 2, 3, 2, 3, 2, 3, 1, 2, 3, 3, 3, 1, 1, 2, 3, 1, 1, 2, 3, 1, 2, 3, 1, 2, 3, 2, 3, 1, 1, 3, 1, 2, 1, 2, 1, 2, 3, 1, 1, 2, 1, 2, 3, 1, 2, 3, 1, 3, 3, 3, 2, 1, 2, 3, 1, 2, 3, 1, 1, 2, 3, 2, 3, 3, 1, 1, 2, 3, 1, 3, 1, 2, 3, 1, 3, 2, 1, 2, 3, 2, 1, 2, 3, 1, 1, 2, 3, 1, 1, 2, 3, 3, 3, 1, 2, 1, 1, 1, 2, 3, 3, 1, 2, 3, 2, 1, 2, 3, 2, 3, 1, 1, 2, 3, 1, 2, 3, 1, 2, 3, 1, 2, 3, 3, 3, 1, 2, 1, 3, 3, 1, 2, 3, 1, 2, 3, 3, 3, 1, 2, 3, 1, 2, 2, 3, 1, 2, 3, 1, 2, 1, 1, 2, 3, 1, 2, 3, 1, 2, 3, 1, 2, 3, 3, 2, 1, 3, 1, 2, 3, 1, 3, 1, 2, 3, 1, 2, 1, 2, 3, 1, 1, 2, 3, 2, 1, 2, 3, 3, 1, 2, 1, 2, 1, 2, 3, 1, 2, 3, 1, 2], \"Freq\": [0.48732385385896843, 0.097464770771793691, 0.43859146847307157, 0.85006833111746838, 0.92610780353722055, 0.76615158026744434, 0.97923585013861925, 0.67823740797389376, 0.1210811350167592, 0.84756794511731437, 0.1271951716503735, 0.89036620155261448, 0.13387815228026026, 0.87020798982169167, 0.8484722222557679, 0.14141203704262797, 0.9261078001151869, 0.95839764445006526, 0.16895094828840104, 0.84475474144200513, 0.67825425925393312, 0.76615120782480073, 0.19272375281662002, 0.77089501126648008, 0.13408084495141515, 0.13408084495141515, 0.67040422475707562, 0.33340686379156032, 0.52392507167245195, 0.14288865591066871, 0.15097345828805431, 0.67938056229624433, 0.15097345828805431, 0.95715304974130466, 0.25828148944495355, 0.5811333512511454, 0.19371111708371513, 0.76587993908901197, 0.086130998853419988, 0.77517898968077992, 0.17226199770683998, 0.91097300413337423, 0.27813304152158946, 0.2085997811411921, 0.48673282266278156, 0.8693994507450622, 0.091515731657374977, 0.67825248673578931, 0.91039281101906588, 0.81612978409547166, 0.16896340987506597, 0.84481704937532998, 0.84900938216356492, 0.10612617277044561, 0.23949746396141619, 0.71849239188424863, 0.079832487987138739, 0.48457520968743356, 0.29074512581246015, 0.19383008387497344, 0.93718032626698056, 0.085198211478816413, 0.97462413872637443, 0.85006832550683376, 0.15922957987789763, 0.79614789938948805, 0.79522348152626576, 0.15904469630525314, 0.78327229920490227, 0.19581807480122557, 0.68104957267597621, 0.15134434948355027, 0.15134434948355027, 0.81573499312856557, 0.95839752260392008, 0.62284386887937415, 0.33973301938874956, 0.028311084949062461, 0.91022512132143818, 0.70470721910981027, 0.19219287793903916, 0.12812858529269278, 0.95486831962123686, 0.20849363109531635, 0.27799150812708845, 0.48648513922240477, 0.48121860671299255, 0.48121860671299255, 0.95529316097888517, 0.35613269061861869, 0.29677724218218221, 0.35613269061861869, 0.85006665027651407, 0.74949410941750816, 0.20440748438659312, 0.95839705568296274, 0.7657229669144815, 0.91022439786426734, 0.39974228644613347, 0.17131812276262864, 0.39974228644613347, 0.67825296924837009, 0.49337308900389759, 0.39469847120311807, 0.098674617800779518, 0.90846401287144729, 0.9583977112661527, 0.9571947921633539, 0.11338014448535337, 0.56690072242676681, 0.3401404334560601, 0.28252616676159709, 0.7063154169039928, 0.76594786932610248, 0.57794372280680206, 0.36121482675425126, 0.048161976900566839, 0.13616653303216289, 0.61274939864473299, 0.20424979954824432, 0.051415698931134776, 0.30849419358680863, 0.61698838717361726, 0.12257962037457153, 0.73547772224742913, 0.18386943056185728, 0.19268240425496427, 0.77072961701985709, 0.93331870621223323, 0.68772633236717984, 0.32576510480550624, 0.39180585074214314, 0.626889361187429, 0.24593477429639754, 0.3279130323951967, 0.40989129049399586, 0.30809683123252768, 0.61619366246505536, 0.80381122776677305, 0.16076224555335461, 0.47236871395295527, 0.31491247596863686, 0.1889474855811821, 0.97462489247774586, 0.6782555347953918, 0.89158394055850021, 0.26523322297997071, 0.19892491723497804, 0.53046644595994141, 0.85061017564155295, 0.3894397710139017, 0.41939667647650952, 0.17974143277564694, 0.17376102810044297, 0.13032077107533224, 0.73848436942688267, 0.53550113405410282, 0.32130068043246168, 0.16065034021623084, 0.91022566745131839, 0.8161293880363838, 0.76614985796800827, 0.16884027729792597, 0.84420138648962983, 0.78326577032125821, 0.19581644258031455, 0.11570546955138322, 0.80993828685968261, 0.26740274763501903, 0.58828604479704194, 0.10696109905400762, 0.91075982769699626, 0.09089624618199825, 0.81806621563798432, 0.20798813539607927, 0.6239644061882379, 0.16639050831686342, 0.23706275236227359, 0.18965020188981888, 0.56895060566945654, 0.27060184805908427, 0.8118055441772527, 0.81612784633766944, 0.90846496817935207, 0.765723299740381, 0.33904824182812032, 0.40069337670596039, 0.24658053951136025, 0.85107790343928347, 0.89791747589612914, 0.12827392512801844, 0.85055789854024766, 0.49399548395082293, 0.082332580658470489, 0.41166290329235244, 0.16899575258417293, 0.8449787629208646, 0.90846460460275158, 0.91076439788535923, 0.26301796826631069, 0.26301796826631069, 0.46028144446604363, 0.76264394408902814, 0.22879318322670844, 0.19982762747710475, 0.19982762747710475, 0.5994828824313142, 0.29811558676500899, 0.74528896691252255, 0.9107437253862779, 0.76123865190219098, 0.095154831487773872, 0.14273224723166081, 0.99043652761771239, 0.26877863539572222, 0.67194658848930555, 0.067194658848930555, 0.95598416447547307, 0.58201620875159299, 0.34920972525095578, 0.1164032417503186, 0.99092693111382957, 0.2068335354798462, 0.41366707095969241, 0.41366707095969241, 0.85363117137655498, 0.81595097471367928, 0.74262171519702758, 0.21217763291343647, 0.99118168551473784, 0.76614765076922309, 0.46047774838148853, 0.13156507096613959, 0.46047774838148853, 0.67823794464007314, 0.289302743904577, 0.61993445122409352, 0.12398689024481871, 0.85006675350939576, 0.43541585292069729, 0.18660679410887027, 0.37321358821774053, 0.76572685507538696, 0.67825607576310132, 0.91084815536866426, 0.72951926178860649, 0.18237981544715162, 0.060793271815717212, 0.64418959321588742, 0.14315324293686388, 0.14315324293686388, 0.16611168515700478, 0.24916752773550718, 0.58139089804951682, 0.91076786067796922, 0.19267335160953011, 0.77069340643812045, 0.97454694495586602, 0.67825588894593425, 0.97921337132483666, 0.91043347217027681, 0.84155450644534513, 0.14850961878447266, 0.678255904226433, 0.51521378676382357, 0.29440787815075631, 0.18400492384422268, 0.62039507356017953, 0.11279910428366902, 0.28199776070917254, 0.67823217206438879, 0.67825583817407864, 0.7661472203289128, 0.76572323939975073, 0.97462332048733247, 0.90913743932270952, 0.090913743932270946, 0.4083380531207555, 0.51042256640094441, 0.28054702355472144, 0.62343783012160325, 0.062343783012160321, 0.23144603334728903, 0.81006111671551151, 0.76614923188467554, 0.36731557317290686, 0.26236826655207635, 0.41978922648332218, 0.37172929036477592, 0.53694230830467637, 0.082606508969950199, 0.41101152893822196, 0.50234742425782686, 0.091335895319604885, 0.11090801751488248, 0.33272405254464749, 0.55454008757441242, 0.995177780559382, 0.76572234983464693, 0.85055834173627176, 0.67822314566047781, 0.64657065488960597, 0.14368236775324575, 0.21552355162986864, 0.76614723743657509, 0.67825466510472854, 0.61068078544332527, 0.20356026181444176, 0.20356026181444176, 0.8487244786438598, 0.10609055983048248, 0.7121011542193697, 0.19938832318142352, 0.11393618467509915, 0.76614723918620731, 0.2264616121533122, 0.60389763240883254, 0.15097440810220814, 0.95839699886104412, 0.44273384816023725, 0.44273384816023725, 0.13282015444807119, 0.67816977562650127, 0.29361755525153044, 0.68510762892023769, 0.25429418603558229, 0.6993090115978513, 0.6121121871830657, 0.33387937482712676, 0.11129312494237559, 0.25584323259360653, 0.68224862024961741, 0.085281077531202176, 0.14148485759005922, 0.84890914554035535], \"Term\": [\"'ve\", \"'ve\", \"'ve\", \"***\", \"-=\", \"-add\", \"-bug\", \"-bugfix\", \"-fix\", \"-fix\", \"1\", \"1\", \"3\", \"3\", \"9\", \"9\", \"=-\", \"abcya\", \"abl\", \"abl\", \"accept\", \"accuraci\", \"action\", \"action\", \"alert\", \"alert\", \"alert\", \"also\", \"also\", \"also\", \"appreci\", \"appreci\", \"appreci\", \"audio\", \"avail\", \"avail\", \"avail\", \"avatar\", \"back\", \"back\", \"back\", \"bar\", \"best\", \"best\", \"best\", \"better\", \"better\", \"bibl\", \"big\", \"bob\", \"book\", \"book\", \"bugfix\", \"bugfix\", \"categori\", \"categori\", \"categori\", \"chang\", \"chang\", \"chang\", \"chat\", \"chat\", \"chest\", \"chines\", \"color\", \"color\", \"come\", \"come\", \"comment\", \"comment\", \"compat\", \"compat\", \"compat\", \"cool\", \"cozi\", \"crash\", \"crash\", \"crash\", \"credit\", \"custom\", \"custom\", \"custom\", \"data\", \"design\", \"design\", \"design\", \"devic\", \"devic\", \"dictionari\", \"display\", \"display\", \"display\", \"dog\", \"download\", \"download\", \"dreamscap\", \"drink\", \"earn\", \"easier\", \"easier\", \"easier\", \"element\", \"enjoy\", \"enjoy\", \"enjoy\", \"errand\", \"exampl\", \"explor\", \"faster\", \"faster\", \"faster\", \"favorit\", \"favorit\", \"feed\", \"feedback\", \"feedback\", \"feedback\", \"filter\", \"filter\", \"filter\", \"free\", \"free\", \"free\", \"friend\", \"friend\", \"friend\", \"fun\", \"fun\", \"function\", \"game\", \"game\", \"gener\", \"gener\", \"get\", \"get\", \"get\", \"gift\", \"gift\", \"heart\", \"heart\", \"help\", \"help\", \"help\", \"hike\", \"hit\", \"hope\", \"imag\", \"imag\", \"imag\", \"import\", \"includ\", \"includ\", \"includ\", \"interfac\", \"interfac\", \"interfac\", \"ipad\", \"ipad\", \"ipad\", \"japanes\", \"jump\", \"label\", \"landscap\", \"landscap\", \"languag\", \"languag\", \"left\", \"left\", \"like\", \"like\", \"like\", \"littl\", \"locat\", \"locat\", \"love\", \"love\", \"love\", \"made\", \"made\", \"made\", \"magazin\", \"magazin\", \"magic\", \"mail\", \"main\", \"make\", \"make\", \"make\", \"manga\", \"mani\", \"mani\", \"match\", \"messag\", \"messag\", \"messag\", \"miss\", \"miss\", \"mission\", \"mixtap\", \"mode\", \"mode\", \"mode\", \"multipl\", \"multipl\", \"notif\", \"notif\", \"notif\", \"offer\", \"offer\", \"onlin\", \"optim\", \"optim\", \"optim\", \"optimis\", \"order\", \"order\", \"order\", \"overal\", \"page\", \"page\", \"page\", \"patient\", \"photo\", \"photo\", \"photo\", \"pin\", \"player\", \"pro\", \"pro\", \"product\", \"prompt\", \"purchas\", \"purchas\", \"purchas\", \"radar\", \"rate\", \"rate\", \"rate\", \"reach\", \"read\", \"read\", \"read\", \"readi\", \"recipi\", \"relat\", \"releas\", \"releas\", \"releas\", \"remov\", \"remov\", \"remov\", \"request\", \"request\", \"request\", \"result\", \"ride\", \"ride\", \"rotat\", \"rout\", \"sale\", \"satellit\", \"search\", \"search\", \"secret\", \"set\", \"set\", \"set\", \"share\", \"share\", \"share\", \"shortcut\", \"snap\", \"snl\", \"spanish\", \"special\", \"speed\", \"speed\", \"sticker\", \"sticker\", \"store\", \"store\", \"store\", \"swipe\", \"swipe\", \"switch\", \"tap\", \"tap\", \"tap\", \"thi\", \"thi\", \"thi\", \"time\", \"time\", \"time\", \"touch\", \"touch\", \"touch\", \"trail\", \"transact\", \"transit\", \"trial\", \"ui\", \"ui\", \"ui\", \"unit\", \"upcom\", \"upgrad\", \"upgrad\", \"upgrad\", \"upload\", \"upload\", \"use\", \"use\", \"use\", \"vehicl\", \"video\", \"video\", \"video\", \"videoshop.net\", \"view\", \"view\", \"view\", \"vpn\", \"weve\", \"weve\", \"word\", \"word\", \"work\", \"work\", \"work\", \"would\", \"would\", \"would\", \"write\", \"write\"]}, \"mdsDat\": {\"y\": [0.074284999183714201, -0.093099856902753991, 0.018814857719039766], \"cluster\": [1, 1, 1], \"Freq\": [37.217382236096611, 36.716877658786053, 26.065740105117342], \"topics\": [1, 2, 3], \"x\": [-0.069049066540904799, -0.034223931160182242, 0.10327299770108705]}, \"R\": 30, \"lambda.step\": 0.01, \"tinfo\": {\"Category\": [\"Default\", \"Default\", \"Default\", \"Default\", \"Default\", \"Default\", \"Default\", \"Default\", \"Default\", \"Default\", \"Default\", \"Default\", \"Default\", \"Default\", \"Default\", \"Default\", \"Default\", \"Default\", \"Default\", \"Default\", \"Default\", \"Default\", \"Default\", \"Default\", \"Default\", \"Default\", \"Default\", \"Default\", \"Default\", \"Default\", \"Topic1\", \"Topic1\", \"Topic1\", \"Topic1\", \"Topic1\", \"Topic1\", \"Topic1\", \"Topic1\", \"Topic1\", \"Topic1\", \"Topic1\", \"Topic1\", \"Topic1\", \"Topic1\", \"Topic1\", \"Topic1\", \"Topic1\", \"Topic1\", \"Topic1\", \"Topic1\", \"Topic1\", \"Topic1\", \"Topic1\", \"Topic1\", \"Topic1\", \"Topic1\", \"Topic1\", \"Topic1\", \"Topic1\", \"Topic1\", \"Topic1\", \"Topic1\", \"Topic1\", \"Topic1\", \"Topic1\", \"Topic1\", \"Topic1\", \"Topic1\", \"Topic1\", \"Topic1\", \"Topic1\", \"Topic1\", \"Topic1\", \"Topic1\", \"Topic1\", \"Topic1\", \"Topic1\", \"Topic1\", \"Topic1\", \"Topic1\", \"Topic1\", \"Topic1\", \"Topic1\", \"Topic1\", \"Topic1\", \"Topic1\", \"Topic1\", \"Topic1\", \"Topic1\", \"Topic1\", \"Topic1\", \"Topic2\", \"Topic2\", \"Topic2\", \"Topic2\", \"Topic2\", \"Topic2\", \"Topic2\", \"Topic2\", \"Topic2\", \"Topic2\", \"Topic2\", \"Topic2\", \"Topic2\", \"Topic2\", \"Topic2\", \"Topic2\", \"Topic2\", \"Topic2\", \"Topic2\", \"Topic2\", \"Topic2\", \"Topic2\", \"Topic2\", \"Topic2\", \"Topic2\", \"Topic2\", \"Topic2\", \"Topic2\", \"Topic2\", \"Topic2\", \"Topic2\", \"Topic2\", \"Topic2\", \"Topic2\", \"Topic2\", \"Topic2\", \"Topic2\", \"Topic2\", \"Topic2\", \"Topic2\", \"Topic2\", \"Topic2\", \"Topic2\", \"Topic2\", \"Topic2\", \"Topic2\", \"Topic2\", \"Topic2\", \"Topic2\", \"Topic2\", \"Topic2\", \"Topic2\", \"Topic2\", \"Topic2\", \"Topic2\", \"Topic2\", \"Topic2\", \"Topic2\", \"Topic2\", \"Topic2\", \"Topic2\", \"Topic2\", \"Topic2\", \"Topic3\", \"Topic3\", \"Topic3\", \"Topic3\", \"Topic3\", \"Topic3\", \"Topic3\", \"Topic3\", \"Topic3\", \"Topic3\", \"Topic3\", \"Topic3\", \"Topic3\", \"Topic3\", \"Topic3\", \"Topic3\", \"Topic3\", \"Topic3\", \"Topic3\", \"Topic3\", \"Topic3\", \"Topic3\", \"Topic3\", \"Topic3\", \"Topic3\", \"Topic3\", \"Topic3\", \"Topic3\", \"Topic3\", \"Topic3\", \"Topic3\", \"Topic3\", \"Topic3\", \"Topic3\", \"Topic3\", \"Topic3\", \"Topic3\", \"Topic3\", \"Topic3\", \"Topic3\", \"Topic3\", \"Topic3\", \"Topic3\", \"Topic3\", \"Topic3\", \"Topic3\", \"Topic3\", \"Topic3\", \"Topic3\", \"Topic3\", \"Topic3\", \"Topic3\", \"Topic3\", \"Topic3\", \"Topic3\", \"Topic3\", \"Topic3\", \"Topic3\", \"Topic3\", \"Topic3\", \"Topic3\", \"Topic3\", \"Topic3\", \"Topic3\", \"Topic3\", \"Topic3\", \"Topic3\", \"Topic3\", \"Topic3\"], \"Term\": [\"interfac\", \"better\", \"game\", \"free\", \"search\", \"function\", \"trail\", \"-fix\", \"1\", \"explor\", \"audio\", \"3\", \"devic\", \"sale\", \"-bug\", \"chat\", \"data\", \"gener\", \"9\", \"favorit\", \"crash\", \"use\", \"made\", \"pin\", \"=-\", \"-=\", \"download\", \"speed\", \"locat\", \"notif\", \"function\", \"sale\", \"-bug\", \"data\", \"=-\", \"-=\", \"hope\", \"patient\", \"product\", \"overal\", \"mixtap\", \"result\", \"relat\", \"bar\", \"littl\", \"match\", \"transit\", \"import\", \"better\", \"manga\", \"speed\", \"bugfix\", \"snl\", \"vehicl\", \"unit\", \"prompt\", \"switch\", \"label\", \"accuraci\", \"-add\", \"upload\", \"9\", \"search\", \"come\", \"optim\", \"comment\", \"use\", \"releas\", \"download\", \"custom\", \"languag\", \"crash\", \"feedback\", \"multipl\", \"pro\", \"remov\", \"share\", \"set\", \"chang\", \"help\", \"work\", \"compat\", \"upgrad\", \"includ\", \"ipad\", \"page\", \"make\", \"ui\", \"enjoy\", \"'ve\", \"view\", \"optimis\", \"dictionari\", \"credit\", \"earn\", \"japanes\", \"big\", \"satellit\", \"onlin\", \"chat\", \"dog\", \"reach\", \"chines\", \"***\", \"transact\", \"drink\", \"main\", \"spanish\", \"avatar\", \"1\", \"readi\", \"locat\", \"-fix\", \"3\", \"feed\", \"mani\", \"videoshop.net\", \"dreamscap\", \"cozi\", \"exampl\", \"abcya\", \"left\", \"write\", \"heart\", \"color\", \"friend\", \"word\", \"game\", \"favorit\", \"back\", \"store\", \"categori\", \"swipe\", \"love\", \"appreci\", \"rate\", \"order\", \"weve\", \"would\", \"like\", \"thi\", \"filter\", \"includ\", \"time\", \"also\", \"faster\", \"make\", \"feedback\", \"crash\", \"avail\", \"view\", \"video\", \"help\", \"chang\", \"trail\", \"explor\", \"audio\", \"pin\", \"hike\", \"chest\", \"special\", \"rotat\", \"mail\", \"mission\", \"errand\", \"bob\", \"jump\", \"magic\", \"player\", \"cool\", \"recipi\", \"secret\", \"rout\", \"snap\", \"hit\", \"upcom\", \"accept\", \"element\", \"bibl\", \"radar\", \"-bugfix\", \"shortcut\", \"trial\", \"vpn\", \"interfac\", \"miss\", \"abl\", \"book\", \"landscap\", \"free\", \"action\", \"fun\", \"ride\", \"magazin\", \"notif\", \"made\", \"alert\", \"gener\", \"gift\", \"imag\", \"devic\", \"request\", \"offer\", \"'ve\", \"get\", \"best\", \"design\", \"tap\", \"easier\", \"game\", \"purchas\", \"mode\", \"touch\", \"make\", \"sticker\", \"messag\", \"chang\", \"display\", \"help\", \"faster\", \"photo\", \"read\", \"includ\"], \"loglift\": [30.0, 29.0, 28.0, 27.0, 26.0, 25.0, 24.0, 23.0, 22.0, 21.0, 20.0, 19.0, 18.0, 17.0, 16.0, 15.0, 14.0, 13.0, 12.0, 11.0, 10.0, 9.0, 8.0, 7.0, 6.0, 5.0, 4.0, 3.0, 2.0, 1.0, 0.94299999999999995, 0.93740000000000001, 0.93700000000000006, 0.93330000000000002, 0.92820000000000003, 0.92820000000000003, 0.92190000000000005, 0.91420000000000001, 0.90610000000000002, 0.8972, 0.89190000000000003, 0.89180000000000004, 0.89059999999999995, 0.88870000000000005, 0.88219999999999998, 0.87480000000000002, 0.87480000000000002, 0.87390000000000001, 0.86650000000000005, 0.86639999999999995, 0.85209999999999997, 0.85070000000000001, 0.85029999999999994, 0.85029999999999994, 0.85029999999999994, 0.85029999999999994, 0.85019999999999996, 0.85019999999999996, 0.85019999999999996, 0.85009999999999997, 0.84109999999999996, 0.82079999999999997, 0.79959999999999998, 0.75900000000000001, 0.69779999999999998, 0.76080000000000003, 0.63629999999999998, 0.70860000000000001, 0.70230000000000004, 0.67149999999999999, 0.74129999999999996, 0.49940000000000001, 0.4299, 0.67569999999999997, 0.74050000000000005, 0.60189999999999999, 0.51590000000000003, 0.35949999999999999, 0.29010000000000002, 0.23760000000000001, 0.45960000000000001, 0.60599999999999998, 0.54269999999999996, 0.055800000000000002, 0.38750000000000001, 0.41880000000000001, -0.054300000000000001, 0.56189999999999996, 0.26939999999999997, 0.24590000000000001, 0.14849999999999999, 0.92620000000000002, 0.91810000000000003, 0.90549999999999997, 0.90510000000000002, 0.90469999999999995, 0.90300000000000002, 0.90239999999999998, 0.89780000000000004, 0.89510000000000001, 0.88839999999999997, 0.88839999999999997, 0.88839999999999997, 0.88819999999999999, 0.86399999999999999, 0.86399999999999999, 0.86399999999999999, 0.8639, 0.86109999999999998, 0.85750000000000004, 0.85670000000000002, 0.8548, 0.85209999999999997, 0.85099999999999998, 0.84930000000000005, 0.82869999999999999, 0.82609999999999995, 0.82609999999999995, 0.82609999999999995, 0.82609999999999995, 0.82609999999999995, 0.81059999999999999, 0.80100000000000005, 0.7802, 0.77170000000000005, 0.67720000000000002, 0.67259999999999998, 0.60719999999999996, 0.63780000000000003, 0.69830000000000003, 0.54290000000000005, 0.67410000000000003, 0.72709999999999997, 0.53149999999999997, 0.6341, 0.49459999999999998, 0.5726, 0.67269999999999996, 0.60870000000000002, 0.4521, 0.34860000000000002, 0.51229999999999998, 0.16769999999999999, 0.32740000000000002, 0.34410000000000002, 0.3982, 0.1208, 0.0060000000000000001, -0.047100000000000003, 0.42570000000000002, 0.1724, 0.51580000000000004, -0.11260000000000001, -0.2263, 1.2769999999999999, 1.2673000000000001, 1.2666999999999999, 1.2505999999999999, 1.2365999999999999, 1.2365999999999999, 1.2365999999999999, 1.2354000000000001, 1.2176, 1.2176, 1.2176, 1.1904999999999999, 1.1903999999999999, 1.1903999999999999, 1.1872, 1.1831, 1.1485000000000001, 1.1485000000000001, 1.1485000000000001, 1.1485000000000001, 1.1485000000000001, 1.1485000000000001, 1.1485000000000001, 1.1484000000000001, 1.1484000000000001, 1.1480999999999999, 1.1480999999999999, 1.1479999999999999, 1.1476999999999999, 1.1465000000000001, 1.0271999999999999, 1.0952, 1.0908, 1.0906, 1.0784, 0.89149999999999996, 1.0576000000000001, 1.0556000000000001, 1.0548, 1.1068, 0.81769999999999998, 0.74039999999999995, 0.94779999999999998, 0.81479999999999997, 0.8659, 0.71540000000000004, 0.66100000000000003, 0.76429999999999998, 0.95660000000000001, 0.50780000000000003, 0.41789999999999999, 0.62180000000000002, 0.60960000000000003, 0.42059999999999997, 0.45660000000000001, 0.19439999999999999, 0.50570000000000004, 0.49619999999999997, 0.79849999999999999, -0.1114, 0.73580000000000001, 0.54120000000000001, -0.21729999999999999, 0.26500000000000001, -0.26519999999999999, 0.21529999999999999, 0.377, 0.27489999999999998, -0.41439999999999999], \"Freq\": [23.0, 21.0, 27.0, 19.0, 20.0, 11.0, 8.0, 16.0, 15.0, 7.0, 7.0, 14.0, 16.0, 10.0, 10.0, 11.0, 9.0, 12.0, 14.0, 21.0, 35.0, 35.0, 21.0, 5.0, 8.0, 8.0, 14.0, 10.0, 11.0, 15.0, 11.262996068553589, 9.7045128110302716, 9.7001439866069408, 8.9199099515067726, 8.1333041173156175, 8.1333037292833694, 7.3460050939026589, 6.5588937412833985, 6.5040552647598746, 5.729085167067435, 4.9847724841744014, 4.9843313594594143, 4.978018488443313, 4.9679287280934394, 4.936785080607673, 4.1977079284259124, 4.1976630461715772, 4.1938886432677185, 19.347163808672903, 4.1599564360666061, 9.598138058128475, 8.2109689066876363, 3.4106666968723292, 3.4106662352076089, 3.4106478196314516, 3.4106128371843587, 3.4104063669639899, 3.4103405950782477, 3.4101893509314194, 3.4099425957490572, 8.1353246646082198, 11.960470656929836, 16.724936257615607, 9.9971891676026203, 15.718344176729191, 8.1348033970886817, 24.687020318057503, 12.434295580100519, 11.025038830789944, 11.369748579591294, 7.9778008393743631, 21.660909587502122, 23.756771421453976, 9.5914982396796056, 7.3565259616897238, 9.4928431559431079, 11.053845265023318, 14.487620550955969, 15.397916925765466, 14.987910954167024, 10.59052449927443, 9.0159663648422352, 9.4378578080362896, 13.136920330474906, 10.239734408955977, 9.720184924826329, 11.436660802226898, 9.086299591651434, 9.8754029875907019, 9.7657096964749623, 9.7525264918967967, 6.5519717478891852, 5.7758111032131989, 4.9880626512097415, 4.9859736557814314, 4.9842275014315192, 4.9748151433616696, 4.9715306951855265, 4.9473068432509262, 10.547583071976684, 4.200693888206855, 4.2006761498102225, 4.2003435132015499, 4.1997836713820078, 3.4130394611101789, 3.4129704498342126, 3.4129243021669948, 3.4127952366404513, 3.4025110331567703, 13.608528124032736, 3.3883350766493838, 9.4961584736304125, 14.219562568602834, 12.846508468282492, 3.3621405169894794, 6.5556868512032773, 2.6254337295091497, 2.6254287565027767, 2.6253946241590875, 2.625391452238877, 2.6253869122445574, 7.1377276158454013, 5.7814239414989466, 4.98340714672032, 4.9887283236426683, 11.791916517712172, 11.316097151114972, 18.617417641765378, 14.755574242454308, 8.5699902810454667, 20.27190344594387, 9.0253295630164203, 6.565110111647237, 15.019138623097026, 9.1705621458314202, 14.568240418644834, 9.6870898163909089, 7.3509973462564835, 7.9133509409461098, 10.790059231148646, 12.597820871177968, 9.0015545274938589, 14.494976460277231, 11.154651029758929, 10.874843043572191, 9.6449550935251356, 13.442131985610393, 15.339385090824132, 12.372708036639507, 8.7042130945252758, 9.8534401499499804, 8.1472999836900737, 10.418200374107496, 9.0642802588300633, 7.5138081081237011, 6.7695410885075376, 6.7656434651523156, 5.3323052047445794, 4.6052233396820084, 4.6051754263071381, 4.605123347007436, 4.6002493300004552, 3.8780860142056306, 3.8780647459266255, 3.8780300739648781, 3.150930622076638, 3.1509090625877914, 3.1508252558483663, 3.1412452331552103, 3.1293573592675608, 2.4237927593122679, 2.4237837584357353, 2.4237829554756716, 2.4237802945375355, 2.4237643783828551, 2.423718723844372, 2.4236973908473258, 2.4236296741131449, 2.4236043379825278, 2.4228409621667995, 2.422812907154797, 2.4225434306372096, 2.4220576780772589, 2.4192427459957937, 16.760144632505355, 4.6114036657128938, 4.5922719103119194, 4.5911588868018764, 4.5387902715167066, 12.363205767634621, 3.894590407241437, 3.8875570630402505, 3.8846265039771501, 2.9134565520506772, 8.8647451329079079, 11.527232847726486, 5.0155906907012744, 7.5132584090251271, 6.0334721109379368, 8.0385830724306935, 8.3925681461981352, 6.739876465736911, 4.5515915406059628, 8.8873475148674324, 9.6578823531742302, 6.9813213735340423, 6.8999227516585915, 7.5650997079140909, 7.2055312586390032, 8.7469219625942412, 6.57008530925423, 6.511195433528604, 5.2228576310904167, 7.5649678424756752, 5.3292382077740124, 5.4389727438770183, 6.4927499528683885, 5.7241928752767279, 6.3487436333813427, 5.7026963186031745, 5.5118381771626916, 5.5161343249636117, 5.7493882437851918], \"Total\": [23.0, 21.0, 27.0, 19.0, 20.0, 11.0, 8.0, 16.0, 15.0, 7.0, 7.0, 14.0, 16.0, 10.0, 10.0, 11.0, 9.0, 12.0, 14.0, 21.0, 35.0, 35.0, 21.0, 5.0, 8.0, 8.0, 14.0, 10.0, 11.0, 15.0, 11.785898993326981, 10.212278848347831, 10.212044420743393, 9.4253833906333675, 8.6383032288519548, 8.6383031969328155, 7.8511956996613304, 7.064093002429356, 7.0622773829449628, 6.2762545897316873, 5.4898939963059092, 5.4898731234082359, 5.4893891704443956, 5.4886368501738358, 5.4899215445671441, 4.7027956672495979, 4.7027932167882485, 4.7025066411686094, 21.854166095593097, 4.6999222795417843, 10.999437013010722, 9.4227462829836774, 3.9156965141922426, 3.9156964178146292, 3.9156964267568122, 3.9156943142590825, 3.9156862333728402, 3.9156830335472952, 3.9156761346332347, 3.9156742311394503, 9.425909351386748, 14.143067604613528, 20.200711742138438, 12.575081385684291, 21.018375722277153, 10.213561756391462, 35.107371827540256, 16.449188703501637, 14.67656631557649, 15.609319305534086, 10.213646891167965, 35.321853676720913, 41.526534596557667, 13.112278773740107, 9.4260642487983333, 13.971042213008598, 17.730637248416155, 27.17318588840028, 30.954947137463918, 31.754854961655862, 17.970561982472351, 13.214897066357812, 14.737650527953695, 33.381285034537328, 18.674096774162347, 17.181652073659073, 32.443760630312966, 13.919592440421907, 20.268636905571071, 20.5202349952974, 22.586933530279193, 7.0675907085505356, 6.2807944671684064, 5.4931465665781083, 5.4931509325962935, 5.4931432707234826, 5.4921347570870562, 5.4918894711560631, 5.4900186085600833, 11.737335592410163, 4.7055133838021517, 4.7055128123603156, 4.7055041106432141, 4.7055040795858707, 3.9178691867200057, 3.9178660293926511, 3.9178643264703479, 3.9178646352064428, 3.9170630367579515, 15.723867298182361, 3.9178461354925909, 11.001554431606959, 16.517849784965875, 14.938957297626905, 3.9167156410258901, 7.7958166400692246, 3.1302268303899012, 3.1302266448034648, 3.1302251197907358, 3.1302245036005543, 3.1302247218287138, 8.6426337828041362, 7.0678941692645161, 6.2203659606640338, 6.2802401461263182, 16.315925876491693, 15.729813026241573, 27.627268443541034, 21.236970963694684, 11.610221793686922, 32.080183514206936, 12.526228672230573, 8.6413232971634617, 24.039832803339095, 13.247361640110546, 24.196106492197202, 14.882135234114902, 10.217372722928708, 11.725930639585616, 18.698386775084881, 24.211167194192175, 14.68789691169999, 33.381285034537328, 21.897195981947178, 20.99536860277798, 17.63977289919897, 32.443760630312966, 41.526534596557667, 35.321853676720913, 15.486978987909637, 22.586933530279193, 13.247278297961733, 31.754854961655862, 30.954947137463918, 8.0387646873539111, 7.3130360270549684, 7.3133549560249858, 5.8573306220027819, 5.1301788396648895, 5.1301828072244673, 5.1301871142380353, 5.1305891685150513, 4.4030316414031576, 4.4030334035403591, 4.403036271472013, 3.6758859417499914, 3.6758877256191358, 3.6758946695206411, 3.6766914838881259, 3.6776649589276342, 2.9487387897702404, 2.9487395355312795, 2.9487396019637448, 2.9487398226960595, 2.9487411416455842, 2.9487449226629092, 2.9487466871199044, 2.9487522954987879, 2.9487543932575253, 2.9488176174828418, 2.9488199507818695, 2.9488427154855277, 2.9488819613378556, 2.9491140299674612, 23.020121621793066, 5.9173084808857714, 5.9188776987092702, 5.918441162731118, 5.9227573894317693, 19.449312579400726, 5.1887740114292882, 5.1898874931867889, 5.1901313370340389, 3.69546626223209, 15.012939090935888, 21.091461860525101, 7.4581868898749484, 12.761422501805928, 9.7371984904831166, 15.081066975919766, 16.624461083590944, 12.04009217117777, 6.7088072170359521, 20.5202349952974, 24.39671257212644, 14.381606651684024, 14.388928737245216, 19.057182736722361, 17.511282236945107, 27.627268443541034, 15.201603171063029, 15.208086452671266, 9.0164807054261189, 32.443760630312966, 9.7958051409357694, 12.145860022876844, 30.954947137463918, 16.847653018254874, 31.754854961655862, 17.63977289919897, 14.50441773400097, 16.076585069296769, 33.381285034537328], \"logprob\": [30.0, 29.0, 28.0, 27.0, 26.0, 25.0, 24.0, 23.0, 22.0, 21.0, 20.0, 19.0, 18.0, 17.0, 16.0, 15.0, 14.0, 13.0, 12.0, 11.0, 10.0, 9.0, 8.0, 7.0, 6.0, 5.0, 4.0, 3.0, 2.0, 1.0, -5.5027999999999997, -5.6517999999999997, -5.6521999999999997, -5.7361000000000004, -5.8284000000000002, -5.8284000000000002, -5.9302000000000001, -6.0434999999999999, -6.0518999999999998, -6.1787999999999998, -6.3179999999999996, -6.3179999999999996, -6.3193000000000001, -6.3212999999999999, -6.3276000000000003, -6.4897999999999998, -6.4897999999999998, -6.4907000000000004, -4.9618000000000002, -6.4988000000000001, -5.6627999999999998, -5.8189000000000002, -6.6974, -6.6974, -6.6974, -6.6974999999999998, -6.6974999999999998, -6.6974999999999998, -6.6976000000000004, -6.6977000000000002, -5.8281000000000001, -5.4427000000000003, -5.1074000000000002, -5.6219999999999999, -5.1695000000000002, -5.8281999999999998, -4.7180999999999997, -5.4039000000000001, -5.5242000000000004, -5.4934000000000003, -5.8476999999999997, -4.8487999999999998, -4.7565, -5.6635, -5.9287999999999998, -5.6738, -5.5216000000000003, -5.2511000000000001, -5.1901000000000002, -5.2171000000000003, -5.5644, -5.7253999999999996, -5.6795999999999998, -5.3489000000000004, -5.5980999999999996, -5.6501000000000001, -5.4874999999999998, -5.7176, -5.6342999999999996, -5.6455000000000002, -5.6467999999999998, -6.0309999999999997, -6.1570999999999998, -6.3037999999999998, -6.3041999999999998, -6.3045, -6.3064, -6.3071000000000002, -6.3120000000000003, -5.5548999999999999, -6.4756, -6.4756, -6.4756, -6.4757999999999996, -6.6832000000000003, -6.6832000000000003, -6.6832000000000003, -6.6833, -6.6863000000000001, -5.3000999999999996, -6.6905000000000001, -5.6599000000000004, -5.2561999999999998, -5.3577000000000004, -6.6981999999999999, -6.0305, -6.9455999999999998, -6.9455999999999998, -6.9455999999999998, -6.9455999999999998, -6.9455999999999998, -5.9454000000000002, -6.1562000000000001, -6.3047000000000004, -6.3036000000000003, -5.4433999999999996, -5.4846000000000004, -4.9866999999999999, -5.2191999999999998, -5.7625000000000002, -4.9016000000000002, -5.7107999999999999, -6.0289999999999999, -5.2015000000000002, -5.6947999999999999, -5.2320000000000002, -5.6399999999999997, -5.9160000000000004, -5.8422999999999998, -5.5321999999999996, -5.3773, -5.7134, -5.2370000000000001, -5.4989999999999997, -5.5244, -5.6444000000000001, -5.3124000000000002, -5.1803999999999997, -5.3952999999999998, -5.7469999999999999, -5.6230000000000002, -5.8131000000000004, -5.5673000000000004, -5.7065000000000001, -5.5514999999999999, -5.6558000000000002, -5.6562999999999999, -5.8944000000000001, -6.0410000000000004, -6.0410000000000004, -6.0410000000000004, -6.0420999999999996, -6.2129000000000003, -6.2129000000000003, -6.2129000000000003, -6.4204999999999997, -6.4204999999999997, -6.4204999999999997, -6.4236000000000004, -6.4273999999999996, -6.6829000000000001, -6.6829000000000001, -6.6829000000000001, -6.6829000000000001, -6.6829000000000001, -6.6829000000000001, -6.6829000000000001, -6.6829000000000001, -6.6829000000000001, -6.6833, -6.6833, -6.6833999999999998, -6.6836000000000002, -6.6847000000000003, -4.7492000000000001, -6.0396999999999998, -6.0438000000000001, -6.0441000000000003, -6.0555000000000003, -5.0534999999999997, -6.2085999999999997, -6.2103999999999999, -6.2111999999999998, -6.4988999999999999, -5.3860999999999999, -5.1234999999999999, -5.9555999999999996, -5.5514999999999999, -5.7709000000000001, -5.4839000000000002, -5.4408000000000003, -5.6601999999999997, -6.0526999999999997, -5.3836000000000004, -5.3003999999999998, -5.625, -5.6367000000000003, -5.5446, -5.5933000000000002, -5.3994999999999997, -5.6856999999999998, -5.6947000000000001, -5.9150999999999998, -5.5446999999999997, -5.8949999999999996, -5.8746, -5.6974999999999998, -5.8235000000000001, -5.7199, -5.8273000000000001, -5.8613, -5.8605, -5.8190999999999997]}};\n",
       "\n",
       "function LDAvis_load_lib(url, callback){\n",
       "  var s = document.createElement('script');\n",
       "  s.src = url;\n",
       "  s.async = true;\n",
       "  s.onreadystatechange = s.onload = callback;\n",
       "  s.onerror = function(){console.warn(\"failed to load library \" + url);};\n",
       "  document.getElementsByTagName(\"head\")[0].appendChild(s);\n",
       "}\n",
       "\n",
       "if(typeof(LDAvis) !== \"undefined\"){\n",
       "   // already loaded: just create the visualization\n",
       "   !function(LDAvis){\n",
       "       new LDAvis(\"#\" + \"ldavis_el4023247920037923174680365\", ldavis_el4023247920037923174680365_data);\n",
       "   }(LDAvis);\n",
       "}else if(typeof define === \"function\" && define.amd){\n",
       "   // require.js is available: use it to load d3/LDAvis\n",
       "   require.config({paths: {d3: \"https://cdnjs.cloudflare.com/ajax/libs/d3/3.5.5/d3.min\"}});\n",
       "   require([\"d3\"], function(d3){\n",
       "      window.d3 = d3;\n",
       "      LDAvis_load_lib(\"https://cdn.rawgit.com/bmabey/pyLDAvis/files/ldavis.v1.0.0.js\", function(){\n",
       "        new LDAvis(\"#\" + \"ldavis_el4023247920037923174680365\", ldavis_el4023247920037923174680365_data);\n",
       "      });\n",
       "    });\n",
       "}else{\n",
       "    // require.js not available: dynamically load d3 & LDAvis\n",
       "    LDAvis_load_lib(\"https://cdnjs.cloudflare.com/ajax/libs/d3/3.5.5/d3.min.js\", function(){\n",
       "         LDAvis_load_lib(\"https://cdn.rawgit.com/bmabey/pyLDAvis/files/ldavis.v1.0.0.js\", function(){\n",
       "                 new LDAvis(\"#\" + \"ldavis_el4023247920037923174680365\", ldavis_el4023247920037923174680365_data);\n",
       "            })\n",
       "         });\n",
       "}\n",
       "</script>"
      ],
      "text/plain": [
       "PreparedData(topic_coordinates=            Freq  cluster  topics         x         y\n",
       "topic                                                \n",
       "2      37.217382        1       1 -0.069049  0.074285\n",
       "0      36.716878        1       2 -0.034224 -0.093100\n",
       "1      26.065740        1       3  0.103273  0.018815, topic_info=     Category       Freq      Term      Total  loglift  logprob\n",
       "term                                                           \n",
       "1052  Default  23.000000  interfac  23.000000  30.0000  30.0000\n",
       "152   Default  21.000000    better  21.000000  29.0000  29.0000\n",
       "395   Default  27.000000      game  27.000000  28.0000  28.0000\n",
       "192   Default  19.000000      free  19.000000  27.0000  27.0000\n",
       "1181  Default  20.000000    search  20.000000  26.0000  26.0000\n",
       "2153  Default  11.000000  function  11.000000  25.0000  25.0000\n",
       "1755  Default   8.000000     trail   8.000000  24.0000  24.0000\n",
       "1586  Default  16.000000      -fix  16.000000  23.0000  23.0000\n",
       "668   Default  15.000000         1  15.000000  22.0000  22.0000\n",
       "1237  Default   7.000000    explor   7.000000  21.0000  21.0000\n",
       "2054  Default   7.000000     audio   7.000000  20.0000  20.0000\n",
       "861   Default  14.000000         3  14.000000  19.0000  19.0000\n",
       "1479  Default  16.000000     devic  16.000000  18.0000  18.0000\n",
       "1277  Default  10.000000      sale  10.000000  17.0000  17.0000\n",
       "447   Default  10.000000      -bug  10.000000  16.0000  16.0000\n",
       "1646  Default  11.000000      chat  11.000000  15.0000  15.0000\n",
       "684   Default   9.000000      data   9.000000  14.0000  14.0000\n",
       "595   Default  12.000000     gener  12.000000  13.0000  13.0000\n",
       "1529  Default  14.000000         9  14.000000  12.0000  12.0000\n",
       "689   Default  21.000000   favorit  21.000000  11.0000  11.0000\n",
       "1816  Default  35.000000     crash  35.000000  10.0000  10.0000\n",
       "1743  Default  35.000000       use  35.000000   9.0000   9.0000\n",
       "2165  Default  21.000000      made  21.000000   8.0000   8.0000\n",
       "2004  Default   5.000000       pin   5.000000   7.0000   7.0000\n",
       "1953  Default   8.000000        =-   8.000000   6.0000   6.0000\n",
       "195   Default   8.000000        -=   8.000000   5.0000   5.0000\n",
       "1700  Default  14.000000  download  14.000000   4.0000   4.0000\n",
       "983   Default  10.000000     speed  10.000000   3.0000   3.0000\n",
       "1936  Default  11.000000     locat  11.000000   2.0000   2.0000\n",
       "86    Default  15.000000     notif  15.000000   1.0000   1.0000\n",
       "...       ...        ...       ...        ...      ...      ...\n",
       "730    Topic3   2.913457   magazin   3.695466   1.1068  -6.4989\n",
       "86     Topic3   8.864745     notif  15.012939   0.8177  -5.3861\n",
       "2165   Topic3  11.527233      made  21.091462   0.7404  -5.1235\n",
       "1533   Topic3   5.015591     alert   7.458187   0.9478  -5.9556\n",
       "595    Topic3   7.513258     gener  12.761423   0.8148  -5.5515\n",
       "431    Topic3   6.033472      gift   9.737198   0.8659  -5.7709\n",
       "1492   Topic3   8.038583      imag  15.081067   0.7154  -5.4839\n",
       "1479   Topic3   8.392568     devic  16.624461   0.6610  -5.4408\n",
       "1922   Topic3   6.739876   request  12.040092   0.7643  -5.6602\n",
       "494    Topic3   4.551592     offer   6.708807   0.9566  -6.0527\n",
       "1585   Topic3   8.887348       've  20.520235   0.5078  -5.3836\n",
       "866    Topic3   9.657882       get  24.396713   0.4179  -5.3004\n",
       "308    Topic3   6.981321      best  14.381607   0.6218  -5.6250\n",
       "1156   Topic3   6.899923    design  14.388929   0.6096  -5.6367\n",
       "1770   Topic3   7.565100       tap  19.057183   0.4206  -5.5446\n",
       "156    Topic3   7.205531    easier  17.511282   0.4566  -5.5933\n",
       "395    Topic3   8.746922      game  27.627268   0.1944  -5.3995\n",
       "2021   Topic3   6.570085   purchas  15.201603   0.5057  -5.6857\n",
       "1832   Topic3   6.511195      mode  15.208086   0.4962  -5.6947\n",
       "981    Topic3   5.222858     touch   9.016481   0.7985  -5.9151\n",
       "381    Topic3   7.564968      make  32.443761  -0.1114  -5.5447\n",
       "230    Topic3   5.329238   sticker   9.795805   0.7358  -5.8950\n",
       "1878   Topic3   5.438973    messag  12.145860   0.5412  -5.8746\n",
       "1731   Topic3   6.492750     chang  30.954947  -0.2173  -5.6975\n",
       "2175   Topic3   5.724193   display  16.847653   0.2650  -5.8235\n",
       "1268   Topic3   6.348744      help  31.754855  -0.2652  -5.7199\n",
       "1063   Topic3   5.702696    faster  17.639773   0.2153  -5.8273\n",
       "404    Topic3   5.511838     photo  14.504418   0.3770  -5.8613\n",
       "995    Topic3   5.516134      read  16.076585   0.2749  -5.8605\n",
       "1619   Topic3   5.749388    includ  33.381285  -0.4144  -5.8191\n",
       "\n",
       "[223 rows x 6 columns], token_table=      Topic      Freq           Term\n",
       "term                                \n",
       "1585      1  0.487324            've\n",
       "1585      2  0.097465            've\n",
       "1585      3  0.438591            've\n",
       "1138      2  0.850068            ***\n",
       "195       1  0.926108             -=\n",
       "151       1  0.766152           -add\n",
       "447       1  0.979236           -bug\n",
       "545       3  0.678237        -bugfix\n",
       "1586      1  0.121081           -fix\n",
       "1586      2  0.847568           -fix\n",
       "668       1  0.127195              1\n",
       "668       2  0.890366              1\n",
       "861       1  0.133878              3\n",
       "861       2  0.870208              3\n",
       "1529      1  0.848472              9\n",
       "1529      2  0.141412              9\n",
       "1953      1  0.926108             =-\n",
       "360       2  0.958398          abcya\n",
       "1166      2  0.168951            abl\n",
       "1166      3  0.844755            abl\n",
       "1235      3  0.678254         accept\n",
       "1907      1  0.766151       accuraci\n",
       "1188      1  0.192724         action\n",
       "1188      3  0.770895         action\n",
       "1533      1  0.134081          alert\n",
       "1533      2  0.134081          alert\n",
       "1533      3  0.670404          alert\n",
       "1397      1  0.333407           also\n",
       "1397      2  0.523925           also\n",
       "1397      3  0.142889           also\n",
       "...     ...       ...            ...\n",
       "2012      3  0.678255          upcom\n",
       "1746      1  0.610681         upgrad\n",
       "1746      2  0.203560         upgrad\n",
       "1746      3  0.203560         upgrad\n",
       "26        1  0.848724         upload\n",
       "26        2  0.106091         upload\n",
       "1743      1  0.712101            use\n",
       "1743      2  0.199388            use\n",
       "1743      3  0.113936            use\n",
       "1692      1  0.766147         vehicl\n",
       "1699      1  0.226462          video\n",
       "1699      2  0.603898          video\n",
       "1699      3  0.150974          video\n",
       "500       2  0.958397  videoshop.net\n",
       "1963      1  0.442734           view\n",
       "1963      2  0.442734           view\n",
       "1963      3  0.132820           view\n",
       "1909      3  0.678170            vpn\n",
       "1428      1  0.293618           weve\n",
       "1428      2  0.685108           weve\n",
       "94        1  0.254294           word\n",
       "94        2  0.699309           word\n",
       "98        1  0.612112           work\n",
       "98        2  0.333879           work\n",
       "98        3  0.111293           work\n",
       "73        1  0.255843          would\n",
       "73        2  0.682249          would\n",
       "73        3  0.085281          would\n",
       "1808      1  0.141485          write\n",
       "1808      2  0.848909          write\n",
       "\n",
       "[335 rows x 3 columns], R=30, lambda_step=0.01, plot_opts={'xlab': 'PC1', 'ylab': 'PC2'}, topic_order=[3, 1, 2])"
      ]
     },
     "execution_count": 264,
     "metadata": {},
     "output_type": "execute_result"
    }
   ],
   "source": [
    "dec_improv"
   ]
  },
  {
   "cell_type": "code",
   "execution_count": 265,
   "metadata": {
    "collapsed": false,
    "deletable": true,
    "editable": true
   },
   "outputs": [
    {
     "data": {
      "text/html": [
       "\n",
       "<link rel=\"stylesheet\" type=\"text/css\" href=\"https://cdn.rawgit.com/bmabey/pyLDAvis/files/ldavis.v1.0.0.css\">\n",
       "\n",
       "\n",
       "<div id=\"ldavis_el4023248204805923526109247\"></div>\n",
       "<script type=\"text/javascript\">\n",
       "\n",
       "var ldavis_el4023248204805923526109247_data = {\"plot.opts\": {\"xlab\": \"PC1\", \"ylab\": \"PC2\"}, \"topic.order\": [1, 3, 2], \"token.table\": {\"Topic\": [1, 2, 2, 2, 3, 1, 2, 3, 2, 2, 3, 2, 1, 2, 3, 3, 1, 1, 2, 3, 3, 1, 3, 1, 2, 3, 1, 2, 3, 2, 1, 1, 1, 2, 3, 2, 1, 2, 1, 2, 3, 2, 3, 1, 2, 3, 2, 2, 3, 2, 3, 2, 1, 2, 3, 1, 2, 1, 2, 1, 1, 2, 3, 2, 2, 3, 1, 3, 2, 3, 1, 2, 3, 3, 3, 1, 2, 3, 2, 1, 1, 2, 3, 2, 1, 2, 1, 3, 1, 2, 3, 1, 1, 2, 3, 2, 1, 2, 3, 1, 2, 3, 1, 2, 3, 1, 2, 3, 1, 2, 3, 3, 1, 1, 2, 3, 3, 1, 2, 1, 2, 1, 2, 3, 1, 3, 1, 2, 3, 3, 1, 2, 3, 3, 3, 3, 1, 2, 3, 1, 3, 2, 3, 1, 2, 2, 2, 1, 2, 3, 1, 2, 1, 2, 3, 1, 1, 1, 3, 1, 2, 3, 2, 1, 2, 1, 2, 3, 1, 2, 1, 2, 3, 1, 2, 1, 3, 3, 3, 1, 2, 1, 2, 1, 2, 3, 2, 1, 2, 3, 1, 1, 2, 3, 1, 2, 1, 1, 1, 1, 2, 3, 1, 3, 1, 2, 3, 3, 1, 3, 2, 1, 2, 2, 1, 2, 1, 2, 3, 1, 1, 2, 3, 2, 3, 2, 3, 1, 2, 1, 3, 1, 2, 3, 1, 1, 3, 3, 3, 1, 1, 1, 2, 3, 1, 3, 3, 1, 1, 2, 3, 1, 2, 3, 1, 2, 3, 1, 2, 3, 1, 3, 2, 3, 1, 2, 3, 1, 2, 3, 2, 1, 3, 2, 2, 1, 2, 3, 1, 2, 3], \"Freq\": [0.36606409391061823, 0.61010682318436371, 0.9053436950828132, 0.082526148751728201, 0.90778763626901027, 0.93480415460046595, 0.43237877762138177, 0.5188545331456581, 0.81466843075349948, 0.68665250312805548, 0.30517889027913575, 0.97018851500922798, 0.52475966663730023, 0.38164339391803653, 0.14311627271926369, 0.69691694959277428, 0.98570007403568349, 0.87330338001133001, 0.8527282773732735, 0.17054565547465472, 0.93223878454112119, 0.66543909931430612, 0.22181303310476871, 0.091455179087852154, 0.64018625361496506, 0.36582071635140861, 0.56245977917812717, 0.28122988958906359, 0.14061494479453179, 0.81463507533995683, 0.98570114058258518, 0.93218079155428879, 0.41198759619294367, 0.46348604571706159, 0.10299689904823592, 0.81463491416021772, 0.82166427931127639, 0.16433285586225529, 0.16882966001894564, 0.8441483000947283, 0.83760507759019143, 0.73599679752771319, 0.21028479929363234, 0.07211088887122552, 0.57688711096980416, 0.28844355548490208, 0.81463506845089184, 0.90524215640650274, 0.93223745880226583, 0.37837819667418665, 0.63063032779031114, 0.67875926524165253, 0.57463456175543948, 0.063848284639493283, 0.3192414231974664, 0.49033525774694886, 0.49033525774694886, 0.26933757811777748, 0.7182335416474066, 0.9792814790199621, 0.2115855493167508, 0.2115855493167508, 0.528963873291877, 0.84878140673326063, 0.90661167720835412, 0.050367315400464116, 0.19755028731103799, 0.79020114924415197, 0.90525623588153081, 0.83792697742597355, 0.21611002080625141, 0.360183368010419, 0.43222004161250283, 0.69691749356587662, 0.83792479572456158, 0.58901682865438576, 0.29450841432719288, 0.07362710358179822, 0.90538299991832183, 0.98570052053669688, 0.54532977167075602, 0.30296098426153112, 0.12118439370461245, 0.81455428618198555, 0.98085343545848536, 0.90518786030442855, 0.98570129785686389, 0.83778937420553001, 0.80471028740213157, 0.14631096134584209, 0.073155480672921047, 0.98108051004870533, 0.19504354515335356, 0.39008709030670713, 0.39008709030670713, 0.81463497028029985, 0.23922474592419954, 0.63793265579786551, 0.15948316394946638, 0.37351830977377998, 0.52292563368329192, 0.14940732390951197, 0.44841765382835164, 0.25623865933048667, 0.25623865933048667, 0.32687546826506203, 0.37357196373149948, 0.28017897279862458, 0.11309697167605445, 0.79167880173238125, 0.11309697167605445, 0.69691708764493687, 0.78700452076981708, 0.49039898974303975, 0.061299873717879969, 0.42909911602515977, 0.6969169205935819, 0.84422382672548779, 0.18760529482788618, 0.77312198967356183, 0.15462439793471236, 0.79067012924091085, 0.26355670974697026, 0.69691287387380929, 0.1390848402786051, 0.83450904167163065, 0.51656191380375005, 0.154968574141125, 0.30993714828225, 0.83766943394915028, 0.34937153513810043, 0.30570009324583786, 0.30570009324583786, 0.93199582413343118, 0.83784865366988703, 0.83779651249135401, 0.54726345787582276, 0.42999271690243213, 0.039090246991130194, 0.23106861217960276, 0.6932058365388083, 0.81470918565915762, 0.9322270450263026, 0.26856033108938948, 0.71616088290503865, 0.81463508762536752, 0.8146351184125763, 0.18296399437024735, 0.3659279887404947, 0.45740998592561838, 0.33552862821424456, 0.67105725642848912, 0.18289710066052728, 0.36579420132105456, 0.45724275165131817, 0.78712967114598675, 0.94985841699520845, 0.63520239742726536, 0.3528902207929252, 0.36257377362055876, 0.18128688681027938, 0.45321721702569845, 0.81463510871953826, 0.24500673479015789, 0.73502020437047366, 0.34116122100318397, 0.17058061050159198, 0.51174183150477603, 0.69404847756221888, 0.27761939102488753, 0.52651509441696975, 0.35101006294464648, 0.14040402517785858, 0.16886731201977967, 0.84433656009889835, 0.48384557822007479, 0.48384557822007479, 0.83792384535666531, 0.83779803226012262, 0.31030513381756147, 0.72404531224097668, 0.96092766770496196, 0.96997244104097147, 0.55936384743291057, 0.34960240464556913, 0.069920480929113821, 0.81463498281890867, 0.27180687767432815, 0.33975859709291018, 0.33975859709291018, 0.87337386110859616, 0.20801923851082019, 0.72806733478787067, 0.10400961925541009, 0.82230826489825137, 0.16446165297965029, 0.87360831137096728, 0.93480497136511576, 0.98085429543646219, 0.7134506173068893, 0.20384303351625407, 0.10192151675812704, 0.82986661127377859, 0.14644704904831385, 0.29924170030417113, 0.67329382568438501, 0.074810425076042783, 0.97148815435044689, 0.197779614903977, 0.79111845961590799, 0.90524202782394558, 0.78739848417964453, 0.81464729002036484, 0.90524197819069663, 0.78704731758824809, 0.96997244784245895, 0.30414913330551746, 0.20276608887034497, 0.55760674439344871, 0.91469675135853146, 0.87330513422190892, 0.96975037571683131, 0.69691781158270383, 0.67875916045796436, 0.93527242591408355, 0.37761099163097162, 0.62935165271828597, 0.37192045662743789, 0.59507273060390065, 0.8733052321202005, 0.98119600663079121, 0.38766951656372989, 0.24229344785233117, 0.38766951656372989, 0.87330387243303753, 0.87330111212099393, 0.83776639639473072, 0.83792479631894068, 0.83792767048792782, 0.78700430906006191, 0.98570007796919945, 0.66755550369682481, 0.060686863972438616, 0.3034343198621931, 0.78700675018344679, 0.83785530162526123, 0.93425931898438441, 0.9857009173803416, 0.22497626167178278, 0.67492878501534836, 0.11248813083589139, 0.2940339263817397, 0.4704542822107835, 0.23522714110539175, 0.32774220468014825, 0.1092474015600494, 0.54623700780024709, 0.51687924483834058, 0.27364195314970974, 0.18242796876647316, 0.11612192565663003, 0.81285347959641019, 0.278019500584053, 0.69504875146013256, 0.50690066746197726, 0.11264459276932828, 0.45057837107731313, 0.69799183285708066, 0.069799183285708069, 0.20939754985712419, 0.81456195680716748, 0.7870048583919057, 0.83792368968522957, 0.67875918719918382, 0.90541032026354173, 0.10510390130619689, 0.6306234078371814, 0.26275975326549222, 0.1445323810535587, 0.36133095263389675, 0.4335971431606761], \"Term\": [\"'re\", \"'re\", \"**\", \"-bug\", \"-bug\", \"...\", \"1\", \"1\", \"6s\", \"8\", \"8\", \"9\", \"access\", \"access\", \"access\", \"ada\", \"adventur\", \"album\", \"alert\", \"alert\", \"alexa\", \"appl\", \"appl\", \"applic\", \"applic\", \"applic\", \"avail\", \"avail\", \"avail\", \"averag\", \"beat\", \"beemo\", \"better\", \"better\", \"better\", \"bluetooth\", \"bring\", \"bring\", \"brows\", \"brows\", \"buffalo\", \"bugfix\", \"bugfix\", \"card\", \"card\", \"card\", \"case\", \"caus\", \"cloud\", \"comment\", \"comment\", \"commit\", \"compat\", \"compat\", \"compat\", \"connect\", \"connect\", \"contact\", \"contact\", \"content\", \"continu\", \"continu\", \"continu\", \"could\", \"crash\", \"crash\", \"creat\", \"creat\", \"credit\", \"data\", \"design\", \"design\", \"design\", \"develop\", \"dine\", \"display\", \"display\", \"display\", \"document\", \"dont\", \"download\", \"download\", \"download\", \"drink\", \"drop\", \"drug\", \"dubai\", \"earn\", \"easier\", \"easier\", \"easier\", \"edit\", \"email\", \"email\", \"email\", \"emoji\", \"enjoy\", \"enjoy\", \"enjoy\", \"even\", \"even\", \"even\", \"favorit\", \"favorit\", \"favorit\", \"feedback\", \"feedback\", \"feedback\", \"first\", \"first\", \"first\", \"flawless\", \"forget\", \"free\", \"free\", \"free\", \"freeprint\", \"friend\", \"friend\", \"function\", \"function\", \"game\", \"game\", \"gate\", \"gener\", \"gener\", \"get\", \"get\", \"get\", \"gift\", \"help\", \"help\", \"help\", \"holiday\", \"hood\", \"idea\", \"includ\", \"includ\", \"includ\", \"increas\", \"increas\", \"instal\", \"ios10\", \"ipad\", \"ipad\", \"job\", \"kid\", \"know\", \"know\", \"know\", \"latest\", \"latest\", \"let\", \"let\", \"let\", \"littl\", \"live\", \"locat\", \"locat\", \"look\", \"look\", \"look\", \"lose\", \"lot\", \"lot\", \"love\", \"love\", \"love\", \"made\", \"made\", \"make\", \"make\", \"make\", \"may\", \"may\", \"menu\", \"menu\", \"mind\", \"modul\", \"much\", \"much\", \"music\", \"note\", \"notif\", \"notif\", \"notif\", \"object\", \"one\", \"one\", \"one\", \"open\", \"optim\", \"optim\", \"optim\", \"overal\", \"overal\", \"park\", \"pay\", \"phone\", \"photo\", \"photo\", \"photo\", \"play\", \"play\", \"plu\", \"plu\", \"plu\", \"point\", \"posit\", \"posit\", \"previou\", \"princess\", \"promo\", \"provid\", \"quot\", \"rain\", \"rate\", \"rate\", \"rate\", \"recip\", \"regularli\", \"remov\", \"request\", \"reset\", \"reward\", \"scan\", \"scan\", \"search\", \"search\", \"season\", \"servic\", \"share\", \"share\", \"share\", \"shop\", \"shoutout\", \"sign\", \"sign-up\", \"smoothi\", \"song\", \"soundboard\", \"store\", \"store\", \"store\", \"stream\", \"streamlin\", \"sunshin\", \"tagsforlik\", \"text\", \"text\", \"text\", \"thi\", \"thi\", \"thi\", \"time\", \"time\", \"time\", \"use\", \"use\", \"use\", \"variou\", \"variou\", \"via\", \"via\", \"video\", \"video\", \"video\", \"view\", \"view\", \"view\", \"visual\", \"wallpap\", \"websit\", \"weight\", \"word\", \"work\", \"work\", \"work\", \"would\", \"would\", \"would\"]}, \"mdsDat\": {\"y\": [-0.10134924861065241, 0.068998859144979774, 0.03235038946567257], \"cluster\": [1, 1, 1], \"Freq\": [38.940665396063224, 32.595667055814047, 28.463667548122736], \"topics\": [1, 2, 3], \"x\": [-0.022433168449624084, -0.081839883871425975, 0.10427305232105005]}, \"R\": 30, \"lambda.step\": 0.01, \"tinfo\": {\"Category\": [\"Default\", \"Default\", \"Default\", \"Default\", \"Default\", \"Default\", \"Default\", \"Default\", \"Default\", \"Default\", \"Default\", \"Default\", \"Default\", \"Default\", \"Default\", \"Default\", \"Default\", \"Default\", \"Default\", \"Default\", \"Default\", \"Default\", \"Default\", \"Default\", \"Default\", \"Default\", \"Default\", \"Default\", \"Default\", \"Default\", \"Topic1\", \"Topic1\", \"Topic1\", \"Topic1\", \"Topic1\", \"Topic1\", \"Topic1\", \"Topic1\", \"Topic1\", \"Topic1\", \"Topic1\", \"Topic1\", \"Topic1\", \"Topic1\", \"Topic1\", \"Topic1\", \"Topic1\", \"Topic1\", \"Topic1\", \"Topic1\", \"Topic1\", \"Topic1\", \"Topic1\", \"Topic1\", \"Topic1\", \"Topic1\", \"Topic1\", \"Topic1\", \"Topic1\", \"Topic1\", \"Topic1\", \"Topic1\", \"Topic1\", \"Topic1\", \"Topic1\", \"Topic1\", \"Topic1\", \"Topic1\", \"Topic1\", \"Topic1\", \"Topic1\", \"Topic1\", \"Topic1\", \"Topic1\", \"Topic1\", \"Topic1\", \"Topic1\", \"Topic1\", \"Topic1\", \"Topic1\", \"Topic1\", \"Topic1\", \"Topic1\", \"Topic1\", \"Topic1\", \"Topic1\", \"Topic1\", \"Topic1\", \"Topic1\", \"Topic1\", \"Topic2\", \"Topic2\", \"Topic2\", \"Topic2\", \"Topic2\", \"Topic2\", \"Topic2\", \"Topic2\", \"Topic2\", \"Topic2\", \"Topic2\", \"Topic2\", \"Topic2\", \"Topic2\", \"Topic2\", \"Topic2\", \"Topic2\", \"Topic2\", \"Topic2\", \"Topic2\", \"Topic2\", \"Topic2\", \"Topic2\", \"Topic2\", \"Topic2\", \"Topic2\", \"Topic2\", \"Topic2\", \"Topic2\", \"Topic2\", \"Topic2\", \"Topic2\", \"Topic2\", \"Topic2\", \"Topic2\", \"Topic2\", \"Topic2\", \"Topic2\", \"Topic2\", \"Topic2\", \"Topic2\", \"Topic2\", \"Topic2\", \"Topic2\", \"Topic2\", \"Topic2\", \"Topic2\", \"Topic2\", \"Topic2\", \"Topic2\", \"Topic2\", \"Topic2\", \"Topic2\", \"Topic2\", \"Topic2\", \"Topic2\", \"Topic2\", \"Topic2\", \"Topic2\", \"Topic2\", \"Topic3\", \"Topic3\", \"Topic3\", \"Topic3\", \"Topic3\", \"Topic3\", \"Topic3\", \"Topic3\", \"Topic3\", \"Topic3\", \"Topic3\", \"Topic3\", \"Topic3\", \"Topic3\", \"Topic3\", \"Topic3\", \"Topic3\", \"Topic3\", \"Topic3\", \"Topic3\", \"Topic3\", \"Topic3\", \"Topic3\", \"Topic3\", \"Topic3\", \"Topic3\", \"Topic3\", \"Topic3\", \"Topic3\", \"Topic3\", \"Topic3\", \"Topic3\", \"Topic3\", \"Topic3\", \"Topic3\", \"Topic3\", \"Topic3\", \"Topic3\", \"Topic3\", \"Topic3\", \"Topic3\", \"Topic3\", \"Topic3\", \"Topic3\", \"Topic3\", \"Topic3\", \"Topic3\", \"Topic3\", \"Topic3\", \"Topic3\", \"Topic3\", \"Topic3\", \"Topic3\", \"Topic3\", \"Topic3\", \"Topic3\", \"Topic3\", \"Topic3\", \"Topic3\", \"Topic3\"], \"Term\": [\"crash\", \"-bug\", \"music\", \"ipad\", \"point\", \"9\", \"play\", \"reward\", \"beemo\", \"servic\", \"variou\", \"sunshin\", \"content\", \"optim\", \"includ\", \"8\", \"live\", \"contact\", \"gener\", \"document\", \"**\", \"work\", \"1\", \"time\", \"bugfix\", \"recip\", \"search\", \"latest\", \"function\", \"could\", \"music\", \"beemo\", \"content\", \"live\", \"recip\", \"drop\", \"phone\", \"edit\", \"...\", \"pay\", \"shoutout\", \"album\", \"shop\", \"season\", \"regularli\", \"open\", \"park\", \"song\", \"forget\", \"wallpap\", \"stream\", \"quot\", \"littl\", \"princess\", \"adventur\", \"soundboard\", \"dont\", \"tagsforlik\", \"beat\", \"dubai\", \"play\", \"friend\", \"easier\", \"function\", \"bring\", \"overal\", \"view\", \"made\", \"store\", \"use\", \"game\", \"make\", \"appl\", \"includ\", \"locat\", \"display\", \"compat\", \"photo\", \"download\", \"get\", \"access\", \"notif\", \"free\", \"video\", \"avail\", \"better\", \"help\", \"connect\", \"favorit\", \"share\", \"9\", \"crash\", \"document\", \"**\", \"could\", \"rain\", \"note\", \"remov\", \"previou\", \"caus\", \"provid\", \"drug\", \"credit\", \"word\", \"averag\", \"case\", \"lose\", \"job\", \"kid\", \"object\", \"bluetooth\", \"emoji\", \"6s\", \"promo\", \"drink\", \"visual\", \"instal\", \"weight\", \"reset\", \"commit\", \"first\", \"bugfix\", \"contact\", \"ipad\", \"optim\", \"lot\", \"may\", \"brows\", \"work\", \"much\", \"latest\", \"8\", \"plu\", \"alert\", \"search\", \"card\", \"enjoy\", \"applic\", \"includ\", \"better\", \"text\", \"thi\", \"'re\", \"make\", \"connect\", \"even\", \"feedback\", \"use\", \"access\", \"help\", \"point\", \"reward\", \"-bug\", \"servic\", \"sunshin\", \"alexa\", \"cloud\", \"ios10\", \"holiday\", \"smoothi\", \"data\", \"sign-up\", \"dine\", \"mind\", \"websit\", \"streamlin\", \"idea\", \"hood\", \"earn\", \"gift\", \"modul\", \"buffalo\", \"sign\", \"variou\", \"request\", \"develop\", \"flawless\", \"ada\", \"freeprint\", \"gate\", \"gener\", \"posit\", \"increas\", \"creat\", \"via\", \"time\", \"rate\", \"comment\", \"1\", \"continu\", \"video\", \"share\", \"love\", \"would\", \"free\", \"scan\", \"email\", \"design\", \"help\", \"menu\", \"know\", \"look\", \"feedback\", \"get\", \"let\", \"one\", \"locat\", \"use\", \"work\", \"compat\"], \"loglift\": [30.0, 29.0, 28.0, 27.0, 26.0, 25.0, 24.0, 23.0, 22.0, 21.0, 20.0, 19.0, 18.0, 17.0, 16.0, 15.0, 14.0, 13.0, 12.0, 11.0, 10.0, 9.0, 8.0, 7.0, 6.0, 5.0, 4.0, 3.0, 2.0, 1.0, 0.90920000000000001, 0.89710000000000001, 0.88849999999999996, 0.8841, 0.87609999999999999, 0.86099999999999999, 0.86099999999999999, 0.85770000000000002, 0.84860000000000002, 0.84860000000000002, 0.83189999999999997, 0.83179999999999998, 0.83179999999999998, 0.83179999999999998, 0.83179999999999998, 0.82979999999999998, 0.82699999999999996, 0.80789999999999995, 0.80789999999999995, 0.80789999999999995, 0.80779999999999996, 0.80659999999999998, 0.80559999999999998, 0.80069999999999997, 0.77059999999999995, 0.77059999999999995, 0.77059999999999995, 0.77059999999999995, 0.77059999999999995, 0.77059999999999995, 0.76590000000000003, 0.73829999999999996, 0.71619999999999995, 0.70799999999999996, 0.72170000000000001, 0.70760000000000001, 0.61650000000000005, 0.60299999999999998, 0.51659999999999995, 0.30099999999999999, 0.64429999999999998, 0.32640000000000002, 0.59989999999999999, 0.31890000000000002, 0.46279999999999999, 0.47099999999999997, 0.4209, 0.5696, 0.37990000000000002, 0.31019999999999998, 0.27089999999999997, 0.37640000000000001, 0.28889999999999999, 0.21129999999999999, 0.31369999999999998, 0.076999999999999999, -0.083199999999999996, 0.24690000000000001, 0.1779, -0.057299999999999997, 1.0714999999999999, 1.0449999999999999, 1.0419, 1.0415000000000001, 1.0313000000000001, 1.0205, 1.0205, 1.0127999999999999, 1.0026999999999999, 1.0025999999999999, 1.0024999999999999, 1.0008999999999999, 0.99880000000000002, 0.98519999999999996, 0.97729999999999995, 0.97729999999999995, 0.97729999999999995, 0.97719999999999996, 0.97719999999999996, 0.97719999999999996, 0.97719999999999996, 0.97719999999999996, 0.9758, 0.9748, 0.97450000000000003, 0.97450000000000003, 0.97430000000000005, 0.93789999999999996, 0.93789999999999996, 0.93789999999999996, 0.872, 0.86199999999999999, 0.83579999999999999, 0.76919999999999999, 0.76910000000000001, 0.83499999999999996, 0.88349999999999995, 0.88180000000000003, 0.6381, 0.7762, 0.72819999999999996, 0.69920000000000004, 0.68559999999999999, 0.87139999999999995, 0.64880000000000004, 0.62429999999999997, 0.64639999999999997, 0.64049999999999996, 0.30280000000000001, 0.40489999999999998, 0.69110000000000005, 0.39319999999999999, 0.70320000000000005, 0.0275, 0.39589999999999997, 0.4194, 0.13850000000000001, -0.14030000000000001, 0.096799999999999997, -0.018200000000000001, 1.2009000000000001, 1.1960999999999999, 1.1859999999999999, 1.1786000000000001, 1.1752, 1.1322000000000001, 1.1322000000000001, 1.1319999999999999, 1.1273, 1.1055999999999999, 1.1055999999999999, 1.1054999999999999, 1.1054999999999999, 1.1054999999999999, 1.1054999999999999, 1.1043000000000001, 1.1027, 1.1025, 1.1016999999999999, 1.1009, 1.1005, 1.0996999999999999, 1.0992999999999999, 1.0967, 1.0644, 1.0644, 1.0644, 1.0644, 1.0644, 1.0643, 1.0634999999999999, 0.97760000000000002, 0.99490000000000001, 0.95760000000000001, 0.88, 0.66259999999999997, 0.63680000000000003, 0.79110000000000003, 0.63660000000000005, 0.67789999999999995, 0.39479999999999998, 0.32640000000000002, 0.57699999999999996, 0.49490000000000001, 0.34920000000000001, 0.69410000000000005, 0.34279999999999999, 0.39329999999999998, 0.1221, 0.54279999999999995, 0.48659999999999998, 0.47260000000000002, 0.039100000000000003, 0.064500000000000002, 0.46510000000000001, 0.22770000000000001, 0.24410000000000001, -0.40139999999999998, -0.017100000000000001, 0.14860000000000001], \"Freq\": [19.0, 12.0, 14.0, 22.0, 9.0, 10.0, 20.0, 8.0, 10.0, 7.0, 8.0, 6.0, 9.0, 19.0, 25.0, 13.0, 8.0, 11.0, 7.0, 6.0, 6.0, 19.0, 11.0, 18.0, 9.0, 7.0, 13.0, 11.0, 12.0, 5.0, 14.08305720443736, 10.245310728300888, 8.7015661935251565, 7.9396741656348633, 7.156812769935005, 5.6348293018498712, 5.6347398263329698, 5.6148009366684839, 4.8663132023477251, 4.8662241644543736, 4.0980603473420656, 4.0978585795897633, 4.0978175541940587, 4.0976999238316925, 4.0976258036191053, 4.0890677234510928, 4.0766545269981425, 3.3297030659001781, 3.3296856698098445, 3.329657419539521, 3.3295083785876201, 3.3251481096605255, 3.3214835781452603, 3.3043457732568213, 2.5613022211872627, 2.5613019388363769, 2.5612784976556227, 2.561258238542035, 2.5612459832807697, 2.5612386921790793, 17.158203808464414, 8.6863729355389054, 10.893900403613957, 10.223967014214381, 4.8763638548755246, 4.8043127193881228, 10.334890964013494, 10.254203749466349, 10.756373913807669, 17.306423325249309, 5.6280727547569089, 15.375910517164632, 6.3971337334887419, 13.703777986732771, 8.7641643560355771, 8.4705304321609542, 9.2903842892971706, 6.7532034007958606, 9.3963740964904652, 10.280648920850705, 10.702844653388025, 8.1149636677343668, 8.4800086976623739, 8.5407913782919316, 7.579747310467579, 8.1668627564396896, 8.2044908582976603, 7.1159919995832688, 7.2623075144667331, 7.5883215752562121, 9.8098519281950463, 18.400850318806551, 6.1229872645602788, 6.1210301793491952, 5.3854625091479615, 4.6617660664843887, 4.6617317275221204, 4.6271838642914593, 3.925623845432225, 3.9252640774687753, 3.9248953836150786, 3.9189676274553507, 3.9102200564314016, 3.8568770908226693, 3.1896267325448031, 3.1896108218174004, 3.1895858698024049, 3.1895607015198904, 3.189557203897182, 3.1895482200481227, 3.1894987614481809, 3.189279170863045, 3.1846992589585987, 3.1816491487544378, 3.1811263218853747, 3.1809621868849005, 3.1798472956070931, 2.4535497403238722, 2.4535450289936622, 2.4535039113219081, 6.8930648830099592, 7.3410327647829083, 8.3747783427721423, 15.715138785880754, 13.524373777475084, 6.1329204045186829, 4.6701938963790042, 4.6629753298604086, 11.741233779792122, 6.848163312703532, 8.0488705700107417, 8.5962329713783259, 8.6483404934105561, 4.5685454942949448, 8.3837527839509285, 8.4389827168403873, 7.8020043963553922, 6.7625361168433056, 11.287632036665729, 9.4883676016963783, 5.7837736721384676, 8.2126771725368997, 5.3964044126951913, 9.5450600767627023, 6.9138207889534238, 6.6369777738417994, 8.0173962510596315, 9.3168969296582258, 7.5269670178002714, 7.3295914807785412, 8.7625764363636911, 8.0520210935113514, 11.292399463042884, 6.5991566854233046, 5.9206436817741475, 3.7891958724194126, 3.7890889157491032, 3.7882685221095653, 3.7713491083461284, 3.078719680380086, 3.0786665929079193, 3.0785080603075912, 3.0785080192260179, 3.0784569734246636, 3.0784294033425086, 3.0748255388009835, 3.0701992897236585, 3.0693779770743621, 3.0670452974212652, 3.0651178775968653, 3.0633739621956511, 3.0617803905716974, 3.0598851188733587, 7.3394793712090891, 2.3682018220700458, 2.3681789560274149, 2.3681448573366435, 2.3681444968804599, 2.3681402021557738, 2.3678539469563264, 5.9278087251297835, 3.8254739170473306, 3.3313890980718925, 3.7540361654833516, 4.9363364610571425, 10.108031188503555, 10.614725998956381, 4.9782125212381807, 6.2210126208754399, 5.29939570647604, 7.5003867807499658, 8.1407465789248974, 5.9426727916982571, 6.4609780072267267, 6.5842453452909835, 4.5268725453156442, 6.1682060332158493, 5.8554377322600644, 7.3641769505300365, 5.0616005238048221, 5.061672947239459, 5.0371702068950306, 6.3382574890003678, 5.8774310592238868, 4.9557667542366266, 5.2597258936064675, 5.1477894263915918, 6.2663733626354343, 5.3245346469477486, 5.1720859255702987], \"Total\": [19.0, 12.0, 14.0, 22.0, 9.0, 10.0, 20.0, 8.0, 10.0, 7.0, 8.0, 6.0, 9.0, 19.0, 25.0, 13.0, 8.0, 11.0, 7.0, 6.0, 6.0, 19.0, 11.0, 18.0, 9.0, 7.0, 13.0, 11.0, 12.0, 5.0, 14.569254763406899, 10.727532781839793, 9.1904117384175912, 8.4223078480551656, 7.6528095126646267, 6.1171218686667386, 6.1171165053929952, 6.115706038948967, 5.3487139262201859, 5.3487092529026592, 4.5803216605154269, 4.5803097658320127, 4.5803071831754743, 4.5803000518946231, 4.580300565350381, 4.5799401357428948, 4.5787110172094598, 3.8119232200684796, 3.8119221946343043, 3.811920559334192, 3.8119113963135858, 3.8117149159378507, 3.8113161147035433, 3.8100149546586524, 3.0435221412912226, 3.043522129145801, 3.043520762641529, 3.0435195373186641, 3.0435188481438615, 3.0435183625330251, 20.485219876368284, 10.660679922892637, 13.669515814830209, 12.934569361068538, 6.085210378368922, 6.0804447838289413, 14.326815199351451, 14.408215453658332, 16.478030574362144, 32.889693617542967, 7.5884996512519676, 28.489211722619412, 9.0166027307121404, 25.58182863942778, 14.168712266282899, 13.581954896392471, 15.662127896564526, 9.8114709416376673, 16.503775270560084, 19.358763650157833, 20.96197688074778, 14.301961123720121, 16.313247309485398, 17.754957879740989, 14.223239236216488, 19.418060334645144, 22.898259289606237, 14.27594669036128, 15.610446957736208, 20.63613376391141, 10.307275179303565, 19.854145333121831, 6.6270296664961501, 6.6273173741505653, 5.8907982200549167, 5.154785593262635, 5.1547856294082077, 5.1559660353872427, 4.4187077897999814, 4.4187071621571539, 4.4187080320720247, 4.4189722105362073, 4.4186384378836498, 4.417886465923762, 3.6826305309135683, 3.6826305620562017, 3.6826303800181992, 3.6826304753762744, 3.6826303361999599, 3.6826309491632681, 3.6826312595411022, 3.6826310058451814, 3.6824797509647618, 3.6825753141890463, 3.6829957817320329, 3.682961099434447, 3.6822955390797354, 2.9465531188649594, 2.9465532349509416, 2.9465527800758022, 8.8419697289890014, 9.5109109489520876, 11.13843831583034, 22.341348685643815, 19.228990686801012, 8.1630409127853145, 5.9218091887603954, 5.9231298569681563, 19.028789370752698, 9.6679032122098185, 11.921486465369167, 13.107066469575759, 13.367120945824421, 5.8635325374712517, 13.443734838733612, 13.867531182229415, 12.540508668574681, 10.934317880886731, 25.58182863942778, 19.418060334645144, 8.8898267983392589, 17.004840432966152, 8.1952861531743384, 28.489211722619412, 14.27594669036128, 13.386224635221316, 21.414883280025553, 32.889693617542967, 20.96197688074778, 22.898259289606237, 9.2641376631272969, 8.5536574995047481, 12.117371464993496, 7.1341505190552521, 6.4221997876590473, 4.2907461761193861, 4.2907522780077736, 4.2908002093922741, 4.2918647234489447, 3.5802612870548729, 3.5802642483426119, 3.5802735677225441, 3.5802735702621993, 3.5802776309857123, 3.5802782961381192, 3.5805705283246851, 3.5808217810299845, 3.5805989385548407, 3.5808522910008014, 3.5813650091739069, 3.5808152854058615, 3.5816401789624619, 3.5809505047114456, 8.611638106630938, 2.8697788559284918, 2.8697801654636592, 2.869781836973631, 2.8697824054482375, 2.8697825248618574, 2.8697991886459855, 7.1898561913496062, 5.0561328096705269, 4.3277188994528162, 5.062002255787788, 7.19373999233318, 18.307071577356201, 19.727164548494724, 7.9285752360177231, 11.563934815455527, 9.4524413716266213, 17.754957879740989, 20.63613376391141, 11.724661988950581, 13.837729548362379, 16.313247309485398, 7.9446839909040943, 15.381180636566267, 13.881818107312954, 22.898259289606237, 10.333875569129981, 10.931112467695609, 11.032237550049844, 21.414883280025553, 19.358763650157833, 10.935110468001195, 14.716331073832116, 14.168712266282899, 32.889693617542967, 19.028789370752698, 15.662127896564526], \"logprob\": [30.0, 29.0, 28.0, 27.0, 26.0, 25.0, 24.0, 23.0, 22.0, 21.0, 20.0, 19.0, 18.0, 17.0, 16.0, 15.0, 14.0, 13.0, 12.0, 11.0, 10.0, 9.0, 8.0, 7.0, 6.0, 5.0, 4.0, 3.0, 2.0, 1.0, -5.0605000000000002, -5.3785999999999996, -5.5419, -5.6336000000000004, -5.7374000000000001, -5.9764999999999997, -5.9764999999999997, -5.9800000000000004, -6.1231, -6.1231, -6.2949000000000002, -6.2949999999999999, -6.2949999999999999, -6.2949999999999999, -6.2949999999999999, -6.2971000000000004, -6.3002000000000002, -6.5026000000000002, -6.5026000000000002, -6.5026000000000002, -6.5026000000000002, -6.5038999999999998, -6.5049999999999999, -6.5102000000000002, -6.7648999999999999, -6.7648999999999999, -6.7648999999999999, -6.7648999999999999, -6.7648999999999999, -6.7649999999999997, -4.8630000000000004, -5.5437000000000003, -5.3171999999999997, -5.3807, -6.1210000000000004, -6.1359000000000004, -5.3699000000000003, -5.3777999999999997, -5.3299000000000003, -4.8544, -5.9776999999999996, -4.9725999999999999, -5.8495999999999997, -5.0877999999999997, -5.5347999999999997, -5.5688000000000004, -5.4764999999999997, -5.7953999999999999, -5.4650999999999996, -5.3752000000000004, -5.3349000000000002, -5.6116999999999999, -5.5677000000000003, -5.5606, -5.6799999999999997, -5.6054000000000004, -5.6007999999999996, -5.7431000000000001, -5.7226999999999997, -5.6787999999999998, -5.2442000000000002, -4.6151999999999997, -5.7154999999999996, -5.7159000000000004, -5.8438999999999997, -5.9882, -5.9882, -5.9955999999999996, -6.1600999999999999, -6.1600999999999999, -6.1601999999999997, -6.1618000000000004, -6.1639999999999997, -6.1776999999999997, -6.3677000000000001, -6.3677000000000001, -6.3677000000000001, -6.3677000000000001, -6.3677000000000001, -6.3677000000000001, -6.3677000000000001, -6.3677999999999999, -6.3692000000000002, -6.3701999999999996, -6.3703000000000003, -6.3704000000000001, -6.3707000000000003, -6.6299999999999999, -6.6299999999999999, -6.6300999999999997, -5.5971000000000002, -5.5340999999999996, -5.4024000000000001, -4.7729999999999997, -4.9230999999999998, -5.7138999999999998, -5.9863999999999997, -5.9878999999999998, -5.0644999999999998, -5.6036000000000001, -5.4420000000000002, -5.3762999999999996, -5.3701999999999996, -6.0084, -5.4013, -5.3947000000000003, -5.4732000000000003, -5.6162000000000001, -5.1039000000000003, -5.2774999999999999, -5.7725, -5.4218999999999999, -5.8418000000000001, -5.2716000000000003, -5.5941000000000001, -5.6349, -5.4459999999999997, -5.2957999999999998, -5.5091000000000001, -5.5357000000000003, -5.2214999999999998, -5.3060999999999998, -4.9679000000000002, -5.5050999999999997, -5.6135999999999999, -6.0598999999999998, -6.0598999999999998, -6.0601000000000003, -6.0646000000000004, -6.2675000000000001, -6.2675000000000001, -6.2675999999999998, -6.2675999999999998, -6.2675999999999998, -6.2675999999999998, -6.2687999999999997, -6.2702999999999998, -6.2706, -6.2713000000000001, -6.2718999999999996, -6.2725, -6.2729999999999997, -6.2736999999999998, -5.3987999999999996, -6.5298999999999996, -6.5298999999999996, -6.5298999999999996, -6.5298999999999996, -6.5298999999999996, -6.5300000000000002, -5.6124000000000001, -6.0503, -6.1886000000000001, -6.0692000000000004, -5.7953999999999999, -5.0787000000000004, -5.0297999999999998, -5.7869999999999999, -5.5640999999999998, -5.7244000000000002, -5.3771000000000004, -5.2950999999999997, -5.6098999999999997, -5.5262000000000002, -5.5073999999999996, -5.8819999999999997, -5.5726000000000004, -5.6246999999999998, -5.3954000000000004, -5.7702999999999998, -5.7702999999999998, -5.7751999999999999, -5.5453999999999999, -5.6208999999999998, -5.7915000000000001, -5.7320000000000002, -5.7534999999999998, -5.5568, -5.7196999999999996, -5.7488000000000001]}};\n",
       "\n",
       "function LDAvis_load_lib(url, callback){\n",
       "  var s = document.createElement('script');\n",
       "  s.src = url;\n",
       "  s.async = true;\n",
       "  s.onreadystatechange = s.onload = callback;\n",
       "  s.onerror = function(){console.warn(\"failed to load library \" + url);};\n",
       "  document.getElementsByTagName(\"head\")[0].appendChild(s);\n",
       "}\n",
       "\n",
       "if(typeof(LDAvis) !== \"undefined\"){\n",
       "   // already loaded: just create the visualization\n",
       "   !function(LDAvis){\n",
       "       new LDAvis(\"#\" + \"ldavis_el4023248204805923526109247\", ldavis_el4023248204805923526109247_data);\n",
       "   }(LDAvis);\n",
       "}else if(typeof define === \"function\" && define.amd){\n",
       "   // require.js is available: use it to load d3/LDAvis\n",
       "   require.config({paths: {d3: \"https://cdnjs.cloudflare.com/ajax/libs/d3/3.5.5/d3.min\"}});\n",
       "   require([\"d3\"], function(d3){\n",
       "      window.d3 = d3;\n",
       "      LDAvis_load_lib(\"https://cdn.rawgit.com/bmabey/pyLDAvis/files/ldavis.v1.0.0.js\", function(){\n",
       "        new LDAvis(\"#\" + \"ldavis_el4023248204805923526109247\", ldavis_el4023248204805923526109247_data);\n",
       "      });\n",
       "    });\n",
       "}else{\n",
       "    // require.js not available: dynamically load d3 & LDAvis\n",
       "    LDAvis_load_lib(\"https://cdnjs.cloudflare.com/ajax/libs/d3/3.5.5/d3.min.js\", function(){\n",
       "         LDAvis_load_lib(\"https://cdn.rawgit.com/bmabey/pyLDAvis/files/ldavis.v1.0.0.js\", function(){\n",
       "                 new LDAvis(\"#\" + \"ldavis_el4023248204805923526109247\", ldavis_el4023248204805923526109247_data);\n",
       "            })\n",
       "         });\n",
       "}\n",
       "</script>"
      ],
      "text/plain": [
       "PreparedData(topic_coordinates=            Freq  cluster  topics         x         y\n",
       "topic                                                \n",
       "0      38.940665        1       1 -0.022433 -0.101349\n",
       "2      32.595667        1       2 -0.081840  0.068999\n",
       "1      28.463668        1       3  0.104273  0.032350, topic_info=     Category       Freq      Term      Total  loglift  logprob\n",
       "term                                                           \n",
       "1646  Default  19.000000     crash  19.000000  30.0000  30.0000\n",
       "1429  Default  12.000000      -bug  12.000000  29.0000  29.0000\n",
       "429   Default  14.000000     music  14.000000  28.0000  28.0000\n",
       "1723  Default  22.000000      ipad  22.000000  27.0000  27.0000\n",
       "1345  Default   9.000000     point   9.000000  26.0000  26.0000\n",
       "1384  Default  10.000000         9  10.000000  25.0000  25.0000\n",
       "1266  Default  20.000000      play  20.000000  24.0000  24.0000\n",
       "882   Default   8.000000    reward   8.000000  23.0000  23.0000\n",
       "762   Default  10.000000     beemo  10.000000  22.0000  22.0000\n",
       "319   Default   7.000000    servic   7.000000  21.0000  21.0000\n",
       "789   Default   8.000000    variou   8.000000  20.0000  20.0000\n",
       "163   Default   6.000000   sunshin   6.000000  19.0000  19.0000\n",
       "149   Default   9.000000   content   9.000000  18.0000  18.0000\n",
       "1386  Default  19.000000     optim  19.000000  17.0000  17.0000\n",
       "1477  Default  25.000000    includ  25.000000  16.0000  16.0000\n",
       "1297  Default  13.000000         8  13.000000  15.0000  15.0000\n",
       "565   Default   8.000000      live   8.000000  14.0000  14.0000\n",
       "349   Default  11.000000   contact  11.000000  13.0000  13.0000\n",
       "529   Default   7.000000     gener   7.000000  12.0000  12.0000\n",
       "867   Default   6.000000  document   6.000000  11.0000  11.0000\n",
       "1745  Default   6.000000        **   6.000000  10.0000  10.0000\n",
       "69    Default  19.000000      work  19.000000   9.0000   9.0000\n",
       "588   Default  11.000000         1  11.000000   8.0000   8.0000\n",
       "475   Default  18.000000      time  18.000000   7.0000   7.0000\n",
       "441   Default   9.000000    bugfix   9.000000   6.0000   6.0000\n",
       "1549  Default   7.000000     recip   7.000000   5.0000   5.0000\n",
       "1079  Default  13.000000    search  13.000000   4.0000   4.0000\n",
       "1279  Default  11.000000    latest  11.000000   3.0000   3.0000\n",
       "1949  Default  12.000000  function  12.000000   2.0000   2.0000\n",
       "1693  Default   5.000000     could   5.000000   1.0000   1.0000\n",
       "...       ...        ...       ...        ...      ...      ...\n",
       "529    Topic3   5.927809     gener   7.189856   1.0635  -5.6124\n",
       "733    Topic3   3.825474     posit   5.056133   0.9776  -6.0503\n",
       "1785   Topic3   3.331389   increas   4.327719   0.9949  -6.1886\n",
       "990    Topic3   3.754036     creat   5.062002   0.9576  -6.0692\n",
       "1086   Topic3   4.936336       via   7.193740   0.8800  -5.7954\n",
       "475    Topic3  10.108031      time  18.307072   0.6626  -5.0787\n",
       "1057   Topic3  10.614726      rate  19.727165   0.6368  -5.0298\n",
       "1824   Topic3   4.978213   comment   7.928575   0.7911  -5.7870\n",
       "588    Topic3   6.221013         1  11.563935   0.6366  -5.5641\n",
       "1955   Topic3   5.299396   continu   9.452441   0.6779  -5.7244\n",
       "1555   Topic3   7.500387     video  17.754958   0.3948  -5.3771\n",
       "1120   Topic3   8.140747     share  20.636134   0.3264  -5.2951\n",
       "549    Topic3   5.942673      love  11.724662   0.5770  -5.6099\n",
       "49     Topic3   6.460978     would  13.837730   0.4949  -5.5262\n",
       "159    Topic3   6.584245      free  16.313247   0.3492  -5.5074\n",
       "1118   Topic3   4.526873      scan   7.944684   0.6941  -5.8820\n",
       "1810   Topic3   6.168206     email  15.381181   0.3428  -5.5726\n",
       "1059   Topic3   5.855438    design  13.881818   0.3933  -5.6247\n",
       "1147   Topic3   7.364177      help  22.898259   0.1221  -5.3954\n",
       "239    Topic3   5.061601      menu  10.333876   0.5428  -5.7703\n",
       "1901   Topic3   5.061673      know  10.931112   0.4866  -5.7703\n",
       "1365   Topic3   5.037170      look  11.032238   0.4726  -5.7752\n",
       "109    Topic3   6.338257  feedback  21.414883   0.0391  -5.5454\n",
       "790    Topic3   5.877431       get  19.358764   0.0645  -5.6209\n",
       "1568   Topic3   4.955767       let  10.935110   0.4651  -5.7915\n",
       "695    Topic3   5.259726       one  14.716331   0.2277  -5.7320\n",
       "1765   Topic3   5.147789     locat  14.168712   0.2441  -5.7535\n",
       "1589   Topic3   6.266373       use  32.889694  -0.4014  -5.5568\n",
       "69     Topic3   5.324535      work  19.028789  -0.0171  -5.7197\n",
       "1559   Topic3   5.172086    compat  15.662128   0.1486  -5.7488\n",
       "\n",
       "[210 rows x 6 columns], token_table=      Topic      Freq      Term\n",
       "term                           \n",
       "1494      1  0.366064       're\n",
       "1494      2  0.610107       're\n",
       "1745      2  0.905344        **\n",
       "1429      2  0.082526      -bug\n",
       "1429      3  0.907788      -bug\n",
       "1418      1  0.934804       ...\n",
       "588       2  0.432379         1\n",
       "588       3  0.518855         1\n",
       "846       2  0.814668        6s\n",
       "1297      2  0.686653         8\n",
       "1297      3  0.305179         8\n",
       "1384      2  0.970189         9\n",
       "1563      1  0.524760    access\n",
       "1563      2  0.381643    access\n",
       "1563      3  0.143116    access\n",
       "1897      3  0.696917       ada\n",
       "1165      1  0.985700  adventur\n",
       "1985      1  0.873303     album\n",
       "1389      2  0.852728     alert\n",
       "1389      3  0.170546     alert\n",
       "1952      3  0.932239     alexa\n",
       "1946      1  0.665439      appl\n",
       "1946      3  0.221813      appl\n",
       "369       1  0.091455    applic\n",
       "369       2  0.640186    applic\n",
       "369       3  0.365821    applic\n",
       "425       1  0.562460     avail\n",
       "425       2  0.281230     avail\n",
       "425       3  0.140615     avail\n",
       "98        2  0.814635    averag\n",
       "...     ...       ...       ...\n",
       "350       1  0.294034       thi\n",
       "350       2  0.470454       thi\n",
       "350       3  0.235227       thi\n",
       "475       1  0.327742      time\n",
       "475       2  0.109247      time\n",
       "475       3  0.546237      time\n",
       "1589      1  0.516879       use\n",
       "1589      2  0.273642       use\n",
       "1589      3  0.182428       use\n",
       "789       1  0.116122    variou\n",
       "789       3  0.812853    variou\n",
       "1086      2  0.278020       via\n",
       "1086      3  0.695049       via\n",
       "1555      1  0.506901     video\n",
       "1555      2  0.112645     video\n",
       "1555      3  0.450578     video\n",
       "1794      1  0.697992      view\n",
       "1794      2  0.069799      view\n",
       "1794      3  0.209398      view\n",
       "570       2  0.814562    visual\n",
       "1787      1  0.787005   wallpap\n",
       "1597      3  0.837924    websit\n",
       "1177      2  0.678759    weight\n",
       "66        2  0.905410      word\n",
       "69        1  0.105104      work\n",
       "69        2  0.630623      work\n",
       "69        3  0.262760      work\n",
       "49        1  0.144532     would\n",
       "49        2  0.361331     would\n",
       "49        3  0.433597     would\n",
       "\n",
       "[281 rows x 3 columns], R=30, lambda_step=0.01, plot_opts={'xlab': 'PC1', 'ylab': 'PC2'}, topic_order=[1, 3, 2])"
      ]
     },
     "execution_count": 265,
     "metadata": {},
     "output_type": "execute_result"
    }
   ],
   "source": [
    "dec_decrea"
   ]
  },
  {
   "cell_type": "code",
   "execution_count": null,
   "metadata": {
    "collapsed": true,
    "deletable": true,
    "editable": true
   },
   "outputs": [],
   "source": []
  }
 ],
 "metadata": {
  "anaconda-cloud": {},
  "kernelspec": {
   "display_name": "Python 2",
   "language": "python",
   "name": "python2"
  },
  "language_info": {
   "codemirror_mode": {
    "name": "ipython",
    "version": 2
   },
   "file_extension": ".py",
   "mimetype": "text/x-python",
   "name": "python",
   "nbconvert_exporter": "python",
   "pygments_lexer": "ipython2",
   "version": "2.7.13"
  }
 },
 "nbformat": 4,
 "nbformat_minor": 1
}
